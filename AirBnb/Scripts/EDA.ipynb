{
 "cells": [
  {
   "cell_type": "markdown",
   "id": "11c71f33-46bd-443f-bb54-9e6a838420a7",
   "metadata": {
    "tags": []
   },
   "source": [
    "# Import Libraries and Files"
   ]
  },
  {
   "cell_type": "code",
   "execution_count": 1,
   "id": "70fbcb42-9bf4-494b-a034-709961f19469",
   "metadata": {
    "tags": []
   },
   "outputs": [],
   "source": [
    "# Import libraries\n",
    "import pandas as pd\n",
    "import numpy as np\n",
    "import seaborn as sns\n",
    "import matplotlib.pyplot as plt\n",
    "import matplotlib\n",
    "import os"
   ]
  },
  {
   "cell_type": "code",
   "execution_count": 3,
   "id": "3b24887f-eeeb-4234-b384-a311154b6a45",
   "metadata": {
    "tags": []
   },
   "outputs": [],
   "source": [
    "# Path\n",
    "path = r'/Users/michele/Desktop/CF/files/Module6/AirBnb'"
   ]
  },
  {
   "cell_type": "code",
   "execution_count": 5,
   "id": "c00d62e3-36f2-4aff-865f-4d8b80a468d5",
   "metadata": {
    "tags": []
   },
   "outputs": [],
   "source": [
    "# Import files\n",
    "listing = pd.read_pickle(os.path.join(path, 'Data', 'Prepared', 'list_concat.pkl'))"
   ]
  },
  {
   "cell_type": "markdown",
   "id": "f3bc5ab6-58d1-4200-bbf5-b45e986b0c48",
   "metadata": {},
   "source": [
    "## Summary Statistics"
   ]
  },
  {
   "cell_type": "code",
   "execution_count": 7,
   "id": "3c063811-0906-4550-b8b7-868c4389bcf4",
   "metadata": {
    "tags": []
   },
   "outputs": [],
   "source": [
    "# Flag long rental and short rental listings\n",
    "listing.loc[listing['minimum_nights'] >= 92, 'rental_type'] = 'Long Rental'\n",
    "listing.loc[listing['minimum_nights'] < 92, 'rental_type'] = 'Short Rental'"
   ]
  },
  {
   "cell_type": "code",
   "execution_count": 9,
   "id": "658d98dd-a31c-42b8-b250-d2a90198f4ac",
   "metadata": {},
   "outputs": [],
   "source": [
    "# Subset Long Rental for further analysis \n",
    "long_rent = listing.loc[listing['rental_type'] == 'Long Rental']"
   ]
  },
  {
   "cell_type": "code",
   "execution_count": 11,
   "id": "313c205c-31c6-4911-bd61-9b9558ab54e5",
   "metadata": {
    "tags": []
   },
   "outputs": [
    {
     "data": {
      "text/plain": [
       "(20486, 19)"
      ]
     },
     "execution_count": 11,
     "metadata": {},
     "output_type": "execute_result"
    }
   ],
   "source": [
    "long_rent.shape"
   ]
  },
  {
   "cell_type": "code",
   "execution_count": 11,
   "id": "5924ae38-e979-42cf-8153-ba955d691323",
   "metadata": {
    "tags": []
   },
   "outputs": [],
   "source": [
    "# Subset Long Rental for further analysis \n",
    "short_rent = listing.loc[listing['rental_type'] == 'Short Rental']"
   ]
  },
  {
   "cell_type": "code",
   "execution_count": 16,
   "id": "934967a1-593a-42be-86bf-18b07575e69d",
   "metadata": {
    "tags": []
   },
   "outputs": [
    {
     "data": {
      "text/plain": [
       "(33041, 19)"
      ]
     },
     "execution_count": 16,
     "metadata": {},
     "output_type": "execute_result"
    }
   ],
   "source": [
    "short_rent.shape"
   ]
  },
  {
   "cell_type": "code",
   "execution_count": 18,
   "id": "7602b390-bc73-42f2-b6b0-206efb488509",
   "metadata": {
    "tags": []
   },
   "outputs": [
    {
     "data": {
      "text/html": [
       "<div>\n",
       "<style scoped>\n",
       "    .dataframe tbody tr th:only-of-type {\n",
       "        vertical-align: middle;\n",
       "    }\n",
       "\n",
       "    .dataframe tbody tr th {\n",
       "        vertical-align: top;\n",
       "    }\n",
       "\n",
       "    .dataframe thead th {\n",
       "        text-align: right;\n",
       "    }\n",
       "</style>\n",
       "<table border=\"1\" class=\"dataframe\">\n",
       "  <thead>\n",
       "    <tr style=\"text-align: right;\">\n",
       "      <th></th>\n",
       "      <th>latitude</th>\n",
       "      <th>longitude</th>\n",
       "      <th>accommodates</th>\n",
       "      <th>bedrooms</th>\n",
       "      <th>beds</th>\n",
       "      <th>price</th>\n",
       "      <th>minimum_nights</th>\n",
       "      <th>maximum_nights</th>\n",
       "      <th>availability_365</th>\n",
       "      <th>host_listings</th>\n",
       "      <th>bathrooms</th>\n",
       "    </tr>\n",
       "  </thead>\n",
       "  <tbody>\n",
       "    <tr>\n",
       "      <th>count</th>\n",
       "      <td>53527.000000</td>\n",
       "      <td>53527.000000</td>\n",
       "      <td>53527.000000</td>\n",
       "      <td>53527.000000</td>\n",
       "      <td>53527.000000</td>\n",
       "      <td>53527.000000</td>\n",
       "      <td>53527.000000</td>\n",
       "      <td>53527.000000</td>\n",
       "      <td>53527.000000</td>\n",
       "      <td>53527.000000</td>\n",
       "      <td>53527.000000</td>\n",
       "    </tr>\n",
       "    <tr>\n",
       "      <th>mean</th>\n",
       "      <td>52.509679</td>\n",
       "      <td>13.402454</td>\n",
       "      <td>2.953239</td>\n",
       "      <td>1.291049</td>\n",
       "      <td>1.647393</td>\n",
       "      <td>120.682272</td>\n",
       "      <td>41.983149</td>\n",
       "      <td>610.596577</td>\n",
       "      <td>123.936499</td>\n",
       "      <td>9.936574</td>\n",
       "      <td>1.137725</td>\n",
       "    </tr>\n",
       "    <tr>\n",
       "      <th>std</th>\n",
       "      <td>0.033590</td>\n",
       "      <td>0.067064</td>\n",
       "      <td>1.874246</td>\n",
       "      <td>0.726829</td>\n",
       "      <td>1.198251</td>\n",
       "      <td>111.890354</td>\n",
       "      <td>51.370580</td>\n",
       "      <td>488.008174</td>\n",
       "      <td>132.092173</td>\n",
       "      <td>34.560510</td>\n",
       "      <td>0.410125</td>\n",
       "    </tr>\n",
       "    <tr>\n",
       "      <th>min</th>\n",
       "      <td>52.340190</td>\n",
       "      <td>13.107580</td>\n",
       "      <td>1.000000</td>\n",
       "      <td>0.000000</td>\n",
       "      <td>1.000000</td>\n",
       "      <td>8.000000</td>\n",
       "      <td>1.000000</td>\n",
       "      <td>1.000000</td>\n",
       "      <td>0.000000</td>\n",
       "      <td>1.000000</td>\n",
       "      <td>0.000000</td>\n",
       "    </tr>\n",
       "    <tr>\n",
       "      <th>25%</th>\n",
       "      <td>52.490265</td>\n",
       "      <td>13.363385</td>\n",
       "      <td>2.000000</td>\n",
       "      <td>1.000000</td>\n",
       "      <td>1.000000</td>\n",
       "      <td>72.000000</td>\n",
       "      <td>2.000000</td>\n",
       "      <td>100.000000</td>\n",
       "      <td>0.000000</td>\n",
       "      <td>1.000000</td>\n",
       "      <td>1.000000</td>\n",
       "    </tr>\n",
       "    <tr>\n",
       "      <th>50%</th>\n",
       "      <td>52.509570</td>\n",
       "      <td>13.411290</td>\n",
       "      <td>2.000000</td>\n",
       "      <td>1.000000</td>\n",
       "      <td>1.000000</td>\n",
       "      <td>99.000000</td>\n",
       "      <td>6.000000</td>\n",
       "      <td>365.000000</td>\n",
       "      <td>74.000000</td>\n",
       "      <td>1.000000</td>\n",
       "      <td>1.000000</td>\n",
       "    </tr>\n",
       "    <tr>\n",
       "      <th>75%</th>\n",
       "      <td>52.532370</td>\n",
       "      <td>13.438265</td>\n",
       "      <td>4.000000</td>\n",
       "      <td>1.000000</td>\n",
       "      <td>2.000000</td>\n",
       "      <td>128.000000</td>\n",
       "      <td>92.000000</td>\n",
       "      <td>1125.000000</td>\n",
       "      <td>255.000000</td>\n",
       "      <td>3.000000</td>\n",
       "      <td>1.000000</td>\n",
       "    </tr>\n",
       "    <tr>\n",
       "      <th>max</th>\n",
       "      <td>52.656110</td>\n",
       "      <td>13.721390</td>\n",
       "      <td>16.000000</td>\n",
       "      <td>15.000000</td>\n",
       "      <td>29.000000</td>\n",
       "      <td>3429.000000</td>\n",
       "      <td>1000.000000</td>\n",
       "      <td>9999.000000</td>\n",
       "      <td>365.000000</td>\n",
       "      <td>281.000000</td>\n",
       "      <td>15.000000</td>\n",
       "    </tr>\n",
       "  </tbody>\n",
       "</table>\n",
       "</div>"
      ],
      "text/plain": [
       "           latitude     longitude  accommodates      bedrooms          beds  \\\n",
       "count  53527.000000  53527.000000  53527.000000  53527.000000  53527.000000   \n",
       "mean      52.509679     13.402454      2.953239      1.291049      1.647393   \n",
       "std        0.033590      0.067064      1.874246      0.726829      1.198251   \n",
       "min       52.340190     13.107580      1.000000      0.000000      1.000000   \n",
       "25%       52.490265     13.363385      2.000000      1.000000      1.000000   \n",
       "50%       52.509570     13.411290      2.000000      1.000000      1.000000   \n",
       "75%       52.532370     13.438265      4.000000      1.000000      2.000000   \n",
       "max       52.656110     13.721390     16.000000     15.000000     29.000000   \n",
       "\n",
       "              price  minimum_nights  maximum_nights  availability_365  \\\n",
       "count  53527.000000    53527.000000    53527.000000      53527.000000   \n",
       "mean     120.682272       41.983149      610.596577        123.936499   \n",
       "std      111.890354       51.370580      488.008174        132.092173   \n",
       "min        8.000000        1.000000        1.000000          0.000000   \n",
       "25%       72.000000        2.000000      100.000000          0.000000   \n",
       "50%       99.000000        6.000000      365.000000         74.000000   \n",
       "75%      128.000000       92.000000     1125.000000        255.000000   \n",
       "max     3429.000000     1000.000000     9999.000000        365.000000   \n",
       "\n",
       "       host_listings     bathrooms  \n",
       "count   53527.000000  53527.000000  \n",
       "mean        9.936574      1.137725  \n",
       "std        34.560510      0.410125  \n",
       "min         1.000000      0.000000  \n",
       "25%         1.000000      1.000000  \n",
       "50%         1.000000      1.000000  \n",
       "75%         3.000000      1.000000  \n",
       "max       281.000000     15.000000  "
      ]
     },
     "execution_count": 18,
     "metadata": {},
     "output_type": "execute_result"
    }
   ],
   "source": [
    "# Full listing dataset summary statistics\n",
    "listing.describe()"
   ]
  },
  {
   "cell_type": "code",
   "execution_count": 20,
   "id": "d7c5a1d3-9dc6-4d74-981e-68d8b8cfb3a8",
   "metadata": {
    "tags": []
   },
   "outputs": [
    {
     "data": {
      "text/html": [
       "<div>\n",
       "<style scoped>\n",
       "    .dataframe tbody tr th:only-of-type {\n",
       "        vertical-align: middle;\n",
       "    }\n",
       "\n",
       "    .dataframe tbody tr th {\n",
       "        vertical-align: top;\n",
       "    }\n",
       "\n",
       "    .dataframe thead th {\n",
       "        text-align: right;\n",
       "    }\n",
       "</style>\n",
       "<table border=\"1\" class=\"dataframe\">\n",
       "  <thead>\n",
       "    <tr style=\"text-align: right;\">\n",
       "      <th></th>\n",
       "      <th>latitude</th>\n",
       "      <th>longitude</th>\n",
       "      <th>accommodates</th>\n",
       "      <th>bedrooms</th>\n",
       "      <th>beds</th>\n",
       "      <th>price</th>\n",
       "      <th>minimum_nights</th>\n",
       "      <th>maximum_nights</th>\n",
       "      <th>availability_365</th>\n",
       "      <th>host_listings</th>\n",
       "      <th>bathrooms</th>\n",
       "    </tr>\n",
       "  </thead>\n",
       "  <tbody>\n",
       "    <tr>\n",
       "      <th>count</th>\n",
       "      <td>20486.000000</td>\n",
       "      <td>20486.000000</td>\n",
       "      <td>20486.000000</td>\n",
       "      <td>20486.000000</td>\n",
       "      <td>20486.000000</td>\n",
       "      <td>20486.000000</td>\n",
       "      <td>20486.000000</td>\n",
       "      <td>20486.000000</td>\n",
       "      <td>20486.000000</td>\n",
       "      <td>20486.000000</td>\n",
       "      <td>20486.000000</td>\n",
       "    </tr>\n",
       "    <tr>\n",
       "      <th>mean</th>\n",
       "      <td>52.510081</td>\n",
       "      <td>13.400472</td>\n",
       "      <td>2.467197</td>\n",
       "      <td>1.216538</td>\n",
       "      <td>1.374500</td>\n",
       "      <td>90.883042</td>\n",
       "      <td>96.898858</td>\n",
       "      <td>880.225715</td>\n",
       "      <td>88.653910</td>\n",
       "      <td>4.278873</td>\n",
       "      <td>1.095382</td>\n",
       "    </tr>\n",
       "    <tr>\n",
       "      <th>std</th>\n",
       "      <td>0.031957</td>\n",
       "      <td>0.062810</td>\n",
       "      <td>1.267753</td>\n",
       "      <td>0.588949</td>\n",
       "      <td>0.776731</td>\n",
       "      <td>80.683253</td>\n",
       "      <td>38.919978</td>\n",
       "      <td>380.900932</td>\n",
       "      <td>131.732764</td>\n",
       "      <td>18.401457</td>\n",
       "      <td>0.313330</td>\n",
       "    </tr>\n",
       "    <tr>\n",
       "      <th>min</th>\n",
       "      <td>52.383328</td>\n",
       "      <td>13.119827</td>\n",
       "      <td>1.000000</td>\n",
       "      <td>0.000000</td>\n",
       "      <td>1.000000</td>\n",
       "      <td>8.000000</td>\n",
       "      <td>92.000000</td>\n",
       "      <td>92.000000</td>\n",
       "      <td>0.000000</td>\n",
       "      <td>1.000000</td>\n",
       "      <td>0.000000</td>\n",
       "    </tr>\n",
       "    <tr>\n",
       "      <th>25%</th>\n",
       "      <td>52.489350</td>\n",
       "      <td>13.361618</td>\n",
       "      <td>2.000000</td>\n",
       "      <td>1.000000</td>\n",
       "      <td>1.000000</td>\n",
       "      <td>60.000000</td>\n",
       "      <td>92.000000</td>\n",
       "      <td>365.000000</td>\n",
       "      <td>0.000000</td>\n",
       "      <td>1.000000</td>\n",
       "      <td>1.000000</td>\n",
       "    </tr>\n",
       "    <tr>\n",
       "      <th>50%</th>\n",
       "      <td>52.509202</td>\n",
       "      <td>13.411690</td>\n",
       "      <td>2.000000</td>\n",
       "      <td>1.000000</td>\n",
       "      <td>1.000000</td>\n",
       "      <td>91.000000</td>\n",
       "      <td>92.000000</td>\n",
       "      <td>1125.000000</td>\n",
       "      <td>0.000000</td>\n",
       "      <td>1.000000</td>\n",
       "      <td>1.000000</td>\n",
       "    </tr>\n",
       "    <tr>\n",
       "      <th>75%</th>\n",
       "      <td>52.533150</td>\n",
       "      <td>13.438150</td>\n",
       "      <td>3.000000</td>\n",
       "      <td>1.000000</td>\n",
       "      <td>2.000000</td>\n",
       "      <td>108.000000</td>\n",
       "      <td>92.000000</td>\n",
       "      <td>1125.000000</td>\n",
       "      <td>179.000000</td>\n",
       "      <td>1.000000</td>\n",
       "      <td>1.000000</td>\n",
       "    </tr>\n",
       "    <tr>\n",
       "      <th>max</th>\n",
       "      <td>52.650760</td>\n",
       "      <td>13.696210</td>\n",
       "      <td>16.000000</td>\n",
       "      <td>14.000000</td>\n",
       "      <td>17.000000</td>\n",
       "      <td>3429.000000</td>\n",
       "      <td>1000.000000</td>\n",
       "      <td>1414.000000</td>\n",
       "      <td>365.000000</td>\n",
       "      <td>281.000000</td>\n",
       "      <td>8.000000</td>\n",
       "    </tr>\n",
       "  </tbody>\n",
       "</table>\n",
       "</div>"
      ],
      "text/plain": [
       "           latitude     longitude  accommodates      bedrooms          beds  \\\n",
       "count  20486.000000  20486.000000  20486.000000  20486.000000  20486.000000   \n",
       "mean      52.510081     13.400472      2.467197      1.216538      1.374500   \n",
       "std        0.031957      0.062810      1.267753      0.588949      0.776731   \n",
       "min       52.383328     13.119827      1.000000      0.000000      1.000000   \n",
       "25%       52.489350     13.361618      2.000000      1.000000      1.000000   \n",
       "50%       52.509202     13.411690      2.000000      1.000000      1.000000   \n",
       "75%       52.533150     13.438150      3.000000      1.000000      2.000000   \n",
       "max       52.650760     13.696210     16.000000     14.000000     17.000000   \n",
       "\n",
       "              price  minimum_nights  maximum_nights  availability_365  \\\n",
       "count  20486.000000    20486.000000    20486.000000      20486.000000   \n",
       "mean      90.883042       96.898858      880.225715         88.653910   \n",
       "std       80.683253       38.919978      380.900932        131.732764   \n",
       "min        8.000000       92.000000       92.000000          0.000000   \n",
       "25%       60.000000       92.000000      365.000000          0.000000   \n",
       "50%       91.000000       92.000000     1125.000000          0.000000   \n",
       "75%      108.000000       92.000000     1125.000000        179.000000   \n",
       "max     3429.000000     1000.000000     1414.000000        365.000000   \n",
       "\n",
       "       host_listings     bathrooms  \n",
       "count   20486.000000  20486.000000  \n",
       "mean        4.278873      1.095382  \n",
       "std        18.401457      0.313330  \n",
       "min         1.000000      0.000000  \n",
       "25%         1.000000      1.000000  \n",
       "50%         1.000000      1.000000  \n",
       "75%         1.000000      1.000000  \n",
       "max       281.000000      8.000000  "
      ]
     },
     "execution_count": 20,
     "metadata": {},
     "output_type": "execute_result"
    }
   ],
   "source": [
    "# Long rental summary statistics\n",
    "long_rent.describe()"
   ]
  },
  {
   "cell_type": "code",
   "execution_count": 22,
   "id": "53e97405-886a-4582-9686-e4e236488774",
   "metadata": {
    "tags": []
   },
   "outputs": [
    {
     "data": {
      "text/html": [
       "<div>\n",
       "<style scoped>\n",
       "    .dataframe tbody tr th:only-of-type {\n",
       "        vertical-align: middle;\n",
       "    }\n",
       "\n",
       "    .dataframe tbody tr th {\n",
       "        vertical-align: top;\n",
       "    }\n",
       "\n",
       "    .dataframe thead th {\n",
       "        text-align: right;\n",
       "    }\n",
       "</style>\n",
       "<table border=\"1\" class=\"dataframe\">\n",
       "  <thead>\n",
       "    <tr style=\"text-align: right;\">\n",
       "      <th></th>\n",
       "      <th>latitude</th>\n",
       "      <th>longitude</th>\n",
       "      <th>accommodates</th>\n",
       "      <th>bedrooms</th>\n",
       "      <th>beds</th>\n",
       "      <th>price</th>\n",
       "      <th>minimum_nights</th>\n",
       "      <th>maximum_nights</th>\n",
       "      <th>availability_365</th>\n",
       "      <th>host_listings</th>\n",
       "      <th>bathrooms</th>\n",
       "    </tr>\n",
       "  </thead>\n",
       "  <tbody>\n",
       "    <tr>\n",
       "      <th>count</th>\n",
       "      <td>33041.000000</td>\n",
       "      <td>33041.000000</td>\n",
       "      <td>33041.000000</td>\n",
       "      <td>33041.000000</td>\n",
       "      <td>33041.000000</td>\n",
       "      <td>33041.000000</td>\n",
       "      <td>33041.000000</td>\n",
       "      <td>33041.000000</td>\n",
       "      <td>33041.000000</td>\n",
       "      <td>33041.000000</td>\n",
       "      <td>33041.000000</td>\n",
       "    </tr>\n",
       "    <tr>\n",
       "      <th>mean</th>\n",
       "      <td>52.509430</td>\n",
       "      <td>13.403683</td>\n",
       "      <td>3.254593</td>\n",
       "      <td>1.337248</td>\n",
       "      <td>1.816592</td>\n",
       "      <td>139.158318</td>\n",
       "      <td>7.934445</td>\n",
       "      <td>443.421779</td>\n",
       "      <td>145.812324</td>\n",
       "      <td>13.444448</td>\n",
       "      <td>1.163978</td>\n",
       "    </tr>\n",
       "    <tr>\n",
       "      <th>std</th>\n",
       "      <td>0.034561</td>\n",
       "      <td>0.069544</td>\n",
       "      <td>2.111183</td>\n",
       "      <td>0.796995</td>\n",
       "      <td>1.370108</td>\n",
       "      <td>123.910836</td>\n",
       "      <td>17.515566</td>\n",
       "      <td>472.055223</td>\n",
       "      <td>127.503862</td>\n",
       "      <td>41.145146</td>\n",
       "      <td>0.458065</td>\n",
       "    </tr>\n",
       "    <tr>\n",
       "      <th>min</th>\n",
       "      <td>52.340190</td>\n",
       "      <td>13.107580</td>\n",
       "      <td>1.000000</td>\n",
       "      <td>0.000000</td>\n",
       "      <td>1.000000</td>\n",
       "      <td>9.000000</td>\n",
       "      <td>1.000000</td>\n",
       "      <td>1.000000</td>\n",
       "      <td>0.000000</td>\n",
       "      <td>1.000000</td>\n",
       "      <td>0.000000</td>\n",
       "    </tr>\n",
       "    <tr>\n",
       "      <th>25%</th>\n",
       "      <td>52.490840</td>\n",
       "      <td>13.364760</td>\n",
       "      <td>2.000000</td>\n",
       "      <td>1.000000</td>\n",
       "      <td>1.000000</td>\n",
       "      <td>80.000000</td>\n",
       "      <td>1.000000</td>\n",
       "      <td>31.000000</td>\n",
       "      <td>15.000000</td>\n",
       "      <td>1.000000</td>\n",
       "      <td>1.000000</td>\n",
       "    </tr>\n",
       "    <tr>\n",
       "      <th>50%</th>\n",
       "      <td>52.509760</td>\n",
       "      <td>13.411113</td>\n",
       "      <td>2.000000</td>\n",
       "      <td>1.000000</td>\n",
       "      <td>1.000000</td>\n",
       "      <td>110.000000</td>\n",
       "      <td>3.000000</td>\n",
       "      <td>365.000000</td>\n",
       "      <td>122.000000</td>\n",
       "      <td>2.000000</td>\n",
       "      <td>1.000000</td>\n",
       "    </tr>\n",
       "    <tr>\n",
       "      <th>75%</th>\n",
       "      <td>52.531870</td>\n",
       "      <td>13.438340</td>\n",
       "      <td>4.000000</td>\n",
       "      <td>2.000000</td>\n",
       "      <td>2.000000</td>\n",
       "      <td>161.000000</td>\n",
       "      <td>5.000000</td>\n",
       "      <td>1125.000000</td>\n",
       "      <td>269.000000</td>\n",
       "      <td>6.000000</td>\n",
       "      <td>1.000000</td>\n",
       "    </tr>\n",
       "    <tr>\n",
       "      <th>max</th>\n",
       "      <td>52.656110</td>\n",
       "      <td>13.721390</td>\n",
       "      <td>16.000000</td>\n",
       "      <td>15.000000</td>\n",
       "      <td>29.000000</td>\n",
       "      <td>3000.000000</td>\n",
       "      <td>91.000000</td>\n",
       "      <td>9999.000000</td>\n",
       "      <td>365.000000</td>\n",
       "      <td>281.000000</td>\n",
       "      <td>15.000000</td>\n",
       "    </tr>\n",
       "  </tbody>\n",
       "</table>\n",
       "</div>"
      ],
      "text/plain": [
       "           latitude     longitude  accommodates      bedrooms          beds  \\\n",
       "count  33041.000000  33041.000000  33041.000000  33041.000000  33041.000000   \n",
       "mean      52.509430     13.403683      3.254593      1.337248      1.816592   \n",
       "std        0.034561      0.069544      2.111183      0.796995      1.370108   \n",
       "min       52.340190     13.107580      1.000000      0.000000      1.000000   \n",
       "25%       52.490840     13.364760      2.000000      1.000000      1.000000   \n",
       "50%       52.509760     13.411113      2.000000      1.000000      1.000000   \n",
       "75%       52.531870     13.438340      4.000000      2.000000      2.000000   \n",
       "max       52.656110     13.721390     16.000000     15.000000     29.000000   \n",
       "\n",
       "              price  minimum_nights  maximum_nights  availability_365  \\\n",
       "count  33041.000000    33041.000000    33041.000000      33041.000000   \n",
       "mean     139.158318        7.934445      443.421779        145.812324   \n",
       "std      123.910836       17.515566      472.055223        127.503862   \n",
       "min        9.000000        1.000000        1.000000          0.000000   \n",
       "25%       80.000000        1.000000       31.000000         15.000000   \n",
       "50%      110.000000        3.000000      365.000000        122.000000   \n",
       "75%      161.000000        5.000000     1125.000000        269.000000   \n",
       "max     3000.000000       91.000000     9999.000000        365.000000   \n",
       "\n",
       "       host_listings     bathrooms  \n",
       "count   33041.000000  33041.000000  \n",
       "mean       13.444448      1.163978  \n",
       "std        41.145146      0.458065  \n",
       "min         1.000000      0.000000  \n",
       "25%         1.000000      1.000000  \n",
       "50%         2.000000      1.000000  \n",
       "75%         6.000000      1.000000  \n",
       "max       281.000000     15.000000  "
      ]
     },
     "execution_count": 22,
     "metadata": {},
     "output_type": "execute_result"
    }
   ],
   "source": [
    "# Short rental summary statistics\n",
    "short_rent.describe()"
   ]
  },
  {
   "cell_type": "markdown",
   "id": "96a5fe17-b522-4b86-b277-59f8e1135fe2",
   "metadata": {},
   "source": [
    "## Visualisations"
   ]
  },
  {
   "cell_type": "code",
   "execution_count": 13,
   "id": "fa2e473a-55c1-47a2-897b-059354ef7368",
   "metadata": {
    "tags": []
   },
   "outputs": [],
   "source": [
    "# Set last_scraped to date\n",
    "listing['last_scraped'] = pd.to_datetime(listing['last_scraped'])"
   ]
  },
  {
   "cell_type": "code",
   "execution_count": 15,
   "id": "3c356933-9785-4f30-9fc7-cd6a883091e9",
   "metadata": {
    "tags": []
   },
   "outputs": [],
   "source": [
    "# Convert to quarter\n",
    "listing['quarter'] = listing['last_scraped'].dt.to_period('Q')"
   ]
  },
  {
   "cell_type": "code",
   "execution_count": 17,
   "id": "1624c1a8-fdf6-45e7-ba26-562771065166",
   "metadata": {
    "tags": []
   },
   "outputs": [],
   "source": [
    "# Convert to datetime\n",
    "listing['quarter'] = listing['quarter'].dt.to_timestamp()"
   ]
  },
  {
   "cell_type": "code",
   "execution_count": 19,
   "id": "e8ba4005-b56a-428c-b38a-8b5e3dc50880",
   "metadata": {
    "tags": []
   },
   "outputs": [],
   "source": [
    "# Group the listings per quarter\n",
    "data = listing.groupby('quarter')['id'].nunique().reset_index()"
   ]
  },
  {
   "cell_type": "code",
   "execution_count": 32,
   "id": "da3c67fe-d068-4f01-8e34-e1c1ef842763",
   "metadata": {
    "tags": []
   },
   "outputs": [
    {
     "data": {
      "image/png": "[encoded data removed]",
      "text/plain": [
       "<Figure size 700x500 with 1 Axes>"
      ]
     },
     "metadata": {},
     "output_type": "display_data"
    }
   ],
   "source": [
    "# Plot the frequency of the listings over time\n",
    "plt.figure(figsize=(7, 5), dpi=100)\n",
    "sns.barplot(data=data, x='quarter', y='id', color='#F27457')\n",
    "plt.title('Total Number of Listings per Quarter')\n",
    "plt.xlabel('Quarter')\n",
    "plt.ylabel('Number of Listings')\n",
    "plt.xticks(rotation=45)\n",
    "plt.grid(False)\n",
    "plt.tight_layout()\n",
    "# Save figure \n",
    "plt.savefig(os.path.join(path, 'Analysis', 'listings_quarters.jpg'), bbox_inches='tight')\n",
    "# Show figure\n",
    "plt.show()"
   ]
  },
  {
   "cell_type": "code",
   "execution_count": 34,
   "id": "454040d6-b779-4ef7-9bc9-bdd1b089bc7f",
   "metadata": {},
   "outputs": [],
   "source": [
    "# Set the variables to plot for rental distribution\n",
    "to_plot = listing.groupby('rental_type')['id'].nunique().reset_index()"
   ]
  },
  {
   "cell_type": "code",
   "execution_count": 36,
   "id": "7a4873da-e0ca-447e-b5fc-40fc2755cb70",
   "metadata": {
    "tags": []
   },
   "outputs": [],
   "source": [
    "# Set the colours\n",
    "colours = ['#F79E6B', '#F7CD82']"
   ]
  },
  {
   "cell_type": "code",
   "execution_count": 38,
   "id": "f84f0577-3f5e-48f1-bd72-a76be147023e",
   "metadata": {
    "tags": []
   },
   "outputs": [
    {
     "data": {
      "image/png": "[encoded data removed]",
      "text/plain": [
       "<Figure size 400x400 with 1 Axes>"
      ]
     },
     "metadata": {},
     "output_type": "display_data"
    }
   ],
   "source": [
    "# Short Rental VS Long Rental pie\n",
    "plt.figure(figsize=(4, 4))  \n",
    "plt.pie(to_plot['id'], \n",
    "        labels=to_plot['rental_type'], \n",
    "        colors=colours, \n",
    "        autopct='%1.1f%%', \n",
    "        startangle=140, \n",
    "        pctdistance=0.80,\n",
    "        wedgeprops=dict(width=0.5))\n",
    "centre_circle = plt.Circle((0, 0), 0.60, fc='white')\n",
    "plt.gca().add_artist(centre_circle)\n",
    "plt.axis('equal')\n",
    "plt.title('Distribution of Rental Types')\n",
    "# Save figure\n",
    "plt.savefig(os.path.join(path, 'Analysis', 'rental_types_dist.jpg'), bbox_inches='tight')\n",
    "# Show figure\n",
    "plt.show()"
   ]
  },
  {
   "cell_type": "code",
   "execution_count": 40,
   "id": "8f4529a2-2f3d-440a-9838-166065d9114f",
   "metadata": {
    "tags": []
   },
   "outputs": [],
   "source": [
    "# Group data to plot\n",
    "rent_opt = listing.groupby(['room_type', 'rental_type']).size().unstack().fillna(0)"
   ]
  },
  {
   "cell_type": "code",
   "execution_count": 42,
   "id": "5dbdfd60-ee10-4f12-aef9-1cf2cb0f59e8",
   "metadata": {
    "tags": []
   },
   "outputs": [
    {
     "data": {
      "image/png": "[encoded data removed]",
      "text/plain": [
       "<Figure size 700x500 with 1 Axes>"
      ]
     },
     "metadata": {},
     "output_type": "display_data"
    }
   ],
   "source": [
    "fig, ax = plt.subplots(figsize=(7, 5), dpi=100)\n",
    "# Plot the stacked bar\n",
    "rent_opt.plot(kind='bar', stacked=True, color=['#F79E6B', '#F7CD82'], ax=ax)\n",
    "# Add title and labels\n",
    "ax.set_title('Rental Options')\n",
    "ax.set_xlabel('Listing Types')\n",
    "ax.set_ylabel('Listings')\n",
    "plt.xticks(rotation=45)\n",
    "# Adjust layout to prevent labels from being cut off\n",
    "plt.tight_layout()\n",
    "# Save figure\n",
    "plt.savefig(os.path.join(path, 'Analysis', 'rental_options_type.jpg'))\n",
    "# Show figure\n",
    "plt.show()"
   ]
  },
  {
   "cell_type": "code",
   "execution_count": 44,
   "id": "a5a6ae2b-7195-4d17-96fe-d4a1ad886651",
   "metadata": {},
   "outputs": [],
   "source": [
    "# Group data to plot\n",
    "license_short = short_rent.groupby(['room_type', 'license']).size().unstack()"
   ]
  },
  {
   "cell_type": "code",
   "execution_count": 46,
   "id": "313b5061-38ce-4db0-af64-12142fde6d68",
   "metadata": {
    "tags": []
   },
   "outputs": [
    {
     "data": {
      "image/png": "[encoded data removed]",
      "text/plain": [
       "<Figure size 700x500 with 1 Axes>"
      ]
     },
     "metadata": {},
     "output_type": "display_data"
    }
   ],
   "source": [
    "fig, ax=plt.subplots(figsize=(7,5), dpi=100)\n",
    "# Plot the stacked bar chart\n",
    "license_short.plot(kind='bar', stacked=True, color=['#E0D5AD', '#92A78C'], ax=ax)\n",
    "# Add title and labels\n",
    "ax.set_title('Licensed Short Rental')\n",
    "ax.set_xlabel('Listing Types')\n",
    "ax.set_ylabel('Has License')\n",
    "plt.xticks(rotation=45)\n",
    "# Adjust layout to prevent labels from being cut off\n",
    "plt.tight_layout()\n",
    "# Save figure\n",
    "plt.savefig(os.path.join(path, 'Analysis', 'short_rent_license.jpg'))\n",
    "# Show figure\n",
    "plt.show()"
   ]
  },
  {
   "cell_type": "markdown",
   "id": "8f8f0ff4-f2fa-44ce-b86b-5c367a4f855f",
   "metadata": {},
   "source": [
    "Since 2021, renting an entire property for short-term use requires obtaining a license. However, private and shared rooms may be rented without a license, provided they are located within the primary residence of the host, and the rooms do not exceed 49% of the total living area.<br/>\n",
    "The chart shows that nearly all hosts listing private and shared rooms have a license, which may suggest that the rented area exceeds 49% of the total living space, potentially indicating the absence of a second bedroom or that the listing is not the main residence. "
   ]
  },
  {
   "cell_type": "code",
   "execution_count": 37,
   "id": "8137fdf2-6dd5-4ca9-ac0b-231803808b65",
   "metadata": {
    "tags": []
   },
   "outputs": [],
   "source": [
    "# Group data to plot\n",
    "license_long = long_rent.groupby(['room_type', 'license']).size().unstack()"
   ]
  },
  {
   "cell_type": "code",
   "execution_count": 39,
   "id": "c9152598-f9f4-4d98-b33d-9a55df23953b",
   "metadata": {
    "tags": []
   },
   "outputs": [
    {
     "data": {
      "image/png": "[encoded data removed]",
      "text/plain": [
       "<Figure size 700x500 with 1 Axes>"
      ]
     },
     "metadata": {},
     "output_type": "display_data"
    }
   ],
   "source": [
    "fig, ax=plt.subplots(figsize=(7, 5), dpi=100)\n",
    "# Plot the stacked bar chart\n",
    "license_long.plot(kind='bar', stacked=True, color=['#E0D5AD', '#92A78C'], ax=ax)\n",
    "# Add title and labels\n",
    "ax.set_title('Licensed Long Rental')\n",
    "ax.set_xlabel('Listing Types')\n",
    "ax.set_ylabel('Has License')\n",
    "plt.xticks(rotation=45)\n",
    "# Adjust layout to prevent labels from being cut off\n",
    "plt.tight_layout()\n",
    "#Save figure\n",
    "plt.savefig(os.path.join(path, 'Analysis', 'long_rent_license.jpg'))\n",
    "# Show figure \n",
    "plt.show()"
   ]
  },
  {
   "cell_type": "markdown",
   "id": "85bab45e-c8c9-4dd2-a582-671ac57d92dd",
   "metadata": {},
   "source": [
    "Long-term rentals (minimum 3 months) do not require a license. Only a few have one, which may suggest a mixed use of the properties for both short- and long-term rentals."
   ]
  },
  {
   "cell_type": "markdown",
   "id": "f038582c-8b2e-4556-a0ea-59046729a012",
   "metadata": {
    "tags": []
   },
   "source": [
    "## Export Files"
   ]
  },
  {
   "cell_type": "code",
   "execution_count": 52,
   "id": "7f87fef0-fdee-4ebd-9f09-63a7b3484544",
   "metadata": {
    "tags": []
   },
   "outputs": [],
   "source": [
    "listing.to_pickle(os.path.join(path, 'Data', 'Prepared', 'listing_rental.pkl'))"
   ]
  },
  {
   "cell_type": "code",
   "execution_count": 54,
   "id": "abe6e365-484d-4b8a-8cc0-f1be3cb1ddbc",
   "metadata": {
    "tags": []
   },
   "outputs": [],
   "source": [
    "short_rent.to_pickle(os.path.join(path, 'Data', 'Prepared', 'short_rental.pkl'))"
   ]
  },
  {
   "cell_type": "code",
   "execution_count": 56,
   "id": "709db62b-4007-49a2-9a5d-9a2fd40d9fec",
   "metadata": {
    "tags": []
   },
   "outputs": [],
   "source": [
    "long_rent.to_pickle(os.path.join(path, 'Data', 'Prepared', 'long_rental.pkl'))"
   ]
  },
  {
   "cell_type": "code",
   "execution_count": null,
   "id": "e5f47073-eece-4b30-807a-e1047fd53e75",
   "metadata": {},
   "outputs": [],
   "source": []
  }
 ],
 "metadata": {
  "kernelspec": {
   "display_name": "Python 3 (ipykernel)",
   "language": "python",
   "name": "python3"
  },
  "language_info": {
   "codemirror_mode": {
    "name": "ipython",
    "version": 3
   },
   "file_extension": ".py",
   "mimetype": "text/x-python",
   "name": "python",
   "nbconvert_exporter": "python",
   "pygments_lexer": "ipython3",
   "version": "3.11.8"
  }
 },
 "nbformat": 4,
 "nbformat_minor": 5
}
