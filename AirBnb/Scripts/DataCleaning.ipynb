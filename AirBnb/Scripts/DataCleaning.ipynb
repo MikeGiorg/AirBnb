{
 "cells": [
  {
   "cell_type": "markdown",
   "id": "7cd49861-8d3e-4de2-bfa7-058eab4d198d",
   "metadata": {},
   "source": [
    "## Import Libraries and files"
   ]
  },
  {
   "cell_type": "code",
   "execution_count": 9,
   "id": "23783173-b52c-4c18-99c6-46a2f6549774",
   "metadata": {
    "tags": []
   },
   "outputs": [],
   "source": [
    "# Import libraries\n",
    "import pandas as pd\n",
    "import numpy as np\n",
    "import os"
   ]
  },
  {
   "cell_type": "code",
   "execution_count": 11,
   "id": "6b89dd53-116f-48a2-84d8-460a22d1ba70",
   "metadata": {
    "tags": []
   },
   "outputs": [],
   "source": [
    "# Path\n",
    "path = r'/Users/michele/Desktop/CF/Files/Module6/AirBnb/Data'"
   ]
  },
  {
   "cell_type": "code",
   "execution_count": 729,
   "id": "25d35c94-d77a-4561-96c1-b85682467d3d",
   "metadata": {
    "tags": []
   },
   "outputs": [],
   "source": [
    "# Import listings1\n",
    "lst1 = pd.read_csv(os.path.join(path, 'Original', 'listings1.csv'))"
   ]
  },
  {
   "cell_type": "code",
   "execution_count": 731,
   "id": "072c619c-3c85-4297-b452-56360bf86de3",
   "metadata": {
    "tags": []
   },
   "outputs": [],
   "source": [
    "# Import listings2\n",
    "lst2 = pd.read_csv(os.path.join(path, 'Original', 'listings2.csv'))"
   ]
  },
  {
   "cell_type": "code",
   "execution_count": 733,
   "id": "273233b2-4b72-4a03-9512-7e142300ec18",
   "metadata": {
    "tags": []
   },
   "outputs": [],
   "source": [
    "# Import listings3\n",
    "lst3 = pd.read_csv(os.path.join(path, 'Original', 'listings3.csv'))"
   ]
  },
  {
   "cell_type": "code",
   "execution_count": 735,
   "id": "7b0c025d-de3d-4a8c-ad17-555acecf6b3c",
   "metadata": {
    "tags": []
   },
   "outputs": [],
   "source": [
    "# Import listings4\n",
    "lst4 = pd.read_csv(os.path.join(path, 'Original', 'listings4.csv'))"
   ]
  },
  {
   "cell_type": "code",
   "execution_count": 737,
   "id": "85834c7a-1cc7-4bc1-b1b5-0597016a4b07",
   "metadata": {
    "tags": []
   },
   "outputs": [],
   "source": [
    "# Import GeoJson file\n",
    "geo = r'/Users/michele/Desktop/CF/files/Module6/AirBnb/Data/Original/bezirks.geojson'"
   ]
  },
  {
   "cell_type": "markdown",
   "id": "a3fffa9e-d287-43e5-82fb-a3fc8d350889",
   "metadata": {},
   "source": [
    "## Data Cleaning"
   ]
  },
  {
   "cell_type": "markdown",
   "id": "8b619bb9-c610-45f1-a497-60f070c14227",
   "metadata": {},
   "source": [
    "##### Lst1"
   ]
  },
  {
   "cell_type": "code",
   "execution_count": 29,
   "id": "3c2445d7-c172-4639-a024-80ccf0599524",
   "metadata": {
    "tags": []
   },
   "outputs": [
    {
     "data": {
      "text/plain": [
       "(13134, 75)"
      ]
     },
     "execution_count": 29,
     "metadata": {},
     "output_type": "execute_result"
    }
   ],
   "source": [
    "# Lst1 size\n",
    "lst1.shape"
   ]
  },
  {
   "cell_type": "code",
   "execution_count": 32,
   "id": "eeff1a8b-0e4f-47fb-891c-e51b8ae90dd3",
   "metadata": {
    "tags": []
   },
   "outputs": [
    {
     "data": {
      "text/plain": [
       "Index(['id', 'listing_url', 'scrape_id', 'last_scraped', 'source', 'name',\n",
       "       'description', 'neighborhood_overview', 'picture_url', 'host_id',\n",
       "       'host_url', 'host_name', 'host_since', 'host_location', 'host_about',\n",
       "       'host_response_time', 'host_response_rate', 'host_acceptance_rate',\n",
       "       'host_is_superhost', 'host_thumbnail_url', 'host_picture_url',\n",
       "       'host_neighbourhood', 'host_listings_count',\n",
       "       'host_total_listings_count', 'host_verifications',\n",
       "       'host_has_profile_pic', 'host_identity_verified', 'neighbourhood',\n",
       "       'neighbourhood_cleansed', 'neighbourhood_group_cleansed', 'latitude',\n",
       "       'longitude', 'property_type', 'room_type', 'accommodates', 'bathrooms',\n",
       "       'bathrooms_text', 'bedrooms', 'beds', 'amenities', 'price',\n",
       "       'minimum_nights', 'maximum_nights', 'minimum_minimum_nights',\n",
       "       'maximum_minimum_nights', 'minimum_maximum_nights',\n",
       "       'maximum_maximum_nights', 'minimum_nights_avg_ntm',\n",
       "       'maximum_nights_avg_ntm', 'calendar_updated', 'has_availability',\n",
       "       'availability_30', 'availability_60', 'availability_90',\n",
       "       'availability_365', 'calendar_last_scraped', 'number_of_reviews',\n",
       "       'number_of_reviews_ltm', 'number_of_reviews_l30d', 'first_review',\n",
       "       'last_review', 'review_scores_rating', 'review_scores_accuracy',\n",
       "       'review_scores_cleanliness', 'review_scores_checkin',\n",
       "       'review_scores_communication', 'review_scores_location',\n",
       "       'review_scores_value', 'license', 'instant_bookable',\n",
       "       'calculated_host_listings_count',\n",
       "       'calculated_host_listings_count_entire_homes',\n",
       "       'calculated_host_listings_count_private_rooms',\n",
       "       'calculated_host_listings_count_shared_rooms', 'reviews_per_month'],\n",
       "      dtype='object')"
      ]
     },
     "execution_count": 32,
     "metadata": {},
     "output_type": "execute_result"
    }
   ],
   "source": [
    "# Lst1 columns names\n",
    "lst1.columns"
   ]
  },
  {
   "cell_type": "code",
   "execution_count": 35,
   "id": "bea64010-0c22-4e35-886c-232482fe1213",
   "metadata": {
    "tags": []
   },
   "outputs": [
    {
     "data": {
      "text/html": [
       "<div>\n",
       "<style scoped>\n",
       "    .dataframe tbody tr th:only-of-type {\n",
       "        vertical-align: middle;\n",
       "    }\n",
       "\n",
       "    .dataframe tbody tr th {\n",
       "        vertical-align: top;\n",
       "    }\n",
       "\n",
       "    .dataframe thead th {\n",
       "        text-align: right;\n",
       "    }\n",
       "</style>\n",
       "<table border=\"1\" class=\"dataframe\">\n",
       "  <thead>\n",
       "    <tr style=\"text-align: right;\">\n",
       "      <th></th>\n",
       "      <th>id</th>\n",
       "      <th>listing_url</th>\n",
       "      <th>scrape_id</th>\n",
       "      <th>last_scraped</th>\n",
       "      <th>source</th>\n",
       "      <th>name</th>\n",
       "      <th>description</th>\n",
       "      <th>neighborhood_overview</th>\n",
       "      <th>picture_url</th>\n",
       "      <th>host_id</th>\n",
       "      <th>...</th>\n",
       "      <th>review_scores_communication</th>\n",
       "      <th>review_scores_location</th>\n",
       "      <th>review_scores_value</th>\n",
       "      <th>license</th>\n",
       "      <th>instant_bookable</th>\n",
       "      <th>calculated_host_listings_count</th>\n",
       "      <th>calculated_host_listings_count_entire_homes</th>\n",
       "      <th>calculated_host_listings_count_private_rooms</th>\n",
       "      <th>calculated_host_listings_count_shared_rooms</th>\n",
       "      <th>reviews_per_month</th>\n",
       "    </tr>\n",
       "  </thead>\n",
       "  <tbody>\n",
       "    <tr>\n",
       "      <th>0</th>\n",
       "      <td>3176</td>\n",
       "      <td>https://www.airbnb.com/rooms/3176</td>\n",
       "      <td>20230916061000</td>\n",
       "      <td>2023-09-16</td>\n",
       "      <td>city scrape</td>\n",
       "      <td>Rental unit in Berlin · ★4.63 · 1 bedroom · 2 ...</td>\n",
       "      <td>This beautiful first floor apartment  is situa...</td>\n",
       "      <td>The neighbourhood is famous for its variety of...</td>\n",
       "      <td>https://a0.muscache.com/pictures/243355/84afcf...</td>\n",
       "      <td>3718</td>\n",
       "      <td>...</td>\n",
       "      <td>4.69</td>\n",
       "      <td>4.92</td>\n",
       "      <td>4.62</td>\n",
       "      <td>First name and Last name: Nicolas Krotz &lt;br/&gt; ...</td>\n",
       "      <td>f</td>\n",
       "      <td>1</td>\n",
       "      <td>1</td>\n",
       "      <td>0</td>\n",
       "      <td>0</td>\n",
       "      <td>0.85</td>\n",
       "    </tr>\n",
       "    <tr>\n",
       "      <th>1</th>\n",
       "      <td>9991</td>\n",
       "      <td>https://www.airbnb.com/rooms/9991</td>\n",
       "      <td>20230916061000</td>\n",
       "      <td>2023-09-16</td>\n",
       "      <td>city scrape</td>\n",
       "      <td>Rental unit in Berlin · ★5.0 · 4 bedrooms · 7 ...</td>\n",
       "      <td>4 bedroom with very large windows and outstand...</td>\n",
       "      <td>Prenzlauer Berg is an amazing neighbourhood wh...</td>\n",
       "      <td>https://a0.muscache.com/pictures/42799131/59c8...</td>\n",
       "      <td>33852</td>\n",
       "      <td>...</td>\n",
       "      <td>5.00</td>\n",
       "      <td>4.86</td>\n",
       "      <td>4.86</td>\n",
       "      <td>03/Z/RA/003410-18</td>\n",
       "      <td>f</td>\n",
       "      <td>1</td>\n",
       "      <td>1</td>\n",
       "      <td>0</td>\n",
       "      <td>0</td>\n",
       "      <td>0.08</td>\n",
       "    </tr>\n",
       "    <tr>\n",
       "      <th>2</th>\n",
       "      <td>14325</td>\n",
       "      <td>https://www.airbnb.com/rooms/14325</td>\n",
       "      <td>20230916061000</td>\n",
       "      <td>2023-09-16</td>\n",
       "      <td>city scrape</td>\n",
       "      <td>Rental unit in Berlin · ★4.67 · Studio · 1 bed...</td>\n",
       "      <td>The apartment is located on the upper second f...</td>\n",
       "      <td>NaN</td>\n",
       "      <td>https://a0.muscache.com/pictures/508703/24988a...</td>\n",
       "      <td>55531</td>\n",
       "      <td>...</td>\n",
       "      <td>4.84</td>\n",
       "      <td>4.58</td>\n",
       "      <td>4.42</td>\n",
       "      <td>NaN</td>\n",
       "      <td>f</td>\n",
       "      <td>4</td>\n",
       "      <td>4</td>\n",
       "      <td>0</td>\n",
       "      <td>0</td>\n",
       "      <td>0.16</td>\n",
       "    </tr>\n",
       "    <tr>\n",
       "      <th>3</th>\n",
       "      <td>16644</td>\n",
       "      <td>https://www.airbnb.com/rooms/16644</td>\n",
       "      <td>20230916061000</td>\n",
       "      <td>2023-09-16</td>\n",
       "      <td>city scrape</td>\n",
       "      <td>Condo in Berlin · ★4.72 · 1 bedroom · 1 bed · ...</td>\n",
       "      <td>Light and sunny 2-Room-turn of the century-fla...</td>\n",
       "      <td>Our Part of Kreuzberg is just the best. Good v...</td>\n",
       "      <td>https://a0.muscache.com/pictures/73759174/e2ef...</td>\n",
       "      <td>64696</td>\n",
       "      <td>...</td>\n",
       "      <td>4.86</td>\n",
       "      <td>4.67</td>\n",
       "      <td>4.71</td>\n",
       "      <td>NaN</td>\n",
       "      <td>f</td>\n",
       "      <td>2</td>\n",
       "      <td>2</td>\n",
       "      <td>0</td>\n",
       "      <td>0</td>\n",
       "      <td>0.30</td>\n",
       "    </tr>\n",
       "    <tr>\n",
       "      <th>4</th>\n",
       "      <td>17904</td>\n",
       "      <td>https://www.airbnb.com/rooms/17904</td>\n",
       "      <td>20230916061000</td>\n",
       "      <td>2023-09-16</td>\n",
       "      <td>city scrape</td>\n",
       "      <td>Rental unit in Berlin · ★4.77 · Studio · 1 bed...</td>\n",
       "      <td>- apt is available starting April 1, 2023&lt;br /...</td>\n",
       "      <td>NaN</td>\n",
       "      <td>https://a0.muscache.com/pictures/d9a6f8be-54b9...</td>\n",
       "      <td>68997</td>\n",
       "      <td>...</td>\n",
       "      <td>4.92</td>\n",
       "      <td>4.87</td>\n",
       "      <td>4.65</td>\n",
       "      <td>NaN</td>\n",
       "      <td>f</td>\n",
       "      <td>1</td>\n",
       "      <td>1</td>\n",
       "      <td>0</td>\n",
       "      <td>0</td>\n",
       "      <td>1.81</td>\n",
       "    </tr>\n",
       "  </tbody>\n",
       "</table>\n",
       "<p>5 rows × 75 columns</p>\n",
       "</div>"
      ],
      "text/plain": [
       "      id                         listing_url       scrape_id last_scraped  \\\n",
       "0   3176   https://www.airbnb.com/rooms/3176  20230916061000   2023-09-16   \n",
       "1   9991   https://www.airbnb.com/rooms/9991  20230916061000   2023-09-16   \n",
       "2  14325  https://www.airbnb.com/rooms/14325  20230916061000   2023-09-16   \n",
       "3  16644  https://www.airbnb.com/rooms/16644  20230916061000   2023-09-16   \n",
       "4  17904  https://www.airbnb.com/rooms/17904  20230916061000   2023-09-16   \n",
       "\n",
       "        source                                               name  \\\n",
       "0  city scrape  Rental unit in Berlin · ★4.63 · 1 bedroom · 2 ...   \n",
       "1  city scrape  Rental unit in Berlin · ★5.0 · 4 bedrooms · 7 ...   \n",
       "2  city scrape  Rental unit in Berlin · ★4.67 · Studio · 1 bed...   \n",
       "3  city scrape  Condo in Berlin · ★4.72 · 1 bedroom · 1 bed · ...   \n",
       "4  city scrape  Rental unit in Berlin · ★4.77 · Studio · 1 bed...   \n",
       "\n",
       "                                         description  \\\n",
       "0  This beautiful first floor apartment  is situa...   \n",
       "1  4 bedroom with very large windows and outstand...   \n",
       "2  The apartment is located on the upper second f...   \n",
       "3  Light and sunny 2-Room-turn of the century-fla...   \n",
       "4  - apt is available starting April 1, 2023<br /...   \n",
       "\n",
       "                               neighborhood_overview  \\\n",
       "0  The neighbourhood is famous for its variety of...   \n",
       "1  Prenzlauer Berg is an amazing neighbourhood wh...   \n",
       "2                                                NaN   \n",
       "3  Our Part of Kreuzberg is just the best. Good v...   \n",
       "4                                                NaN   \n",
       "\n",
       "                                         picture_url  host_id  ...  \\\n",
       "0  https://a0.muscache.com/pictures/243355/84afcf...     3718  ...   \n",
       "1  https://a0.muscache.com/pictures/42799131/59c8...    33852  ...   \n",
       "2  https://a0.muscache.com/pictures/508703/24988a...    55531  ...   \n",
       "3  https://a0.muscache.com/pictures/73759174/e2ef...    64696  ...   \n",
       "4  https://a0.muscache.com/pictures/d9a6f8be-54b9...    68997  ...   \n",
       "\n",
       "  review_scores_communication review_scores_location review_scores_value  \\\n",
       "0                        4.69                   4.92                4.62   \n",
       "1                        5.00                   4.86                4.86   \n",
       "2                        4.84                   4.58                4.42   \n",
       "3                        4.86                   4.67                4.71   \n",
       "4                        4.92                   4.87                4.65   \n",
       "\n",
       "                                             license instant_bookable  \\\n",
       "0  First name and Last name: Nicolas Krotz <br/> ...                f   \n",
       "1                                  03/Z/RA/003410-18                f   \n",
       "2                                                NaN                f   \n",
       "3                                                NaN                f   \n",
       "4                                                NaN                f   \n",
       "\n",
       "  calculated_host_listings_count calculated_host_listings_count_entire_homes  \\\n",
       "0                              1                                           1   \n",
       "1                              1                                           1   \n",
       "2                              4                                           4   \n",
       "3                              2                                           2   \n",
       "4                              1                                           1   \n",
       "\n",
       "  calculated_host_listings_count_private_rooms  \\\n",
       "0                                            0   \n",
       "1                                            0   \n",
       "2                                            0   \n",
       "3                                            0   \n",
       "4                                            0   \n",
       "\n",
       "  calculated_host_listings_count_shared_rooms reviews_per_month  \n",
       "0                                           0              0.85  \n",
       "1                                           0              0.08  \n",
       "2                                           0              0.16  \n",
       "3                                           0              0.30  \n",
       "4                                           0              1.81  \n",
       "\n",
       "[5 rows x 75 columns]"
      ]
     },
     "execution_count": 35,
     "metadata": {},
     "output_type": "execute_result"
    }
   ],
   "source": [
    "# Lst1 preview\n",
    "lst1.head()"
   ]
  },
  {
   "cell_type": "code",
   "execution_count": 739,
   "id": "27875670-615c-4ff0-ba11-3bcd4c84e93f",
   "metadata": {
    "tags": []
   },
   "outputs": [],
   "source": [
    "# Select only relevant variables\n",
    "listing1 = lst1[['id', 'last_scraped', 'host_id','host_location', 'neighbourhood_group_cleansed', 'latitude','longitude', 'room_type', 'accommodates','bathrooms_text', 'bedrooms', 'beds', 'price','minimum_nights', 'maximum_nights', 'availability_365', 'license', 'instant_bookable','calculated_host_listings_count']]"
   ]
  },
  {
   "cell_type": "code",
   "execution_count": 425,
   "id": "190170f2-1b29-47db-82b1-2cbe21e8a19b",
   "metadata": {
    "tags": []
   },
   "outputs": [
    {
     "data": {
      "text/plain": [
       "0"
      ]
     },
     "execution_count": 425,
     "metadata": {},
     "output_type": "execute_result"
    }
   ],
   "source": [
    "# Look for duplicates\n",
    "dup = listing1.duplicated()\n",
    "dup.sum()"
   ]
  },
  {
   "cell_type": "code",
   "execution_count": 427,
   "id": "81f9bf60-4cd8-4b4d-82b5-3f855ba539b8",
   "metadata": {
    "tags": []
   },
   "outputs": [
    {
     "data": {
      "text/plain": [
       "id                                   0\n",
       "last_scraped                         0\n",
       "host_id                              0\n",
       "host_location                     2288\n",
       "neighbourhood_group_cleansed         0\n",
       "latitude                             0\n",
       "longitude                            0\n",
       "room_type                            0\n",
       "accommodates                         0\n",
       "bathrooms_text                       6\n",
       "bedrooms                          4874\n",
       "beds                               162\n",
       "price                                0\n",
       "minimum_nights                       0\n",
       "maximum_nights                       0\n",
       "availability_365                     0\n",
       "license                           5122\n",
       "instant_bookable                     0\n",
       "calculated_host_listings_count       0\n",
       "dtype: int64"
      ]
     },
     "execution_count": 427,
     "metadata": {},
     "output_type": "execute_result"
    }
   ],
   "source": [
    "# Check for missing values \n",
    "listing1.isnull().sum()"
   ]
  },
  {
   "cell_type": "code",
   "execution_count": 741,
   "id": "a856fb9f-057f-4355-9322-56bd2e68bf54",
   "metadata": {
    "tags": []
   },
   "outputs": [],
   "source": [
    "# Keep only numerical value for bathroom text\n",
    "listing1 = listing1.assign(bathrooms=listing1['bathrooms_text'].str.extract(r'(\\d+[\\.,]?\\d*)'))"
   ]
  },
  {
   "cell_type": "code",
   "execution_count": 743,
   "id": "90e22b3a-44c2-4039-98e7-3767dd03dcf4",
   "metadata": {
    "tags": []
   },
   "outputs": [],
   "source": [
    "# Change data type for baths col.\n",
    "listing1['bathrooms'] = listing1['bathrooms'].astype(float)"
   ]
  },
  {
   "cell_type": "code",
   "execution_count": 745,
   "id": "ddd157e4-4fa7-449c-b420-361391b0ec2e",
   "metadata": {
    "tags": []
   },
   "outputs": [],
   "source": [
    "# Drop bathrooms_text col.\n",
    "listing1.drop('bathrooms_text', axis=1, inplace=True)"
   ]
  },
  {
   "cell_type": "code",
   "execution_count": 747,
   "id": "d1b7da9b-8717-49ce-ba22-cb6907ca19c7",
   "metadata": {
    "tags": []
   },
   "outputs": [
    {
     "data": {
      "text/plain": [
       "41"
      ]
     },
     "execution_count": 747,
     "metadata": {},
     "output_type": "execute_result"
    }
   ],
   "source": [
    "# Check for missing values in bathrooms\n",
    "listing1['bathrooms'].isnull().sum()"
   ]
  },
  {
   "cell_type": "code",
   "execution_count": 37,
   "id": "e4ac6731-4e04-445e-b9bd-b746268ca188",
   "metadata": {
    "tags": []
   },
   "outputs": [
    {
     "data": {
      "text/html": [
       "<div>\n",
       "<style scoped>\n",
       "    .dataframe tbody tr th:only-of-type {\n",
       "        vertical-align: middle;\n",
       "    }\n",
       "\n",
       "    .dataframe tbody tr th {\n",
       "        vertical-align: top;\n",
       "    }\n",
       "\n",
       "    .dataframe thead th {\n",
       "        text-align: right;\n",
       "    }\n",
       "</style>\n",
       "<table border=\"1\" class=\"dataframe\">\n",
       "  <thead>\n",
       "    <tr style=\"text-align: right;\">\n",
       "      <th></th>\n",
       "      <th>id</th>\n",
       "      <th>host_id</th>\n",
       "      <th>latitude</th>\n",
       "      <th>longitude</th>\n",
       "      <th>accommodates</th>\n",
       "      <th>bedrooms</th>\n",
       "      <th>beds</th>\n",
       "      <th>minimum_nights</th>\n",
       "      <th>maximum_nights</th>\n",
       "      <th>availability_365</th>\n",
       "      <th>calculated_host_listings_count</th>\n",
       "      <th>bathrooms</th>\n",
       "    </tr>\n",
       "  </thead>\n",
       "  <tbody>\n",
       "    <tr>\n",
       "      <th>count</th>\n",
       "      <td>1.313400e+04</td>\n",
       "      <td>1.313400e+04</td>\n",
       "      <td>13134.000000</td>\n",
       "      <td>13134.000000</td>\n",
       "      <td>13134.000000</td>\n",
       "      <td>8260.000000</td>\n",
       "      <td>12972.000000</td>\n",
       "      <td>13134.000000</td>\n",
       "      <td>13134.000000</td>\n",
       "      <td>13134.000000</td>\n",
       "      <td>13134.000000</td>\n",
       "      <td>13093.000000</td>\n",
       "    </tr>\n",
       "    <tr>\n",
       "      <th>mean</th>\n",
       "      <td>2.394956e+17</td>\n",
       "      <td>1.443509e+08</td>\n",
       "      <td>52.509939</td>\n",
       "      <td>13.401692</td>\n",
       "      <td>2.917314</td>\n",
       "      <td>1.484140</td>\n",
       "      <td>1.824237</td>\n",
       "      <td>43.555505</td>\n",
       "      <td>640.684940</td>\n",
       "      <td>126.761840</td>\n",
       "      <td>9.252627</td>\n",
       "      <td>1.133736</td>\n",
       "    </tr>\n",
       "    <tr>\n",
       "      <th>std</th>\n",
       "      <td>3.722776e+17</td>\n",
       "      <td>1.635086e+08</td>\n",
       "      <td>0.033458</td>\n",
       "      <td>0.067874</td>\n",
       "      <td>1.853629</td>\n",
       "      <td>0.814338</td>\n",
       "      <td>1.419906</td>\n",
       "      <td>54.080779</td>\n",
       "      <td>492.657922</td>\n",
       "      <td>135.373208</td>\n",
       "      <td>27.820488</td>\n",
       "      <td>0.397568</td>\n",
       "    </tr>\n",
       "    <tr>\n",
       "      <th>min</th>\n",
       "      <td>3.176000e+03</td>\n",
       "      <td>1.581000e+03</td>\n",
       "      <td>52.369040</td>\n",
       "      <td>13.107580</td>\n",
       "      <td>1.000000</td>\n",
       "      <td>1.000000</td>\n",
       "      <td>1.000000</td>\n",
       "      <td>1.000000</td>\n",
       "      <td>1.000000</td>\n",
       "      <td>0.000000</td>\n",
       "      <td>1.000000</td>\n",
       "      <td>0.000000</td>\n",
       "    </tr>\n",
       "    <tr>\n",
       "      <th>25%</th>\n",
       "      <td>1.651798e+07</td>\n",
       "      <td>1.374351e+07</td>\n",
       "      <td>52.490353</td>\n",
       "      <td>13.363094</td>\n",
       "      <td>2.000000</td>\n",
       "      <td>1.000000</td>\n",
       "      <td>1.000000</td>\n",
       "      <td>2.000000</td>\n",
       "      <td>123.500000</td>\n",
       "      <td>0.000000</td>\n",
       "      <td>1.000000</td>\n",
       "      <td>1.000000</td>\n",
       "    </tr>\n",
       "    <tr>\n",
       "      <th>50%</th>\n",
       "      <td>3.742721e+07</td>\n",
       "      <td>5.969585e+07</td>\n",
       "      <td>52.509770</td>\n",
       "      <td>13.411290</td>\n",
       "      <td>2.000000</td>\n",
       "      <td>1.000000</td>\n",
       "      <td>1.000000</td>\n",
       "      <td>7.000000</td>\n",
       "      <td>365.000000</td>\n",
       "      <td>73.000000</td>\n",
       "      <td>1.000000</td>\n",
       "      <td>1.000000</td>\n",
       "    </tr>\n",
       "    <tr>\n",
       "      <th>75%</th>\n",
       "      <td>6.504403e+17</td>\n",
       "      <td>2.509105e+08</td>\n",
       "      <td>52.532688</td>\n",
       "      <td>13.437867</td>\n",
       "      <td>4.000000</td>\n",
       "      <td>2.000000</td>\n",
       "      <td>2.000000</td>\n",
       "      <td>92.000000</td>\n",
       "      <td>1125.000000</td>\n",
       "      <td>262.000000</td>\n",
       "      <td>3.000000</td>\n",
       "      <td>1.000000</td>\n",
       "    </tr>\n",
       "    <tr>\n",
       "      <th>max</th>\n",
       "      <td>9.811597e+17</td>\n",
       "      <td>5.369634e+08</td>\n",
       "      <td>52.656110</td>\n",
       "      <td>13.721390</td>\n",
       "      <td>16.000000</td>\n",
       "      <td>14.000000</td>\n",
       "      <td>22.000000</td>\n",
       "      <td>1100.000000</td>\n",
       "      <td>9999.000000</td>\n",
       "      <td>365.000000</td>\n",
       "      <td>187.000000</td>\n",
       "      <td>8.500000</td>\n",
       "    </tr>\n",
       "  </tbody>\n",
       "</table>\n",
       "</div>"
      ],
      "text/plain": [
       "                 id       host_id      latitude     longitude  accommodates  \\\n",
       "count  1.313400e+04  1.313400e+04  13134.000000  13134.000000  13134.000000   \n",
       "mean   2.394956e+17  1.443509e+08     52.509939     13.401692      2.917314   \n",
       "std    3.722776e+17  1.635086e+08      0.033458      0.067874      1.853629   \n",
       "min    3.176000e+03  1.581000e+03     52.369040     13.107580      1.000000   \n",
       "25%    1.651798e+07  1.374351e+07     52.490353     13.363094      2.000000   \n",
       "50%    3.742721e+07  5.969585e+07     52.509770     13.411290      2.000000   \n",
       "75%    6.504403e+17  2.509105e+08     52.532688     13.437867      4.000000   \n",
       "max    9.811597e+17  5.369634e+08     52.656110     13.721390     16.000000   \n",
       "\n",
       "          bedrooms          beds  minimum_nights  maximum_nights  \\\n",
       "count  8260.000000  12972.000000    13134.000000    13134.000000   \n",
       "mean      1.484140      1.824237       43.555505      640.684940   \n",
       "std       0.814338      1.419906       54.080779      492.657922   \n",
       "min       1.000000      1.000000        1.000000        1.000000   \n",
       "25%       1.000000      1.000000        2.000000      123.500000   \n",
       "50%       1.000000      1.000000        7.000000      365.000000   \n",
       "75%       2.000000      2.000000       92.000000     1125.000000   \n",
       "max      14.000000     22.000000     1100.000000     9999.000000   \n",
       "\n",
       "       availability_365  calculated_host_listings_count     bathrooms  \n",
       "count      13134.000000                    13134.000000  13093.000000  \n",
       "mean         126.761840                        9.252627      1.133736  \n",
       "std          135.373208                       27.820488      0.397568  \n",
       "min            0.000000                        1.000000      0.000000  \n",
       "25%            0.000000                        1.000000      1.000000  \n",
       "50%           73.000000                        1.000000      1.000000  \n",
       "75%          262.000000                        3.000000      1.000000  \n",
       "max          365.000000                      187.000000      8.500000  "
      ]
     },
     "execution_count": 37,
     "metadata": {},
     "output_type": "execute_result"
    }
   ],
   "source": [
    "# Summary Statistics\n",
    "listing1.describe()"
   ]
  },
  {
   "cell_type": "code",
   "execution_count": 749,
   "id": "9508dcd8-01e4-4432-a844-cdcf13e43770",
   "metadata": {
    "tags": []
   },
   "outputs": [],
   "source": [
    "# Imputing mean for 'bathrooms', 'bedrooms', 'beds'\n",
    "listing1['bathrooms'] = listing1['bathrooms'].fillna(value=1)\n",
    "listing1['bedrooms'] = listing1['bedrooms'].fillna(value=1)\n",
    "listing1['beds'] = listing1['beds'].fillna(value=2)"
   ]
  },
  {
   "cell_type": "code",
   "execution_count": 751,
   "id": "e68ad325-a104-41b5-a83f-7765bab052c1",
   "metadata": {
    "tags": []
   },
   "outputs": [],
   "source": [
    "# Add boolean col for licence\n",
    "listing1['license_bool'] = listing1['license'].notnull()"
   ]
  },
  {
   "cell_type": "code",
   "execution_count": 753,
   "id": "d309df03-579f-4457-8675-01cdffcce499",
   "metadata": {
    "tags": []
   },
   "outputs": [],
   "source": [
    "# Drop license col.\n",
    "listing1.drop(columns='license', axis=1, inplace=True)"
   ]
  },
  {
   "cell_type": "code",
   "execution_count": 163,
   "id": "f7ad0f0f-62aa-43cb-bf2c-b3aaaa88e7bf",
   "metadata": {
    "tags": []
   },
   "outputs": [
    {
     "data": {
      "text/plain": [
       "id                                  int64\n",
       "last_scraped                       object\n",
       "host_id                             int64\n",
       "host_location                      object\n",
       "neighbourhood_group_cleansed       object\n",
       "latitude                          float64\n",
       "longitude                         float64\n",
       "room_type                          object\n",
       "accommodates                        int64\n",
       "bedrooms                          float64\n",
       "beds                              float64\n",
       "price                              object\n",
       "minimum_nights                      int64\n",
       "maximum_nights                      int64\n",
       "availability_365                    int64\n",
       "instant_bookable                   object\n",
       "calculated_host_listings_count      int64\n",
       "bathrooms                         float64\n",
       "license_bool                         bool\n",
       "dtype: object"
      ]
     },
     "execution_count": 163,
     "metadata": {},
     "output_type": "execute_result"
    }
   ],
   "source": [
    "# Check data types \n",
    "listing1.dtypes"
   ]
  },
  {
   "cell_type": "code",
   "execution_count": 453,
   "id": "6d723eb0-49c8-4df0-811f-3935ba5fa218",
   "metadata": {
    "tags": []
   },
   "outputs": [
    {
     "name": "stdout",
     "output_type": "stream",
     "text": [
      "0         $83.00\n",
      "1        $180.00\n",
      "2         $70.00\n",
      "3         $90.00\n",
      "4         $25.00\n",
      "          ...   \n",
      "13129    $100.00\n",
      "13130     $90.00\n",
      "13131     $95.00\n",
      "13132    $130.00\n",
      "13133     $71.00\n",
      "Name: price, Length: 13134, dtype: object\n"
     ]
    }
   ],
   "source": [
    "# Check price that should be float64 instead of obj.\n",
    "print(listing1['price'])"
   ]
  },
  {
   "cell_type": "code",
   "execution_count": 755,
   "id": "1d1a25ff-81a7-448a-995d-95e68199ea67",
   "metadata": {
    "tags": []
   },
   "outputs": [],
   "source": [
    "# Replace the $ sign in price\n",
    "listing1['price'] = listing1['price'].str.replace('$', '', regex=False).str.replace(',', '', regex=False).str.strip()"
   ]
  },
  {
   "cell_type": "code",
   "execution_count": 757,
   "id": "8861431d-8d8f-446d-b4a6-91bc5a0e4c95",
   "metadata": {
    "tags": []
   },
   "outputs": [],
   "source": [
    "# Change data type for price\n",
    "listing1['price'] = listing1['price'].astype(float)"
   ]
  },
  {
   "cell_type": "code",
   "execution_count": 459,
   "id": "11a39e82-2d5a-4d3c-9c1c-9bd67d8284a3",
   "metadata": {
    "tags": []
   },
   "outputs": [
    {
     "data": {
      "text/plain": [
       "count    13134.000000\n",
       "mean       121.873078\n",
       "std        404.656643\n",
       "min          8.000000\n",
       "25%         50.000000\n",
       "50%         84.000000\n",
       "75%        142.000000\n",
       "max      24999.000000\n",
       "Name: price, dtype: float64"
      ]
     },
     "execution_count": 459,
     "metadata": {},
     "output_type": "execute_result"
    }
   ],
   "source": [
    "# Summary statistics for price\n",
    "listing1['price'].describe()"
   ]
  },
  {
   "cell_type": "code",
   "execution_count": 759,
   "id": "500783cc-1d0f-4a67-a170-c61402c32891",
   "metadata": {
    "tags": []
   },
   "outputs": [],
   "source": [
    "# Change data type for 'id', 'host_id', 'host_is_superhost', 'instant_bookable'\n",
    "listing1 = listing1.astype({'id':str, 'host_id':str, 'instant_bookable':bool})"
   ]
  },
  {
   "cell_type": "code",
   "execution_count": 761,
   "id": "9b399cd1-3da4-4ae6-a482-dde340682933",
   "metadata": {
    "tags": []
   },
   "outputs": [],
   "source": [
    "# Change columns names dict.\n",
    "new_name = {'neighbourhood_group_cleansed':'neighbourhood', 'license_bool':'license', 'calculated_host_listings_count':'host_listings' }"
   ]
  },
  {
   "cell_type": "code",
   "execution_count": 763,
   "id": "824c74c5-f570-4e51-bbdc-b285622ad932",
   "metadata": {
    "tags": []
   },
   "outputs": [],
   "source": [
    "# Apply dictionary\n",
    "listing1.rename(columns=new_name, inplace=True)"
   ]
  },
  {
   "cell_type": "code",
   "execution_count": 467,
   "id": "c0864208-4d4b-47b2-86ad-6a6b7780ff38",
   "metadata": {
    "tags": []
   },
   "outputs": [
    {
     "data": {
      "text/plain": [
       "Index(['id', 'last_scraped', 'host_id', 'host_location', 'neighbourhood',\n",
       "       'latitude', 'longitude', 'room_type', 'accommodates', 'bedrooms',\n",
       "       'beds', 'price', 'minimum_nights', 'maximum_nights', 'availability_365',\n",
       "       'instant_bookable', 'host_listings', 'bathrooms', 'license'],\n",
       "      dtype='object')"
      ]
     },
     "execution_count": 467,
     "metadata": {},
     "output_type": "execute_result"
    }
   ],
   "source": [
    "# Check the changes\n",
    "listing1.columns"
   ]
  },
  {
   "cell_type": "markdown",
   "id": "d1776e8a-12f2-49fc-83b2-a9ac9eca9bda",
   "metadata": {
    "tags": []
   },
   "source": [
    "##### Lst2"
   ]
  },
  {
   "cell_type": "code",
   "execution_count": 63,
   "id": "b588b836-194a-4e8a-a5f7-e31eff1aec03",
   "metadata": {
    "tags": []
   },
   "outputs": [
    {
     "data": {
      "text/plain": [
       "(13327, 75)"
      ]
     },
     "execution_count": 63,
     "metadata": {},
     "output_type": "execute_result"
    }
   ],
   "source": [
    "# Lst2 size\n",
    "lst2.shape"
   ]
  },
  {
   "cell_type": "code",
   "execution_count": 65,
   "id": "e9c165fa-0e9b-40af-8000-9c0d56fdefe1",
   "metadata": {
    "tags": []
   },
   "outputs": [
    {
     "data": {
      "text/plain": [
       "Index(['id', 'listing_url', 'scrape_id', 'last_scraped', 'source', 'name',\n",
       "       'description', 'neighborhood_overview', 'picture_url', 'host_id',\n",
       "       'host_url', 'host_name', 'host_since', 'host_location', 'host_about',\n",
       "       'host_response_time', 'host_response_rate', 'host_acceptance_rate',\n",
       "       'host_is_superhost', 'host_thumbnail_url', 'host_picture_url',\n",
       "       'host_neighbourhood', 'host_listings_count',\n",
       "       'host_total_listings_count', 'host_verifications',\n",
       "       'host_has_profile_pic', 'host_identity_verified', 'neighbourhood',\n",
       "       'neighbourhood_cleansed', 'neighbourhood_group_cleansed', 'latitude',\n",
       "       'longitude', 'property_type', 'room_type', 'accommodates', 'bathrooms',\n",
       "       'bathrooms_text', 'bedrooms', 'beds', 'amenities', 'price',\n",
       "       'minimum_nights', 'maximum_nights', 'minimum_minimum_nights',\n",
       "       'maximum_minimum_nights', 'minimum_maximum_nights',\n",
       "       'maximum_maximum_nights', 'minimum_nights_avg_ntm',\n",
       "       'maximum_nights_avg_ntm', 'calendar_updated', 'has_availability',\n",
       "       'availability_30', 'availability_60', 'availability_90',\n",
       "       'availability_365', 'calendar_last_scraped', 'number_of_reviews',\n",
       "       'number_of_reviews_ltm', 'number_of_reviews_l30d', 'first_review',\n",
       "       'last_review', 'review_scores_rating', 'review_scores_accuracy',\n",
       "       'review_scores_cleanliness', 'review_scores_checkin',\n",
       "       'review_scores_communication', 'review_scores_location',\n",
       "       'review_scores_value', 'license', 'instant_bookable',\n",
       "       'calculated_host_listings_count',\n",
       "       'calculated_host_listings_count_entire_homes',\n",
       "       'calculated_host_listings_count_private_rooms',\n",
       "       'calculated_host_listings_count_shared_rooms', 'reviews_per_month'],\n",
       "      dtype='object')"
      ]
     },
     "execution_count": 65,
     "metadata": {},
     "output_type": "execute_result"
    }
   ],
   "source": [
    "# Lst2 columns names\n",
    "lst2.columns"
   ]
  },
  {
   "cell_type": "code",
   "execution_count": 765,
   "id": "0268b28f-b040-4ffa-a2ba-a3b4dbc24c31",
   "metadata": {
    "tags": []
   },
   "outputs": [],
   "source": [
    "# Select only relevant variables\n",
    "listing2 = lst2[['id', 'last_scraped', 'host_id','host_location', 'neighbourhood_group_cleansed', 'latitude','longitude', 'room_type', 'accommodates','bathrooms_text', 'bedrooms', 'beds', 'price','minimum_nights', 'maximum_nights', 'availability_365', 'license', 'instant_bookable','calculated_host_listings_count']]"
   ]
  },
  {
   "cell_type": "code",
   "execution_count": 471,
   "id": "2784fea9-ea94-4c63-b36b-83c54054d760",
   "metadata": {
    "tags": []
   },
   "outputs": [
    {
     "data": {
      "text/plain": [
       "0"
      ]
     },
     "execution_count": 471,
     "metadata": {},
     "output_type": "execute_result"
    }
   ],
   "source": [
    "# Look for duplicates\n",
    "dup = listing2.duplicated()\n",
    "dup.sum()"
   ]
  },
  {
   "cell_type": "code",
   "execution_count": 473,
   "id": "bcebfb39-b9d6-4d68-ac47-697d53235a77",
   "metadata": {
    "tags": []
   },
   "outputs": [
    {
     "data": {
      "text/plain": [
       "id                                    0\n",
       "last_scraped                          0\n",
       "host_id                               0\n",
       "host_location                      2415\n",
       "neighbourhood_group_cleansed          0\n",
       "latitude                              0\n",
       "longitude                             0\n",
       "room_type                             0\n",
       "accommodates                          0\n",
       "bathrooms_text                        2\n",
       "bedrooms                          13327\n",
       "beds                                208\n",
       "price                              3953\n",
       "minimum_nights                        0\n",
       "maximum_nights                        0\n",
       "availability_365                      0\n",
       "license                            5091\n",
       "instant_bookable                      0\n",
       "calculated_host_listings_count        0\n",
       "dtype: int64"
      ]
     },
     "execution_count": 473,
     "metadata": {},
     "output_type": "execute_result"
    }
   ],
   "source": [
    "# Look for missing values\n",
    "listing2.isnull().sum()"
   ]
  },
  {
   "cell_type": "markdown",
   "id": "32e9e1ac-f4a8-4448-9ba0-2dd4be6da321",
   "metadata": {},
   "source": [
    "The bedrooms col. has no values, maybe is due to a scraping error. This should not inluence the analysis since I should be able to retrieve the data in the other files. "
   ]
  },
  {
   "cell_type": "code",
   "execution_count": 767,
   "id": "a1978cff-614e-40df-8291-6b97df1df992",
   "metadata": {
    "tags": []
   },
   "outputs": [],
   "source": [
    "# Keep only numerical values for bathrooms_text\n",
    "listing2 = listing2.assign(bathrooms=listing2['bathrooms_text'].str.extract(r'(\\d+[\\.,]?\\d*)'))"
   ]
  },
  {
   "cell_type": "code",
   "execution_count": 769,
   "id": "86547c52-badf-4380-9e0b-04302e9cf6bd",
   "metadata": {
    "tags": []
   },
   "outputs": [],
   "source": [
    "# Change data type for bathrooms\n",
    "listing2['bathrooms'] = listing2['bathrooms'].astype(float)"
   ]
  },
  {
   "cell_type": "code",
   "execution_count": 771,
   "id": "12772af1-642d-4ef5-8df8-f3bbfbb8eb3e",
   "metadata": {
    "tags": []
   },
   "outputs": [],
   "source": [
    "# Drop bathrooms_text col. \n",
    "listing2.drop(columns='bathrooms_text', axis=1, inplace=True)"
   ]
  },
  {
   "cell_type": "code",
   "execution_count": 481,
   "id": "403ccab8-1411-430d-aa0d-df01ed722f3f",
   "metadata": {
    "tags": []
   },
   "outputs": [
    {
     "data": {
      "text/plain": [
       "46"
      ]
     },
     "execution_count": 481,
     "metadata": {},
     "output_type": "execute_result"
    }
   ],
   "source": [
    "# Look for missing values in bathrooms\n",
    "listing2['bathrooms'].isnull().sum()"
   ]
  },
  {
   "cell_type": "code",
   "execution_count": 773,
   "id": "4d6b5520-73c2-4001-8368-e13fbe240831",
   "metadata": {
    "tags": []
   },
   "outputs": [],
   "source": [
    "# Replace the $ sign in price\n",
    "listing2['price'] = listing2['price'].str.replace('$', '', regex=False).str.replace(',','', regex=False).str.strip()"
   ]
  },
  {
   "cell_type": "code",
   "execution_count": 775,
   "id": "9202fd46-6000-4591-a1e7-74bb5fc1c389",
   "metadata": {
    "tags": []
   },
   "outputs": [],
   "source": [
    "# Change data type for price\n",
    "listing2['price'] = listing2['price'].astype(float)"
   ]
  },
  {
   "cell_type": "code",
   "execution_count": 85,
   "id": "8c983bdb-0dfe-45e9-87d0-02c0a7430070",
   "metadata": {
    "tags": []
   },
   "outputs": [
    {
     "data": {
      "text/html": [
       "<div>\n",
       "<style scoped>\n",
       "    .dataframe tbody tr th:only-of-type {\n",
       "        vertical-align: middle;\n",
       "    }\n",
       "\n",
       "    .dataframe tbody tr th {\n",
       "        vertical-align: top;\n",
       "    }\n",
       "\n",
       "    .dataframe thead th {\n",
       "        text-align: right;\n",
       "    }\n",
       "</style>\n",
       "<table border=\"1\" class=\"dataframe\">\n",
       "  <thead>\n",
       "    <tr style=\"text-align: right;\">\n",
       "      <th></th>\n",
       "      <th>id</th>\n",
       "      <th>host_id</th>\n",
       "      <th>latitude</th>\n",
       "      <th>longitude</th>\n",
       "      <th>accommodates</th>\n",
       "      <th>bedrooms</th>\n",
       "      <th>beds</th>\n",
       "      <th>price</th>\n",
       "      <th>minimum_nights</th>\n",
       "      <th>maximum_nights</th>\n",
       "      <th>availability_365</th>\n",
       "      <th>calculated_host_listings_count</th>\n",
       "      <th>bathrooms</th>\n",
       "    </tr>\n",
       "  </thead>\n",
       "  <tbody>\n",
       "    <tr>\n",
       "      <th>count</th>\n",
       "      <td>1.332700e+04</td>\n",
       "      <td>1.332700e+04</td>\n",
       "      <td>13327.000000</td>\n",
       "      <td>13327.000000</td>\n",
       "      <td>13327.000000</td>\n",
       "      <td>0.0</td>\n",
       "      <td>13119.000000</td>\n",
       "      <td>9374.000000</td>\n",
       "      <td>13327.000000</td>\n",
       "      <td>13327.000000</td>\n",
       "      <td>13327.000000</td>\n",
       "      <td>13327.000000</td>\n",
       "      <td>13281.000000</td>\n",
       "    </tr>\n",
       "    <tr>\n",
       "      <th>mean</th>\n",
       "      <td>2.726391e+17</td>\n",
       "      <td>1.481982e+08</td>\n",
       "      <td>52.509764</td>\n",
       "      <td>13.402477</td>\n",
       "      <td>2.934794</td>\n",
       "      <td>NaN</td>\n",
       "      <td>1.842823</td>\n",
       "      <td>124.517068</td>\n",
       "      <td>42.797329</td>\n",
       "      <td>620.284235</td>\n",
       "      <td>120.597809</td>\n",
       "      <td>9.276131</td>\n",
       "      <td>1.138920</td>\n",
       "    </tr>\n",
       "    <tr>\n",
       "      <th>std</th>\n",
       "      <td>4.000348e+17</td>\n",
       "      <td>1.686400e+08</td>\n",
       "      <td>0.033481</td>\n",
       "      <td>0.066762</td>\n",
       "      <td>1.864588</td>\n",
       "      <td>NaN</td>\n",
       "      <td>1.466189</td>\n",
       "      <td>383.751953</td>\n",
       "      <td>53.963528</td>\n",
       "      <td>488.014129</td>\n",
       "      <td>135.093951</td>\n",
       "      <td>31.789247</td>\n",
       "      <td>0.406201</td>\n",
       "    </tr>\n",
       "    <tr>\n",
       "      <th>min</th>\n",
       "      <td>3.176000e+03</td>\n",
       "      <td>1.581000e+03</td>\n",
       "      <td>52.369040</td>\n",
       "      <td>13.107580</td>\n",
       "      <td>1.000000</td>\n",
       "      <td>NaN</td>\n",
       "      <td>1.000000</td>\n",
       "      <td>9.000000</td>\n",
       "      <td>1.000000</td>\n",
       "      <td>1.000000</td>\n",
       "      <td>0.000000</td>\n",
       "      <td>1.000000</td>\n",
       "      <td>0.000000</td>\n",
       "    </tr>\n",
       "    <tr>\n",
       "      <th>25%</th>\n",
       "      <td>1.723423e+07</td>\n",
       "      <td>1.362112e+07</td>\n",
       "      <td>52.490371</td>\n",
       "      <td>13.364285</td>\n",
       "      <td>2.000000</td>\n",
       "      <td>NaN</td>\n",
       "      <td>1.000000</td>\n",
       "      <td>62.000000</td>\n",
       "      <td>2.000000</td>\n",
       "      <td>120.000000</td>\n",
       "      <td>0.000000</td>\n",
       "      <td>1.000000</td>\n",
       "      <td>1.000000</td>\n",
       "    </tr>\n",
       "    <tr>\n",
       "      <th>50%</th>\n",
       "      <td>3.916137e+07</td>\n",
       "      <td>6.108240e+07</td>\n",
       "      <td>52.509630</td>\n",
       "      <td>13.411440</td>\n",
       "      <td>2.000000</td>\n",
       "      <td>NaN</td>\n",
       "      <td>1.000000</td>\n",
       "      <td>91.000000</td>\n",
       "      <td>6.000000</td>\n",
       "      <td>365.000000</td>\n",
       "      <td>58.000000</td>\n",
       "      <td>1.000000</td>\n",
       "      <td>1.000000</td>\n",
       "    </tr>\n",
       "    <tr>\n",
       "      <th>75%</th>\n",
       "      <td>6.968867e+17</td>\n",
       "      <td>2.577263e+08</td>\n",
       "      <td>52.532395</td>\n",
       "      <td>13.438163</td>\n",
       "      <td>4.000000</td>\n",
       "      <td>NaN</td>\n",
       "      <td>2.000000</td>\n",
       "      <td>139.000000</td>\n",
       "      <td>92.000000</td>\n",
       "      <td>1125.000000</td>\n",
       "      <td>257.000000</td>\n",
       "      <td>3.000000</td>\n",
       "      <td>1.000000</td>\n",
       "    </tr>\n",
       "    <tr>\n",
       "      <th>max</th>\n",
       "      <td>1.049081e+18</td>\n",
       "      <td>5.510794e+08</td>\n",
       "      <td>52.656110</td>\n",
       "      <td>13.721390</td>\n",
       "      <td>16.000000</td>\n",
       "      <td>NaN</td>\n",
       "      <td>29.000000</td>\n",
       "      <td>24999.000000</td>\n",
       "      <td>1100.000000</td>\n",
       "      <td>9999.000000</td>\n",
       "      <td>365.000000</td>\n",
       "      <td>231.000000</td>\n",
       "      <td>8.500000</td>\n",
       "    </tr>\n",
       "  </tbody>\n",
       "</table>\n",
       "</div>"
      ],
      "text/plain": [
       "                 id       host_id      latitude     longitude  accommodates  \\\n",
       "count  1.332700e+04  1.332700e+04  13327.000000  13327.000000  13327.000000   \n",
       "mean   2.726391e+17  1.481982e+08     52.509764     13.402477      2.934794   \n",
       "std    4.000348e+17  1.686400e+08      0.033481      0.066762      1.864588   \n",
       "min    3.176000e+03  1.581000e+03     52.369040     13.107580      1.000000   \n",
       "25%    1.723423e+07  1.362112e+07     52.490371     13.364285      2.000000   \n",
       "50%    3.916137e+07  6.108240e+07     52.509630     13.411440      2.000000   \n",
       "75%    6.968867e+17  2.577263e+08     52.532395     13.438163      4.000000   \n",
       "max    1.049081e+18  5.510794e+08     52.656110     13.721390     16.000000   \n",
       "\n",
       "       bedrooms          beds         price  minimum_nights  maximum_nights  \\\n",
       "count       0.0  13119.000000   9374.000000    13327.000000    13327.000000   \n",
       "mean        NaN      1.842823    124.517068       42.797329      620.284235   \n",
       "std         NaN      1.466189    383.751953       53.963528      488.014129   \n",
       "min         NaN      1.000000      9.000000        1.000000        1.000000   \n",
       "25%         NaN      1.000000     62.000000        2.000000      120.000000   \n",
       "50%         NaN      1.000000     91.000000        6.000000      365.000000   \n",
       "75%         NaN      2.000000    139.000000       92.000000     1125.000000   \n",
       "max         NaN     29.000000  24999.000000     1100.000000     9999.000000   \n",
       "\n",
       "       availability_365  calculated_host_listings_count     bathrooms  \n",
       "count      13327.000000                    13327.000000  13281.000000  \n",
       "mean         120.597809                        9.276131      1.138920  \n",
       "std          135.093951                       31.789247      0.406201  \n",
       "min            0.000000                        1.000000      0.000000  \n",
       "25%            0.000000                        1.000000      1.000000  \n",
       "50%           58.000000                        1.000000      1.000000  \n",
       "75%          257.000000                        3.000000      1.000000  \n",
       "max          365.000000                      231.000000      8.500000  "
      ]
     },
     "execution_count": 85,
     "metadata": {},
     "output_type": "execute_result"
    }
   ],
   "source": [
    "# Summary Statistics\n",
    "listing2.describe()"
   ]
  },
  {
   "cell_type": "code",
   "execution_count": 777,
   "id": "d564b87e-37d3-4e66-96e3-e53f8bc1a99b",
   "metadata": {
    "tags": []
   },
   "outputs": [
    {
     "data": {
      "text/plain": [
       "91.0"
      ]
     },
     "execution_count": 777,
     "metadata": {},
     "output_type": "execute_result"
    }
   ],
   "source": [
    "# Calculate median for price\n",
    "listing2['price'].median()"
   ]
  },
  {
   "cell_type": "code",
   "execution_count": 779,
   "id": "bf1c23c1-210c-442f-bcd2-15af9c7c4f9d",
   "metadata": {
    "tags": []
   },
   "outputs": [],
   "source": [
    "# Imput mean for 'beds', 'bathrooms', median for 'price'\n",
    "listing2['beds'] = listing2['beds'].fillna(value=2)\n",
    "listing2['bathrooms'] = listing2['bathrooms'].fillna(value=1)\n",
    "listing2['price'] = listing2['price'].fillna(value=91)"
   ]
  },
  {
   "cell_type": "code",
   "execution_count": 781,
   "id": "aa8a3f43-0f93-4d6d-86e1-822092ca35cc",
   "metadata": {
    "tags": []
   },
   "outputs": [],
   "source": [
    "# Add boolean col. for license\n",
    "listing2['license_bool'] = listing2['license'].notnull()"
   ]
  },
  {
   "cell_type": "code",
   "execution_count": 783,
   "id": "98398fb6-8c7c-4bcd-834e-5fd0517cb5e7",
   "metadata": {
    "tags": []
   },
   "outputs": [],
   "source": [
    "# Drop license col. \n",
    "listing2.drop(columns='license', axis=1, inplace=True)"
   ]
  },
  {
   "cell_type": "code",
   "execution_count": 95,
   "id": "cb50572f-dd9d-4c2a-b640-eb3ce159e40f",
   "metadata": {
    "tags": []
   },
   "outputs": [
    {
     "data": {
      "text/plain": [
       "id                                  int64\n",
       "last_scraped                       object\n",
       "host_id                             int64\n",
       "host_location                      object\n",
       "neighbourhood_group_cleansed       object\n",
       "latitude                          float64\n",
       "longitude                         float64\n",
       "room_type                          object\n",
       "accommodates                        int64\n",
       "bedrooms                          float64\n",
       "beds                              float64\n",
       "price                             float64\n",
       "minimum_nights                      int64\n",
       "maximum_nights                      int64\n",
       "availability_365                    int64\n",
       "instant_bookable                   object\n",
       "calculated_host_listings_count      int64\n",
       "bathrooms                         float64\n",
       "license_bool                         bool\n",
       "dtype: object"
      ]
     },
     "execution_count": 95,
     "metadata": {},
     "output_type": "execute_result"
    }
   ],
   "source": [
    "# Check data types\n",
    "listing2.dtypes"
   ]
  },
  {
   "cell_type": "code",
   "execution_count": 785,
   "id": "aeb4d565-04f6-4c7a-b6ef-71c9da13eb03",
   "metadata": {
    "tags": []
   },
   "outputs": [],
   "source": [
    "# Change data type for 'id', 'host_id', 'price', 'host_is_superhost', 'instant_bookable'\n",
    "listing2 = listing2.astype({'id':str, 'host_id':str, 'instant_bookable':bool})"
   ]
  },
  {
   "cell_type": "code",
   "execution_count": 787,
   "id": "59246f3e-ded2-4d46-aa79-21c193312ae0",
   "metadata": {
    "tags": []
   },
   "outputs": [],
   "source": [
    "# Apply dictionary to change cols names \n",
    "listing2.rename(columns=new_name, inplace=True)"
   ]
  },
  {
   "cell_type": "code",
   "execution_count": 101,
   "id": "fc9dbdd3-11c1-4126-a85b-a78e188cced2",
   "metadata": {
    "tags": []
   },
   "outputs": [
    {
     "data": {
      "text/plain": [
       "Index(['id', 'last_scraped', 'host_id', 'host_location', 'neighbourhood',\n",
       "       'latitude', 'longitude', 'room_type', 'accommodates', 'bedrooms',\n",
       "       'beds', 'price', 'minimum_nights', 'maximum_nights', 'availability_365',\n",
       "       'instant_bookable', 'host_listings', 'bathrooms', 'license'],\n",
       "      dtype='object')"
      ]
     },
     "execution_count": 101,
     "metadata": {},
     "output_type": "execute_result"
    }
   ],
   "source": [
    "# Check the changes\n",
    "listing2.columns"
   ]
  },
  {
   "cell_type": "markdown",
   "id": "98e97f96-d6b7-43e6-8899-55e88b8cb7a9",
   "metadata": {},
   "source": [
    "##### Lst3"
   ]
  },
  {
   "cell_type": "code",
   "execution_count": 181,
   "id": "76bdd021-fdbb-416f-b2fb-957f92117bd0",
   "metadata": {
    "tags": []
   },
   "outputs": [
    {
     "data": {
      "text/plain": [
       "(13362, 75)"
      ]
     },
     "execution_count": 181,
     "metadata": {},
     "output_type": "execute_result"
    }
   ],
   "source": [
    "#Lst3 size\n",
    "lst3.shape"
   ]
  },
  {
   "cell_type": "code",
   "execution_count": 186,
   "id": "f04c0820-e55c-490f-84f0-0096f48f7568",
   "metadata": {
    "tags": []
   },
   "outputs": [
    {
     "data": {
      "text/plain": [
       "Index(['id', 'listing_url', 'scrape_id', 'last_scraped', 'source', 'name',\n",
       "       'description', 'neighborhood_overview', 'picture_url', 'host_id',\n",
       "       'host_url', 'host_name', 'host_since', 'host_location', 'host_about',\n",
       "       'host_response_time', 'host_response_rate', 'host_acceptance_rate',\n",
       "       'host_is_superhost', 'host_thumbnail_url', 'host_picture_url',\n",
       "       'host_neighbourhood', 'host_listings_count',\n",
       "       'host_total_listings_count', 'host_verifications',\n",
       "       'host_has_profile_pic', 'host_identity_verified', 'neighbourhood',\n",
       "       'neighbourhood_cleansed', 'neighbourhood_group_cleansed', 'latitude',\n",
       "       'longitude', 'property_type', 'room_type', 'accommodates', 'bathrooms',\n",
       "       'bathrooms_text', 'bedrooms', 'beds', 'amenities', 'price',\n",
       "       'minimum_nights', 'maximum_nights', 'minimum_minimum_nights',\n",
       "       'maximum_minimum_nights', 'minimum_maximum_nights',\n",
       "       'maximum_maximum_nights', 'minimum_nights_avg_ntm',\n",
       "       'maximum_nights_avg_ntm', 'calendar_updated', 'has_availability',\n",
       "       'availability_30', 'availability_60', 'availability_90',\n",
       "       'availability_365', 'calendar_last_scraped', 'number_of_reviews',\n",
       "       'number_of_reviews_ltm', 'number_of_reviews_l30d', 'first_review',\n",
       "       'last_review', 'review_scores_rating', 'review_scores_accuracy',\n",
       "       'review_scores_cleanliness', 'review_scores_checkin',\n",
       "       'review_scores_communication', 'review_scores_location',\n",
       "       'review_scores_value', 'license', 'instant_bookable',\n",
       "       'calculated_host_listings_count',\n",
       "       'calculated_host_listings_count_entire_homes',\n",
       "       'calculated_host_listings_count_private_rooms',\n",
       "       'calculated_host_listings_count_shared_rooms', 'reviews_per_month'],\n",
       "      dtype='object')"
      ]
     },
     "execution_count": 186,
     "metadata": {},
     "output_type": "execute_result"
    }
   ],
   "source": [
    "# Lst3 columns\n",
    "lst3.columns"
   ]
  },
  {
   "cell_type": "code",
   "execution_count": 789,
   "id": "65a90728-be9f-4e67-8bf9-1aef1c90345f",
   "metadata": {
    "tags": []
   },
   "outputs": [],
   "source": [
    "# Select only relevant variables\n",
    "listing3 = lst3[['id', 'last_scraped', 'host_id','host_location', 'neighbourhood_group_cleansed', 'latitude','longitude', 'room_type', 'accommodates','bathrooms_text', 'bedrooms', 'beds', 'price','minimum_nights', 'maximum_nights', 'availability_365', 'license', 'instant_bookable','calculated_host_listings_count']]"
   ]
  },
  {
   "cell_type": "code",
   "execution_count": 501,
   "id": "d8a57b71-fdcc-4842-bdec-017a2cd8830f",
   "metadata": {
    "tags": []
   },
   "outputs": [
    {
     "data": {
      "text/plain": [
       "0"
      ]
     },
     "execution_count": 501,
     "metadata": {},
     "output_type": "execute_result"
    }
   ],
   "source": [
    "# Look for duplicates\n",
    "dup = listing3.duplicated()\n",
    "dup.sum()"
   ]
  },
  {
   "cell_type": "code",
   "execution_count": 503,
   "id": "f7003384-f181-48f1-8472-69429d21e03f",
   "metadata": {
    "tags": []
   },
   "outputs": [
    {
     "data": {
      "text/plain": [
       "id                                   0\n",
       "last_scraped                         0\n",
       "host_id                              0\n",
       "host_location                     2526\n",
       "neighbourhood_group_cleansed         0\n",
       "latitude                             0\n",
       "longitude                            0\n",
       "room_type                            0\n",
       "accommodates                         0\n",
       "bathrooms_text                       5\n",
       "bedrooms                          2141\n",
       "beds                              4970\n",
       "price                             4962\n",
       "minimum_nights                       0\n",
       "maximum_nights                       0\n",
       "availability_365                     0\n",
       "license                           4965\n",
       "instant_bookable                     0\n",
       "calculated_host_listings_count       0\n",
       "dtype: int64"
      ]
     },
     "execution_count": 503,
     "metadata": {},
     "output_type": "execute_result"
    }
   ],
   "source": [
    "# Look for missing values\n",
    "listing3.isnull().sum()"
   ]
  },
  {
   "cell_type": "code",
   "execution_count": 791,
   "id": "bc6ea807-9da4-48ed-bbd5-f0d67fd321ae",
   "metadata": {
    "tags": []
   },
   "outputs": [],
   "source": [
    "# Keep only numerical values for bathrooms_text\n",
    "listing3 = listing3.assign(bathrooms=listing3['bathrooms_text'].str.extract(r'(\\d+[\\.,]?\\d*)')) "
   ]
  },
  {
   "cell_type": "code",
   "execution_count": 793,
   "id": "d84d6c64-7cc4-44f3-8a61-a84c1fc18c04",
   "metadata": {
    "tags": []
   },
   "outputs": [],
   "source": [
    "# Change data type for bathroms\n",
    "listing3['bathrooms'] = listing3['bathrooms'].astype(float)"
   ]
  },
  {
   "cell_type": "code",
   "execution_count": 795,
   "id": "90aa937c-e011-4463-9601-f33ef2241934",
   "metadata": {
    "tags": []
   },
   "outputs": [],
   "source": [
    "# Drop bathrooms_text col. \n",
    "listing3.drop(columns='bathrooms_text', axis=1, inplace=True)"
   ]
  },
  {
   "cell_type": "code",
   "execution_count": 511,
   "id": "7fa2b542-c48a-4a3a-af20-e0bac0df60d7",
   "metadata": {
    "tags": []
   },
   "outputs": [
    {
     "data": {
      "text/plain": [
       "59"
      ]
     },
     "execution_count": 511,
     "metadata": {},
     "output_type": "execute_result"
    }
   ],
   "source": [
    "# Look for missing values in bathrooms\n",
    "listing3['bathrooms'].isnull().sum()"
   ]
  },
  {
   "cell_type": "code",
   "execution_count": 797,
   "id": "3ab0e52f-9217-4b8f-b2cd-401d66bdfe34",
   "metadata": {
    "tags": []
   },
   "outputs": [],
   "source": [
    "# Replace the $ sign in price\n",
    "listing3['price'] = listing3['price'].str.replace('$', '', regex=False).str.replace(',', '', regex=False).str.strip()"
   ]
  },
  {
   "cell_type": "code",
   "execution_count": 799,
   "id": "20626911-6629-477f-8ba4-13e1ad474bf7",
   "metadata": {
    "tags": []
   },
   "outputs": [],
   "source": [
    "# Change data type for price\n",
    "listing3['price'] = listing3['price'].astype(float)"
   ]
  },
  {
   "cell_type": "code",
   "execution_count": 121,
   "id": "004db492-f941-4b4d-8c1d-9f17e8bb3c1a",
   "metadata": {
    "tags": []
   },
   "outputs": [
    {
     "data": {
      "text/html": [
       "<div>\n",
       "<style scoped>\n",
       "    .dataframe tbody tr th:only-of-type {\n",
       "        vertical-align: middle;\n",
       "    }\n",
       "\n",
       "    .dataframe tbody tr th {\n",
       "        vertical-align: top;\n",
       "    }\n",
       "\n",
       "    .dataframe thead th {\n",
       "        text-align: right;\n",
       "    }\n",
       "</style>\n",
       "<table border=\"1\" class=\"dataframe\">\n",
       "  <thead>\n",
       "    <tr style=\"text-align: right;\">\n",
       "      <th></th>\n",
       "      <th>id</th>\n",
       "      <th>host_id</th>\n",
       "      <th>latitude</th>\n",
       "      <th>longitude</th>\n",
       "      <th>accommodates</th>\n",
       "      <th>bedrooms</th>\n",
       "      <th>beds</th>\n",
       "      <th>price</th>\n",
       "      <th>minimum_nights</th>\n",
       "      <th>maximum_nights</th>\n",
       "      <th>availability_365</th>\n",
       "      <th>calculated_host_listings_count</th>\n",
       "      <th>bathrooms</th>\n",
       "    </tr>\n",
       "  </thead>\n",
       "  <tbody>\n",
       "    <tr>\n",
       "      <th>count</th>\n",
       "      <td>1.336200e+04</td>\n",
       "      <td>1.336200e+04</td>\n",
       "      <td>13362.000000</td>\n",
       "      <td>13362.000000</td>\n",
       "      <td>13362.000000</td>\n",
       "      <td>11221.000000</td>\n",
       "      <td>8392.000000</td>\n",
       "      <td>8400.000000</td>\n",
       "      <td>13362.000000</td>\n",
       "      <td>13362.000000</td>\n",
       "      <td>13362.000000</td>\n",
       "      <td>13362.000000</td>\n",
       "      <td>13303.000000</td>\n",
       "    </tr>\n",
       "    <tr>\n",
       "      <th>mean</th>\n",
       "      <td>3.102020e+17</td>\n",
       "      <td>1.538724e+08</td>\n",
       "      <td>52.509676</td>\n",
       "      <td>13.402961</td>\n",
       "      <td>2.964826</td>\n",
       "      <td>1.344711</td>\n",
       "      <td>1.944471</td>\n",
       "      <td>128.425714</td>\n",
       "      <td>42.139725</td>\n",
       "      <td>599.825924</td>\n",
       "      <td>122.829666</td>\n",
       "      <td>10.123485</td>\n",
       "      <td>1.138916</td>\n",
       "    </tr>\n",
       "    <tr>\n",
       "      <th>std</th>\n",
       "      <td>4.287225e+17</td>\n",
       "      <td>1.747436e+08</td>\n",
       "      <td>0.033598</td>\n",
       "      <td>0.066296</td>\n",
       "      <td>1.879211</td>\n",
       "      <td>0.832744</td>\n",
       "      <td>1.625830</td>\n",
       "      <td>124.398528</td>\n",
       "      <td>53.564546</td>\n",
       "      <td>486.285018</td>\n",
       "      <td>128.440536</td>\n",
       "      <td>36.114710</td>\n",
       "      <td>0.409286</td>\n",
       "    </tr>\n",
       "    <tr>\n",
       "      <th>min</th>\n",
       "      <td>3.176000e+03</td>\n",
       "      <td>1.581000e+03</td>\n",
       "      <td>52.369040</td>\n",
       "      <td>13.118150</td>\n",
       "      <td>1.000000</td>\n",
       "      <td>0.000000</td>\n",
       "      <td>0.000000</td>\n",
       "      <td>9.000000</td>\n",
       "      <td>1.000000</td>\n",
       "      <td>1.000000</td>\n",
       "      <td>0.000000</td>\n",
       "      <td>1.000000</td>\n",
       "      <td>0.000000</td>\n",
       "    </tr>\n",
       "    <tr>\n",
       "      <th>25%</th>\n",
       "      <td>1.803007e+07</td>\n",
       "      <td>1.391377e+07</td>\n",
       "      <td>52.490260</td>\n",
       "      <td>13.364565</td>\n",
       "      <td>2.000000</td>\n",
       "      <td>1.000000</td>\n",
       "      <td>1.000000</td>\n",
       "      <td>67.000000</td>\n",
       "      <td>2.000000</td>\n",
       "      <td>99.250000</td>\n",
       "      <td>0.000000</td>\n",
       "      <td>1.000000</td>\n",
       "      <td>1.000000</td>\n",
       "    </tr>\n",
       "    <tr>\n",
       "      <th>50%</th>\n",
       "      <td>4.060840e+07</td>\n",
       "      <td>6.387887e+07</td>\n",
       "      <td>52.509651</td>\n",
       "      <td>13.411290</td>\n",
       "      <td>2.000000</td>\n",
       "      <td>1.000000</td>\n",
       "      <td>1.000000</td>\n",
       "      <td>99.000000</td>\n",
       "      <td>5.000000</td>\n",
       "      <td>365.000000</td>\n",
       "      <td>81.000000</td>\n",
       "      <td>1.000000</td>\n",
       "      <td>1.000000</td>\n",
       "    </tr>\n",
       "    <tr>\n",
       "      <th>75%</th>\n",
       "      <td>7.679724e+17</td>\n",
       "      <td>2.667629e+08</td>\n",
       "      <td>52.532229</td>\n",
       "      <td>13.438257</td>\n",
       "      <td>4.000000</td>\n",
       "      <td>2.000000</td>\n",
       "      <td>2.000000</td>\n",
       "      <td>150.000000</td>\n",
       "      <td>92.000000</td>\n",
       "      <td>1125.000000</td>\n",
       "      <td>241.000000</td>\n",
       "      <td>4.000000</td>\n",
       "      <td>1.000000</td>\n",
       "    </tr>\n",
       "    <tr>\n",
       "      <th>max</th>\n",
       "      <td>1.118938e+18</td>\n",
       "      <td>5.681830e+08</td>\n",
       "      <td>52.656110</td>\n",
       "      <td>13.721390</td>\n",
       "      <td>16.000000</td>\n",
       "      <td>15.000000</td>\n",
       "      <td>26.000000</td>\n",
       "      <td>3429.000000</td>\n",
       "      <td>1100.000000</td>\n",
       "      <td>9999.000000</td>\n",
       "      <td>365.000000</td>\n",
       "      <td>255.000000</td>\n",
       "      <td>8.500000</td>\n",
       "    </tr>\n",
       "  </tbody>\n",
       "</table>\n",
       "</div>"
      ],
      "text/plain": [
       "                 id       host_id      latitude     longitude  accommodates  \\\n",
       "count  1.336200e+04  1.336200e+04  13362.000000  13362.000000  13362.000000   \n",
       "mean   3.102020e+17  1.538724e+08     52.509676     13.402961      2.964826   \n",
       "std    4.287225e+17  1.747436e+08      0.033598      0.066296      1.879211   \n",
       "min    3.176000e+03  1.581000e+03     52.369040     13.118150      1.000000   \n",
       "25%    1.803007e+07  1.391377e+07     52.490260     13.364565      2.000000   \n",
       "50%    4.060840e+07  6.387887e+07     52.509651     13.411290      2.000000   \n",
       "75%    7.679724e+17  2.667629e+08     52.532229     13.438257      4.000000   \n",
       "max    1.118938e+18  5.681830e+08     52.656110     13.721390     16.000000   \n",
       "\n",
       "           bedrooms         beds        price  minimum_nights  maximum_nights  \\\n",
       "count  11221.000000  8392.000000  8400.000000    13362.000000    13362.000000   \n",
       "mean       1.344711     1.944471   128.425714       42.139725      599.825924   \n",
       "std        0.832744     1.625830   124.398528       53.564546      486.285018   \n",
       "min        0.000000     0.000000     9.000000        1.000000        1.000000   \n",
       "25%        1.000000     1.000000    67.000000        2.000000       99.250000   \n",
       "50%        1.000000     1.000000    99.000000        5.000000      365.000000   \n",
       "75%        2.000000     2.000000   150.000000       92.000000     1125.000000   \n",
       "max       15.000000    26.000000  3429.000000     1100.000000     9999.000000   \n",
       "\n",
       "       availability_365  calculated_host_listings_count     bathrooms  \n",
       "count      13362.000000                    13362.000000  13303.000000  \n",
       "mean         122.829666                       10.123485      1.138916  \n",
       "std          128.440536                       36.114710      0.409286  \n",
       "min            0.000000                        1.000000      0.000000  \n",
       "25%            0.000000                        1.000000      1.000000  \n",
       "50%           81.000000                        1.000000      1.000000  \n",
       "75%          241.000000                        4.000000      1.000000  \n",
       "max          365.000000                      255.000000      8.500000  "
      ]
     },
     "execution_count": 121,
     "metadata": {},
     "output_type": "execute_result"
    }
   ],
   "source": [
    "#Summary Statistics\n",
    "listing3.describe()"
   ]
  },
  {
   "cell_type": "code",
   "execution_count": 801,
   "id": "0e8da7b9-1f0b-443c-8ad4-cb9eef9832bd",
   "metadata": {
    "tags": []
   },
   "outputs": [
    {
     "data": {
      "text/plain": [
       "99.0"
      ]
     },
     "execution_count": 801,
     "metadata": {},
     "output_type": "execute_result"
    }
   ],
   "source": [
    "# Calculate median for price\n",
    "listing3['price'].median()"
   ]
  },
  {
   "cell_type": "code",
   "execution_count": 803,
   "id": "30b6fcf3-c220-4a9d-a63a-28b330f7e117",
   "metadata": {
    "tags": []
   },
   "outputs": [],
   "source": [
    "# Imput mean for 'bedrooms', 'beds', 'bathrooms', median for 'price'\n",
    "listing3['bedrooms'] = listing3['bedrooms'].fillna(value=1)\n",
    "listing3['beds'] = listing3['beds'].fillna(value=2)\n",
    "listing3['bathrooms'] = listing3['bathrooms'].fillna(value=1)\n",
    "listing3['price'] = listing3['price'].fillna(value=99)"
   ]
  },
  {
   "cell_type": "code",
   "execution_count": 805,
   "id": "5ee868f5-b14d-44a9-8498-06188af8c416",
   "metadata": {
    "tags": []
   },
   "outputs": [],
   "source": [
    "# Add boolean col. for license\n",
    "listing3['license_bool'] = listing3['license'].notnull()"
   ]
  },
  {
   "cell_type": "code",
   "execution_count": 807,
   "id": "c1108d55-d98e-408c-abd4-9a47907f9ecc",
   "metadata": {
    "tags": []
   },
   "outputs": [],
   "source": [
    "# Drop license col. \n",
    "listing3.drop(columns='license', axis=1, inplace=True)"
   ]
  },
  {
   "cell_type": "code",
   "execution_count": 129,
   "id": "216ee75d-75bc-4cd5-bc8f-8259cb2bcd5f",
   "metadata": {
    "tags": []
   },
   "outputs": [
    {
     "data": {
      "text/plain": [
       "id                                  int64\n",
       "last_scraped                       object\n",
       "host_id                             int64\n",
       "host_location                      object\n",
       "neighbourhood_group_cleansed       object\n",
       "latitude                          float64\n",
       "longitude                         float64\n",
       "room_type                          object\n",
       "accommodates                        int64\n",
       "bedrooms                          float64\n",
       "beds                              float64\n",
       "price                             float64\n",
       "minimum_nights                      int64\n",
       "maximum_nights                      int64\n",
       "availability_365                    int64\n",
       "license                            object\n",
       "instant_bookable                   object\n",
       "calculated_host_listings_count      int64\n",
       "bathrooms                         float64\n",
       "license_bool                         bool\n",
       "dtype: object"
      ]
     },
     "execution_count": 129,
     "metadata": {},
     "output_type": "execute_result"
    }
   ],
   "source": [
    "# Check data types\n",
    "listing3.dtypes"
   ]
  },
  {
   "cell_type": "code",
   "execution_count": 809,
   "id": "b73f7a0b-cbd9-4665-a6cf-0318da366de6",
   "metadata": {
    "tags": []
   },
   "outputs": [],
   "source": [
    "# Change data type for 'id', 'host_id', 'host_is_superhost', 'instant_bookable'\n",
    "listing3 = listing3.astype({'id':str, 'host_id':str, 'instant_bookable':bool})"
   ]
  },
  {
   "cell_type": "code",
   "execution_count": 811,
   "id": "b105cd72-1b5e-4e89-ad6d-79d10892076c",
   "metadata": {
    "tags": []
   },
   "outputs": [],
   "source": [
    "# Apply dictionary to change cols names\n",
    "listing3.rename(columns=new_name, inplace=True)"
   ]
  },
  {
   "cell_type": "code",
   "execution_count": 135,
   "id": "d0ae8e23-8d66-48f8-9411-237e7d66255e",
   "metadata": {
    "tags": []
   },
   "outputs": [
    {
     "data": {
      "text/plain": [
       "Index(['id', 'last_scraped', 'host_id', 'host_location', 'neighbourhood',\n",
       "       'latitude', 'longitude', 'room_type', 'accommodates', 'bedrooms',\n",
       "       'beds', 'price', 'minimum_nights', 'maximum_nights', 'availability_365',\n",
       "       'license', 'instant_bookable', 'host_listings', 'bathrooms', 'license'],\n",
       "      dtype='object')"
      ]
     },
     "execution_count": 135,
     "metadata": {},
     "output_type": "execute_result"
    }
   ],
   "source": [
    "# Check the changes\n",
    "listing3.columns"
   ]
  },
  {
   "cell_type": "markdown",
   "id": "fb20f867-34da-4641-89f3-13b8c33fd798",
   "metadata": {},
   "source": [
    "##### Lst4"
   ]
  },
  {
   "cell_type": "code",
   "execution_count": 244,
   "id": "99a57775-1e2a-44dd-a233-b656507e8592",
   "metadata": {
    "tags": []
   },
   "outputs": [
    {
     "data": {
      "text/plain": [
       "(13759, 75)"
      ]
     },
     "execution_count": 244,
     "metadata": {},
     "output_type": "execute_result"
    }
   ],
   "source": [
    "# Lst4 size\n",
    "lst4.shape"
   ]
  },
  {
   "cell_type": "code",
   "execution_count": 247,
   "id": "46a282e2-3f5d-4e34-bc66-3272cb9f9676",
   "metadata": {
    "tags": []
   },
   "outputs": [
    {
     "data": {
      "text/plain": [
       "Index(['id', 'listing_url', 'scrape_id', 'last_scraped', 'source', 'name',\n",
       "       'description', 'neighborhood_overview', 'picture_url', 'host_id',\n",
       "       'host_url', 'host_name', 'host_since', 'host_location', 'host_about',\n",
       "       'host_response_time', 'host_response_rate', 'host_acceptance_rate',\n",
       "       'host_is_superhost', 'host_thumbnail_url', 'host_picture_url',\n",
       "       'host_neighbourhood', 'host_listings_count',\n",
       "       'host_total_listings_count', 'host_verifications',\n",
       "       'host_has_profile_pic', 'host_identity_verified', 'neighbourhood',\n",
       "       'neighbourhood_cleansed', 'neighbourhood_group_cleansed', 'latitude',\n",
       "       'longitude', 'property_type', 'room_type', 'accommodates', 'bathrooms',\n",
       "       'bathrooms_text', 'bedrooms', 'beds', 'amenities', 'price',\n",
       "       'minimum_nights', 'maximum_nights', 'minimum_minimum_nights',\n",
       "       'maximum_minimum_nights', 'minimum_maximum_nights',\n",
       "       'maximum_maximum_nights', 'minimum_nights_avg_ntm',\n",
       "       'maximum_nights_avg_ntm', 'calendar_updated', 'has_availability',\n",
       "       'availability_30', 'availability_60', 'availability_90',\n",
       "       'availability_365', 'calendar_last_scraped', 'number_of_reviews',\n",
       "       'number_of_reviews_ltm', 'number_of_reviews_l30d', 'first_review',\n",
       "       'last_review', 'review_scores_rating', 'review_scores_accuracy',\n",
       "       'review_scores_cleanliness', 'review_scores_checkin',\n",
       "       'review_scores_communication', 'review_scores_location',\n",
       "       'review_scores_value', 'license', 'instant_bookable',\n",
       "       'calculated_host_listings_count',\n",
       "       'calculated_host_listings_count_entire_homes',\n",
       "       'calculated_host_listings_count_private_rooms',\n",
       "       'calculated_host_listings_count_shared_rooms', 'reviews_per_month'],\n",
       "      dtype='object')"
      ]
     },
     "execution_count": 247,
     "metadata": {},
     "output_type": "execute_result"
    }
   ],
   "source": [
    "# Lst4 columns names\n",
    "lst4.columns"
   ]
  },
  {
   "cell_type": "code",
   "execution_count": 813,
   "id": "b6c85328-8c1e-46ec-94c1-38ca76a105c9",
   "metadata": {
    "tags": []
   },
   "outputs": [],
   "source": [
    "# Select only relevant variables\n",
    "listing4 = lst4[['id', 'last_scraped', 'host_id','host_location', 'neighbourhood_group_cleansed', 'latitude','longitude', 'room_type', 'accommodates','bathrooms_text', 'bedrooms', 'beds', 'price','minimum_nights', 'maximum_nights', 'availability_365', 'license', 'instant_bookable','calculated_host_listings_count']]"
   ]
  },
  {
   "cell_type": "code",
   "execution_count": 183,
   "id": "d4abdd5f-c316-4d77-989b-6cbd584a88f1",
   "metadata": {
    "tags": []
   },
   "outputs": [
    {
     "data": {
      "text/plain": [
       "0"
      ]
     },
     "execution_count": 183,
     "metadata": {},
     "output_type": "execute_result"
    }
   ],
   "source": [
    "# Look for duplicates\n",
    "dup = listing4.duplicated()\n",
    "dup.sum()"
   ]
  },
  {
   "cell_type": "code",
   "execution_count": 185,
   "id": "d8d76d0b-41c7-4a98-a5d1-1a9aae9e50bf",
   "metadata": {
    "tags": []
   },
   "outputs": [
    {
     "data": {
      "text/plain": [
       "id                                   0\n",
       "last_scraped                         0\n",
       "host_id                              0\n",
       "host_location                     2696\n",
       "neighbourhood_group_cleansed         0\n",
       "latitude                             0\n",
       "longitude                            0\n",
       "room_type                            0\n",
       "accommodates                         0\n",
       "bathrooms_text                       5\n",
       "bedrooms                          2057\n",
       "beds                              5001\n",
       "price                             4938\n",
       "minimum_nights                       0\n",
       "maximum_nights                       0\n",
       "availability_365                     0\n",
       "license                           4956\n",
       "instant_bookable                     0\n",
       "calculated_host_listings_count       0\n",
       "dtype: int64"
      ]
     },
     "execution_count": 185,
     "metadata": {},
     "output_type": "execute_result"
    }
   ],
   "source": [
    "# Look for missing values\n",
    "listing4.isnull().sum()"
   ]
  },
  {
   "cell_type": "code",
   "execution_count": 815,
   "id": "3937b1f4-52a5-4eff-ad07-a7ef39c4f0a7",
   "metadata": {
    "tags": []
   },
   "outputs": [],
   "source": [
    "# Keep only numerical values for bathrooms_text\n",
    "listing4 = listing4.assign(bathrooms=listing4['bathrooms_text'].str.extract(r'(\\d+[\\.,]?\\d*)'))"
   ]
  },
  {
   "cell_type": "code",
   "execution_count": 817,
   "id": "849886a9-3470-4db9-b301-8fc58a62909c",
   "metadata": {
    "tags": []
   },
   "outputs": [],
   "source": [
    "# Change data type for bathrooms\n",
    "listing4['bathrooms'] = listing4['bathrooms'].astype(float)"
   ]
  },
  {
   "cell_type": "code",
   "execution_count": 819,
   "id": "b60916c6-bf34-4a62-9177-3dd069c2e092",
   "metadata": {
    "tags": []
   },
   "outputs": [],
   "source": [
    "# Drop bathrooms_text\n",
    "listing4.drop(columns='bathrooms_text', axis=1, inplace=True)"
   ]
  },
  {
   "cell_type": "code",
   "execution_count": 537,
   "id": "4d09dd15-9da9-47f0-a8e4-791ed205db5d",
   "metadata": {
    "tags": []
   },
   "outputs": [
    {
     "data": {
      "text/plain": [
       "67"
      ]
     },
     "execution_count": 537,
     "metadata": {},
     "output_type": "execute_result"
    }
   ],
   "source": [
    "# Look for missing values in bathrooms\n",
    "listing4['bathrooms'].isnull().sum()"
   ]
  },
  {
   "cell_type": "code",
   "execution_count": 821,
   "id": "29174eca-679f-415b-a742-891801115675",
   "metadata": {
    "tags": []
   },
   "outputs": [],
   "source": [
    "# Replace the $ sign in price\n",
    "listing4['price'] = listing4['price'].str.replace('$', '', regex=False).str.replace(',', '', regex=False).str.strip()"
   ]
  },
  {
   "cell_type": "code",
   "execution_count": 823,
   "id": "29eec6ff-14cd-4b01-84ed-e87ad26606aa",
   "metadata": {
    "tags": []
   },
   "outputs": [],
   "source": [
    "# Change data type for price\n",
    "listing4['price'] = listing4['price'].astype(float)"
   ]
  },
  {
   "cell_type": "code",
   "execution_count": 201,
   "id": "b121cd43-ff5f-4d6b-990b-a8410d2266f0",
   "metadata": {
    "tags": []
   },
   "outputs": [
    {
     "data": {
      "text/html": [
       "<div>\n",
       "<style scoped>\n",
       "    .dataframe tbody tr th:only-of-type {\n",
       "        vertical-align: middle;\n",
       "    }\n",
       "\n",
       "    .dataframe tbody tr th {\n",
       "        vertical-align: top;\n",
       "    }\n",
       "\n",
       "    .dataframe thead th {\n",
       "        text-align: right;\n",
       "    }\n",
       "</style>\n",
       "<table border=\"1\" class=\"dataframe\">\n",
       "  <thead>\n",
       "    <tr style=\"text-align: right;\">\n",
       "      <th></th>\n",
       "      <th>id</th>\n",
       "      <th>host_id</th>\n",
       "      <th>latitude</th>\n",
       "      <th>longitude</th>\n",
       "      <th>accommodates</th>\n",
       "      <th>bedrooms</th>\n",
       "      <th>beds</th>\n",
       "      <th>price</th>\n",
       "      <th>minimum_nights</th>\n",
       "      <th>maximum_nights</th>\n",
       "      <th>availability_365</th>\n",
       "      <th>calculated_host_listings_count</th>\n",
       "      <th>bathrooms</th>\n",
       "    </tr>\n",
       "  </thead>\n",
       "  <tbody>\n",
       "    <tr>\n",
       "      <th>count</th>\n",
       "      <td>1.375900e+04</td>\n",
       "      <td>1.375900e+04</td>\n",
       "      <td>13759.000000</td>\n",
       "      <td>13759.000000</td>\n",
       "      <td>13759.000000</td>\n",
       "      <td>11702.000000</td>\n",
       "      <td>8758.000000</td>\n",
       "      <td>8821.000000</td>\n",
       "      <td>13759.000000</td>\n",
       "      <td>13759.000000</td>\n",
       "      <td>13759.000000</td>\n",
       "      <td>13759.000000</td>\n",
       "      <td>13692.000000</td>\n",
       "    </tr>\n",
       "    <tr>\n",
       "      <th>mean</th>\n",
       "      <td>3.529798e+17</td>\n",
       "      <td>1.618469e+08</td>\n",
       "      <td>52.509342</td>\n",
       "      <td>13.402723</td>\n",
       "      <td>2.993968</td>\n",
       "      <td>1.346180</td>\n",
       "      <td>1.861612</td>\n",
       "      <td>154.840381</td>\n",
       "      <td>40.905952</td>\n",
       "      <td>583.216949</td>\n",
       "      <td>125.307799</td>\n",
       "      <td>11.022531</td>\n",
       "      <td>1.141177</td>\n",
       "    </tr>\n",
       "    <tr>\n",
       "      <th>std</th>\n",
       "      <td>4.588343e+17</td>\n",
       "      <td>1.822188e+08</td>\n",
       "      <td>0.033789</td>\n",
       "      <td>0.067338</td>\n",
       "      <td>1.896326</td>\n",
       "      <td>0.829784</td>\n",
       "      <td>1.683820</td>\n",
       "      <td>296.293035</td>\n",
       "      <td>52.400853</td>\n",
       "      <td>483.065031</td>\n",
       "      <td>129.410364</td>\n",
       "      <td>40.753865</td>\n",
       "      <td>0.428566</td>\n",
       "    </tr>\n",
       "    <tr>\n",
       "      <th>min</th>\n",
       "      <td>3.176000e+03</td>\n",
       "      <td>1.581000e+03</td>\n",
       "      <td>52.340190</td>\n",
       "      <td>13.118150</td>\n",
       "      <td>1.000000</td>\n",
       "      <td>0.000000</td>\n",
       "      <td>0.000000</td>\n",
       "      <td>9.000000</td>\n",
       "      <td>1.000000</td>\n",
       "      <td>1.000000</td>\n",
       "      <td>0.000000</td>\n",
       "      <td>1.000000</td>\n",
       "      <td>0.000000</td>\n",
       "    </tr>\n",
       "    <tr>\n",
       "      <th>25%</th>\n",
       "      <td>1.884756e+07</td>\n",
       "      <td>1.447609e+07</td>\n",
       "      <td>52.490077</td>\n",
       "      <td>13.362765</td>\n",
       "      <td>2.000000</td>\n",
       "      <td>1.000000</td>\n",
       "      <td>1.000000</td>\n",
       "      <td>74.000000</td>\n",
       "      <td>2.000000</td>\n",
       "      <td>92.000000</td>\n",
       "      <td>0.000000</td>\n",
       "      <td>1.000000</td>\n",
       "      <td>1.000000</td>\n",
       "    </tr>\n",
       "    <tr>\n",
       "      <th>50%</th>\n",
       "      <td>4.234426e+07</td>\n",
       "      <td>6.789678e+07</td>\n",
       "      <td>52.509220</td>\n",
       "      <td>13.411275</td>\n",
       "      <td>2.000000</td>\n",
       "      <td>1.000000</td>\n",
       "      <td>1.000000</td>\n",
       "      <td>114.000000</td>\n",
       "      <td>5.000000</td>\n",
       "      <td>365.000000</td>\n",
       "      <td>82.000000</td>\n",
       "      <td>1.000000</td>\n",
       "      <td>1.000000</td>\n",
       "    </tr>\n",
       "    <tr>\n",
       "      <th>75%</th>\n",
       "      <td>8.461250e+17</td>\n",
       "      <td>2.785392e+08</td>\n",
       "      <td>52.532147</td>\n",
       "      <td>13.438580</td>\n",
       "      <td>4.000000</td>\n",
       "      <td>2.000000</td>\n",
       "      <td>2.000000</td>\n",
       "      <td>186.000000</td>\n",
       "      <td>92.000000</td>\n",
       "      <td>1125.000000</td>\n",
       "      <td>252.000000</td>\n",
       "      <td>4.000000</td>\n",
       "      <td>1.000000</td>\n",
       "    </tr>\n",
       "    <tr>\n",
       "      <th>max</th>\n",
       "      <td>1.184030e+18</td>\n",
       "      <td>5.846847e+08</td>\n",
       "      <td>52.656110</td>\n",
       "      <td>13.721390</td>\n",
       "      <td>16.000000</td>\n",
       "      <td>15.000000</td>\n",
       "      <td>26.000000</td>\n",
       "      <td>24277.000000</td>\n",
       "      <td>1000.000000</td>\n",
       "      <td>9999.000000</td>\n",
       "      <td>365.000000</td>\n",
       "      <td>281.000000</td>\n",
       "      <td>15.000000</td>\n",
       "    </tr>\n",
       "  </tbody>\n",
       "</table>\n",
       "</div>"
      ],
      "text/plain": [
       "                 id       host_id      latitude     longitude  accommodates  \\\n",
       "count  1.375900e+04  1.375900e+04  13759.000000  13759.000000  13759.000000   \n",
       "mean   3.529798e+17  1.618469e+08     52.509342     13.402723      2.993968   \n",
       "std    4.588343e+17  1.822188e+08      0.033789      0.067338      1.896326   \n",
       "min    3.176000e+03  1.581000e+03     52.340190     13.118150      1.000000   \n",
       "25%    1.884756e+07  1.447609e+07     52.490077     13.362765      2.000000   \n",
       "50%    4.234426e+07  6.789678e+07     52.509220     13.411275      2.000000   \n",
       "75%    8.461250e+17  2.785392e+08     52.532147     13.438580      4.000000   \n",
       "max    1.184030e+18  5.846847e+08     52.656110     13.721390     16.000000   \n",
       "\n",
       "           bedrooms         beds         price  minimum_nights  \\\n",
       "count  11702.000000  8758.000000   8821.000000    13759.000000   \n",
       "mean       1.346180     1.861612    154.840381       40.905952   \n",
       "std        0.829784     1.683820    296.293035       52.400853   \n",
       "min        0.000000     0.000000      9.000000        1.000000   \n",
       "25%        1.000000     1.000000     74.000000        2.000000   \n",
       "50%        1.000000     1.000000    114.000000        5.000000   \n",
       "75%        2.000000     2.000000    186.000000       92.000000   \n",
       "max       15.000000    26.000000  24277.000000     1000.000000   \n",
       "\n",
       "       maximum_nights  availability_365  calculated_host_listings_count  \\\n",
       "count    13759.000000      13759.000000                    13759.000000   \n",
       "mean       583.216949        125.307799                       11.022531   \n",
       "std        483.065031        129.410364                       40.753865   \n",
       "min          1.000000          0.000000                        1.000000   \n",
       "25%         92.000000          0.000000                        1.000000   \n",
       "50%        365.000000         82.000000                        1.000000   \n",
       "75%       1125.000000        252.000000                        4.000000   \n",
       "max       9999.000000        365.000000                      281.000000   \n",
       "\n",
       "          bathrooms  \n",
       "count  13692.000000  \n",
       "mean       1.141177  \n",
       "std        0.428566  \n",
       "min        0.000000  \n",
       "25%        1.000000  \n",
       "50%        1.000000  \n",
       "75%        1.000000  \n",
       "max       15.000000  "
      ]
     },
     "execution_count": 201,
     "metadata": {},
     "output_type": "execute_result"
    }
   ],
   "source": [
    "# Summary Statistics\n",
    "listing4.describe()"
   ]
  },
  {
   "cell_type": "code",
   "execution_count": 543,
   "id": "dba2b66b-819b-48ca-b8c1-104e4e942a37",
   "metadata": {
    "tags": []
   },
   "outputs": [
    {
     "data": {
      "text/plain": [
       "114.0"
      ]
     },
     "execution_count": 543,
     "metadata": {},
     "output_type": "execute_result"
    }
   ],
   "source": [
    "# Calculate median for price\n",
    "listing4['price'].median()"
   ]
  },
  {
   "cell_type": "code",
   "execution_count": 825,
   "id": "4e027598-8595-4601-9270-373549c5d395",
   "metadata": {
    "tags": []
   },
   "outputs": [],
   "source": [
    "# Imput mean for 'bedrooms', beds, 'bathrooms', median for 'price'\n",
    "listing4['bedrooms'] = listing4['bedrooms'].fillna(value=1)\n",
    "listing4['beds'] = listing4['beds'].fillna(value=2)\n",
    "listing4['bathrooms'] = listing4['bathrooms'].fillna(value=1)\n",
    "listing4['price'] = listing4['price'].fillna(value=114)"
   ]
  },
  {
   "cell_type": "code",
   "execution_count": 827,
   "id": "6db31b3a-5a13-43a8-9633-8175e9811941",
   "metadata": {
    "tags": []
   },
   "outputs": [],
   "source": [
    "# Add boolean col. for license\n",
    "listing4['license_bool'] = listing4['license'].notnull()"
   ]
  },
  {
   "cell_type": "code",
   "execution_count": 829,
   "id": "d3d6ab9f-ecf5-4d67-820e-463776e323a6",
   "metadata": {
    "tags": []
   },
   "outputs": [],
   "source": [
    "# Drop license col. \n",
    "listing4.drop(columns='license', axis=1, inplace=True)"
   ]
  },
  {
   "cell_type": "code",
   "execution_count": 211,
   "id": "c677c925-e03a-467e-ace3-c2be9c37cf85",
   "metadata": {
    "tags": []
   },
   "outputs": [
    {
     "data": {
      "text/plain": [
       "id                                  int64\n",
       "last_scraped                       object\n",
       "host_id                             int64\n",
       "host_location                      object\n",
       "neighbourhood_group_cleansed       object\n",
       "latitude                          float64\n",
       "longitude                         float64\n",
       "room_type                          object\n",
       "accommodates                        int64\n",
       "bedrooms                          float64\n",
       "beds                              float64\n",
       "price                             float64\n",
       "minimum_nights                      int64\n",
       "maximum_nights                      int64\n",
       "availability_365                    int64\n",
       "instant_bookable                   object\n",
       "calculated_host_listings_count      int64\n",
       "bathrooms                         float64\n",
       "license_bool                         bool\n",
       "dtype: object"
      ]
     },
     "execution_count": 211,
     "metadata": {},
     "output_type": "execute_result"
    }
   ],
   "source": [
    "# Check data types\n",
    "listing4.dtypes"
   ]
  },
  {
   "cell_type": "code",
   "execution_count": 831,
   "id": "63e9adef-22aa-46f6-84b3-b518b24c84e4",
   "metadata": {
    "tags": []
   },
   "outputs": [],
   "source": [
    "# Change data type for 'id', 'host_id', 'host_is_superhost', 'instant_bookable'\n",
    "listing4 = listing4.astype({'id':str, 'host_id':str, 'instant_bookable':bool})"
   ]
  },
  {
   "cell_type": "code",
   "execution_count": 833,
   "id": "78c92aac-8991-4c45-9a30-bf2dec9bdc44",
   "metadata": {
    "tags": []
   },
   "outputs": [],
   "source": [
    "# Apply dictionary to change cols names\n",
    "listing4.rename(columns=new_name, inplace=True)"
   ]
  },
  {
   "cell_type": "code",
   "execution_count": 217,
   "id": "2f043c16-dc07-4066-8ba2-6ebf18425aa4",
   "metadata": {
    "tags": []
   },
   "outputs": [
    {
     "data": {
      "text/plain": [
       "Index(['id', 'last_scraped', 'host_id', 'host_location', 'neighbourhood',\n",
       "       'latitude', 'longitude', 'room_type', 'accommodates', 'bedrooms',\n",
       "       'beds', 'price', 'minimum_nights', 'maximum_nights', 'availability_365',\n",
       "       'instant_bookable', 'host_listings', 'bathrooms', 'license'],\n",
       "      dtype='object')"
      ]
     },
     "execution_count": 217,
     "metadata": {},
     "output_type": "execute_result"
    }
   ],
   "source": [
    "# Check changes\n",
    "listing4.columns"
   ]
  },
  {
   "cell_type": "markdown",
   "id": "435f3311-ad6d-4fed-a127-13e6f19213dc",
   "metadata": {},
   "source": [
    "## Handling Outliers and Inconsistencies"
   ]
  },
  {
   "cell_type": "markdown",
   "id": "44b1306b-7a77-4bed-aba6-2b9ad1b9f8be",
   "metadata": {},
   "source": [
    "##### Max price of 24.999 for listing 1 and 2 and price of 24.277 for listing 4 are too high even for luxury listings"
   ]
  },
  {
   "cell_type": "code",
   "execution_count": 835,
   "id": "d8d7db2b-840a-4bca-84ea-bd2739aa7da4",
   "metadata": {
    "tags": []
   },
   "outputs": [],
   "source": [
    "# Calculate mean and st. deviation for listing1\n",
    "mean = listing1['price'].mean()\n",
    "std = listing1['price'].std()"
   ]
  },
  {
   "cell_type": "code",
   "execution_count": 837,
   "id": "f952f698-5003-4e81-aeef-0f3f2a0de90a",
   "metadata": {
    "tags": []
   },
   "outputs": [],
   "source": [
    "# Z-score\n",
    "listing1['z_score'] = (listing1['price'] - mean) / std"
   ]
  },
  {
   "cell_type": "code",
   "execution_count": 839,
   "id": "fb7d8ec5-d5a2-4dae-a6a0-cac4336c9ce8",
   "metadata": {
    "tags": []
   },
   "outputs": [],
   "source": [
    "# Threshold\n",
    "threshold = 3"
   ]
  },
  {
   "cell_type": "code",
   "execution_count": 841,
   "id": "4dd10bb7-938a-4738-ad5e-11854b4164d7",
   "metadata": {
    "tags": []
   },
   "outputs": [],
   "source": [
    "# Outliers\n",
    "outliers = listing1[np.abs(listing1['z_score']) > threshold]"
   ]
  },
  {
   "cell_type": "code",
   "execution_count": 563,
   "id": "b73ebdfc-ec53-4899-9fc9-0d4985d464a6",
   "metadata": {
    "tags": []
   },
   "outputs": [],
   "source": [
    "# Printing id and price of the outliers for investigation\n",
    "to_print = ['id', 'price']"
   ]
  },
  {
   "cell_type": "code",
   "execution_count": 323,
   "id": "e3d16b3a-b4b2-4d2f-9def-12f9742f92f0",
   "metadata": {
    "tags": []
   },
   "outputs": [],
   "source": [
    "out = outliers[to_print]"
   ]
  },
  {
   "cell_type": "code",
   "execution_count": 326,
   "id": "a858a6b9-1df6-4277-8418-92e940556325",
   "metadata": {
    "tags": []
   },
   "outputs": [
    {
     "name": "stdout",
     "output_type": "stream",
     "text": [
      "                       id    price\n",
      "713               2860420   2500.0\n",
      "1693              7807397   3429.0\n",
      "5401             29022451   1497.0\n",
      "5402             29022524   1691.0\n",
      "6930             39877586   3000.0\n",
      "7282             41787739   2310.0\n",
      "7298             41897771  24999.0\n",
      "7312             41923918  24999.0\n",
      "7314             41924747  24999.0\n",
      "9050             53712999   1338.0\n",
      "9065             53733309   1424.0\n",
      "9830   648389751444769673   2088.0\n",
      "9945   662966098610376381   1900.0\n",
      "10338  706232116352290861   1800.0\n",
      "10378  712058799866210922   1425.0\n",
      "12066  909318377890699731   1373.0\n",
      "12069  909527058663796716  10000.0\n"
     ]
    }
   ],
   "source": [
    "print(out)"
   ]
  },
  {
   "cell_type": "markdown",
   "id": "be8936ad-3706-4aff-ad1d-7eceeb1e0818",
   "metadata": {},
   "source": [
    "Records: 7298, 7312, 7314, 12069 are not listed anymore on AirBnb and the price per night is too hight, even for luxury hotels or apartments. "
   ]
  },
  {
   "cell_type": "code",
   "execution_count": 843,
   "id": "b0e6145b-fb6d-4580-aa58-204e910f9989",
   "metadata": {
    "tags": []
   },
   "outputs": [],
   "source": [
    "# Calculate mean and st. deviation for listing2\n",
    "mean = listing2['price'].mean()\n",
    "std = listing2['price'].std()"
   ]
  },
  {
   "cell_type": "code",
   "execution_count": 845,
   "id": "7cb748c3-91f3-4a44-b078-42cfd7ffcb5e",
   "metadata": {
    "tags": []
   },
   "outputs": [],
   "source": [
    "# Z-score\n",
    "listing2['z_score'] = (listing2['price'] - mean) / std"
   ]
  },
  {
   "cell_type": "code",
   "execution_count": 847,
   "id": "c3cd56ca-4a5b-4f9e-b5ee-821f4e3108f4",
   "metadata": {
    "tags": []
   },
   "outputs": [],
   "source": [
    "# Outliers\n",
    "outliers = listing2[np.abs(listing2['z_score']) > threshold]"
   ]
  },
  {
   "cell_type": "code",
   "execution_count": 343,
   "id": "bb99806b-cd22-4ee2-b2a8-8510a7603038",
   "metadata": {
    "tags": []
   },
   "outputs": [],
   "source": [
    "# Printing id and price of the outliers for investigation\n",
    "to_print = ['id', 'price']"
   ]
  },
  {
   "cell_type": "code",
   "execution_count": 343,
   "id": "53fcf71b-c091-4b6a-b8ce-6452ff8c5373",
   "metadata": {
    "tags": []
   },
   "outputs": [],
   "source": [
    "out = outliers[to_print]"
   ]
  },
  {
   "cell_type": "code",
   "execution_count": 346,
   "id": "06022f3b-28f6-442f-a501-db5354c7652c",
   "metadata": {
    "tags": []
   },
   "outputs": [
    {
     "name": "stdout",
     "output_type": "stream",
     "text": [
      "                       id    price\n",
      "453               1342115   1260.0\n",
      "727               2860420   2500.0\n",
      "1715              7807397   3429.0\n",
      "3255             16799799   1375.0\n",
      "5287             29022524   1594.0\n",
      "5396             29509865   1358.0\n",
      "5397             29509869   1659.0\n",
      "6248             36165198   1611.0\n",
      "6621             38502596   1200.0\n",
      "6764             39877586   3000.0\n",
      "7016             41224162   1457.0\n",
      "7080             41897771  24999.0\n",
      "7107             41924747  24999.0\n",
      "7183             41787739   2310.0\n",
      "8035             47742881   1146.0\n",
      "9596   648389751444769673   1856.0\n",
      "9673   662966098610376381   1900.0\n",
      "12239  965294059855869245   2500.0\n",
      "12606  993210282733742154   1800.0\n"
     ]
    }
   ],
   "source": [
    "print(out)"
   ]
  },
  {
   "cell_type": "markdown",
   "id": "9094f377-cfa7-4f38-9111-4f2ba6ad3d01",
   "metadata": {},
   "source": [
    "Records: 7080, 7107 are not listed anymore on AirBnb and the price per night is too hight, even for luxury hotels or apartments."
   ]
  },
  {
   "cell_type": "code",
   "execution_count": 849,
   "id": "02b71d8a-9959-4fb4-a670-7953d6541fb1",
   "metadata": {
    "tags": []
   },
   "outputs": [],
   "source": [
    "# Calculate mean and st. deviation for listing4\n",
    "mean = listing4['price'].mean()\n",
    "std = listing4['price'].std()"
   ]
  },
  {
   "cell_type": "code",
   "execution_count": 851,
   "id": "3be60186-3977-4378-b84c-f83cf6d54930",
   "metadata": {
    "tags": []
   },
   "outputs": [],
   "source": [
    "# Z-score\n",
    "listing4['z_score'] = (listing4['price'] - mean) / std"
   ]
  },
  {
   "cell_type": "code",
   "execution_count": 853,
   "id": "9a2df956-e7ad-4553-9a9e-abff2e96678a",
   "metadata": {
    "tags": []
   },
   "outputs": [],
   "source": [
    "# Outliers\n",
    "outliers = listing4[np.abs(listing4['z_score']) > threshold]"
   ]
  },
  {
   "cell_type": "code",
   "execution_count": 243,
   "id": "36806d41-76e2-4a07-929a-6e8ba778f073",
   "metadata": {
    "tags": []
   },
   "outputs": [],
   "source": [
    "# Change display options for web scraping\n",
    "pd.set_option('display.max_rows', None)"
   ]
  },
  {
   "cell_type": "code",
   "execution_count": 577,
   "id": "379760d0-86e6-4032-9a8c-b32322e243d5",
   "metadata": {
    "tags": []
   },
   "outputs": [],
   "source": [
    "# Printing id and price of the outliers for investigation\n",
    "to_print = ['id', 'price']"
   ]
  },
  {
   "cell_type": "code",
   "execution_count": 366,
   "id": "dc3bfa13-6386-419e-b559-fe5c6bd1579b",
   "metadata": {
    "tags": []
   },
   "outputs": [],
   "source": [
    "out = outliers[to_print]"
   ]
  },
  {
   "cell_type": "code",
   "execution_count": 369,
   "id": "95ad2950-6982-4498-bf4c-0bdf618a93a7",
   "metadata": {
    "tags": []
   },
   "outputs": [
    {
     "name": "stdout",
     "output_type": "stream",
     "text": [
      "                        id    price\n",
      "422                1342115   1260.0\n",
      "682                2860420   2500.0\n",
      "1610               7807397   3429.0\n",
      "1880               9268629   1058.0\n",
      "2569              13060403    950.0\n",
      "2698              13868134    925.0\n",
      "3024              16245894    985.0\n",
      "3126              16799799   1250.0\n",
      "3260              17786473    885.0\n",
      "3491              19153150   1822.0\n",
      "3637              19961235   1798.0\n",
      "4055              22075653    928.0\n",
      "4216              22966047   1287.0\n",
      "5042              29022451   1014.0\n",
      "5043              29022524   1178.0\n",
      "5343              31278404  24277.0\n",
      "5347              31297828   1129.0\n",
      "6060              36871553    959.0\n",
      "6258              38502596   1200.0\n",
      "6446              39877586   3000.0\n",
      "6587              40650136    860.0\n",
      "6990              42803135    999.0\n",
      "6991              42804250    999.0\n",
      "6992              42805419    999.0\n",
      "6993              42805553    999.0\n",
      "6994              42805923    999.0\n",
      "7599              47742881   1190.0\n",
      "7668              48840032   1244.0\n",
      "7754              49850122   1290.0\n",
      "8069              51936436   1000.0\n",
      "8306              53581309   1214.0\n",
      "8670    588874651143941151   1068.0\n",
      "8977    648389751444769673   2204.0\n",
      "8997    651857017585155116   1529.0\n",
      "9071    662966098610376381   1900.0\n",
      "9768    764058368542453425    865.0\n",
      "10288   842053424758910691    949.0\n",
      "10973   928290731641806731    896.0\n",
      "11059   937478959168419341    969.0\n",
      "11060   937547715189027361   1045.0\n",
      "11068   938188669139559360   1107.0\n",
      "11080   939185728575965294   1053.0\n",
      "11081   939190534876771490   2000.0\n",
      "11115   943391373716261442   1100.0\n",
      "11292   958727989068849865   1074.0\n",
      "11376   968557844426030876   1856.0\n",
      "11658   993210282733742154   1800.0\n",
      "12096  1036803354601817922    964.0\n",
      "12098  1036902971706422886    964.0\n",
      "12374  1067296802328012537    884.0\n",
      "12395  1069472396380797087    914.0\n",
      "12530  1082176822598766475    999.0\n",
      "12531  1082200353872390326    999.0\n",
      "12601  1087685373633667789    999.0\n",
      "12602  1087686213626546117    999.0\n",
      "12603  1087688115609349715    999.0\n",
      "12604  1087688652490922334    999.0\n",
      "12605  1087689407848073045    999.0\n",
      "12606  1087690197551314799    999.0\n",
      "12607  1087691143770888713    999.0\n",
      "12608  1087692732577620133    999.0\n",
      "12609  1087693783348836737    999.0\n",
      "12610  1087703187510461224    999.0\n",
      "12923  1112346531794800088    990.0\n",
      "13169  1134723162614915702    857.0\n",
      "13370  1153347381591823573   1171.0\n",
      "13450  1160873838832594545   1200.0\n",
      "13539  1167387880549609242   1000.0\n",
      "13684  1177760348077579164   1100.0\n"
     ]
    }
   ],
   "source": [
    "print(out)"
   ]
  },
  {
   "cell_type": "markdown",
   "id": "e64128ad-ed6f-4452-bd8f-653f91cbe8c2",
   "metadata": {},
   "source": [
    "Record 5343 is not listed anymore on AirBnb and the price per night is too hight, even for luxury hotels or apartments. "
   ]
  },
  {
   "cell_type": "code",
   "execution_count": 855,
   "id": "eb3000e5-7465-458b-b99b-3b346b663014",
   "metadata": {
    "tags": []
   },
   "outputs": [],
   "source": [
    "# Drop outliers that are not listed anymore\n",
    "listing1 = listing1.drop([7298, 7312, 7314, 12069])\n",
    "listing2 = listing2.drop([7080, 7107])\n",
    "listing4 = listing4.drop(5343)"
   ]
  },
  {
   "cell_type": "code",
   "execution_count": 857,
   "id": "249f51f6-ea3e-4e5b-88f3-cb649af97c4b",
   "metadata": {
    "tags": []
   },
   "outputs": [],
   "source": [
    "# Drop z_score cols. \n",
    "listing1.drop('z_score', axis=1, inplace=True)\n",
    "listing2.drop('z_score', axis=1, inplace=True)\n",
    "listing4.drop('z_score', axis=1, inplace=True)"
   ]
  },
  {
   "cell_type": "markdown",
   "id": "1aca733f-ad83-447a-92b3-a134362786c8",
   "metadata": {},
   "source": [
    "##### Minimum Beds 0 in listing3 and listing4 is too low"
   ]
  },
  {
   "cell_type": "code",
   "execution_count": 859,
   "id": "34c74a8c-a5f8-4827-8d65-7d687f79eb1e",
   "metadata": {
    "tags": []
   },
   "outputs": [],
   "source": [
    "# Function to update beds based on accommodates\n",
    "def update_beds(accommodates_value):\n",
    "    return max(1, accommodates_value // 2)"
   ]
  },
  {
   "cell_type": "code",
   "execution_count": 861,
   "id": "a20077f9-b328-4f4d-a9fd-d3af5f551cde",
   "metadata": {
    "tags": []
   },
   "outputs": [],
   "source": [
    "# Apply function to listing3\n",
    "listing3['beds'] = listing3['accommodates'].apply(update_beds)"
   ]
  },
  {
   "cell_type": "code",
   "execution_count": 863,
   "id": "cf2ca343-7e88-4714-8a09-42a6c0736874",
   "metadata": {
    "tags": []
   },
   "outputs": [],
   "source": [
    "# Apply function to listing4\n",
    "listing4['beds'] = listing4['accommodates'].apply(update_beds)"
   ]
  },
  {
   "cell_type": "code",
   "execution_count": 865,
   "id": "1c547729-8723-4d3a-8bc6-63f31bbfb8f5",
   "metadata": {
    "tags": []
   },
   "outputs": [
    {
     "data": {
      "text/plain": [
       "1"
      ]
     },
     "execution_count": 865,
     "metadata": {},
     "output_type": "execute_result"
    }
   ],
   "source": [
    "# Check min value \n",
    "listing3['beds'].min()"
   ]
  },
  {
   "cell_type": "code",
   "execution_count": 867,
   "id": "e530ad11-e364-48d8-a0c9-add18a34b335",
   "metadata": {
    "tags": []
   },
   "outputs": [
    {
     "data": {
      "text/plain": [
       "1"
      ]
     },
     "execution_count": 867,
     "metadata": {},
     "output_type": "execute_result"
    }
   ],
   "source": [
    "# Check min value \n",
    "listing4['beds'].min()"
   ]
  },
  {
   "cell_type": "markdown",
   "id": "98217aec-7ff6-4905-a68f-789d56609f0b",
   "metadata": {},
   "source": [
    "##### Max minimum_nights 1100 seems too high for a short rental"
   ]
  },
  {
   "cell_type": "markdown",
   "id": "7d017af7-943e-4d1d-a7da-2d5847a919f0",
   "metadata": {},
   "source": [
    "##### listing1"
   ]
  },
  {
   "cell_type": "code",
   "execution_count": 869,
   "id": "97444865-0b51-40d2-8416-3b66bde9d6c3",
   "metadata": {
    "tags": []
   },
   "outputs": [],
   "source": [
    "# Calculate mean and st. deviation \n",
    "mean = listing1['minimum_nights'].mean()\n",
    "std = listing1['minimum_nights'].std()"
   ]
  },
  {
   "cell_type": "code",
   "execution_count": 871,
   "id": "b4611bce-bf43-4dbc-a31b-36567a0eeb18",
   "metadata": {
    "tags": []
   },
   "outputs": [],
   "source": [
    "# Z-score\n",
    "listing1['z_score'] = (listing1['minimum_nights'] - mean) / std"
   ]
  },
  {
   "cell_type": "code",
   "execution_count": 873,
   "id": "3d308299-038f-4476-8837-e681f43d248e",
   "metadata": {
    "tags": []
   },
   "outputs": [],
   "source": [
    "# Outliers\n",
    "outliers = listing1[np.abs(listing1['z_score']) > threshold]"
   ]
  },
  {
   "cell_type": "code",
   "execution_count": 595,
   "id": "78e7e442-a50e-44eb-82b9-c21354fe7801",
   "metadata": {
    "tags": []
   },
   "outputs": [],
   "source": [
    "# Printing 'id', 'minimum_nights', 'availability_365' for further investigation\n",
    "to_print = ['id', 'minimum_nights', 'availability_365']"
   ]
  },
  {
   "cell_type": "code",
   "execution_count": 415,
   "id": "5ad91a63-3efa-415e-97a4-510100728788",
   "metadata": {
    "tags": []
   },
   "outputs": [],
   "source": [
    "out = outliers[to_print]"
   ]
  },
  {
   "cell_type": "code",
   "execution_count": 417,
   "id": "9ca58d86-1024-4fd6-b6d0-0840bac02a6f",
   "metadata": {
    "tags": []
   },
   "outputs": [
    {
     "name": "stdout",
     "output_type": "stream",
     "text": [
      "                       id  minimum_nights  availability_365\n",
      "55                 174547             365                 0\n",
      "56                 174560             365                 0\n",
      "57                 174576             365                 0\n",
      "58                 174579             365                 0\n",
      "231                584757            1000               365\n",
      "290                769334             360               363\n",
      "371               1106372            1100                 0\n",
      "426               1318989             300               365\n",
      "815               3584113             800               365\n",
      "911               4003140             500               365\n",
      "973               4314353             355                 0\n",
      "1028              4584283             365               107\n",
      "1411              6670861             700               365\n",
      "1424              6704144            1000               365\n",
      "1648              7682402            1000               365\n",
      "2025              9484672             215               198\n",
      "2026              9484989             215                46\n",
      "2034              9525647             300               138\n",
      "3131             15754825             365               358\n",
      "3155             15935417             300               128\n",
      "3410             17383975             300                87\n",
      "3477             17836549            1000                 0\n",
      "3528             18093451            1000               363\n",
      "3564             18262514             360               364\n",
      "4513             23019052             250               364\n",
      "4772             24820002             300                 0\n",
      "5213             27923447            1000                14\n",
      "5350             28677551            1000                 0\n",
      "5883             32543697             280               182\n",
      "6123             34356661             300                69\n",
      "6133             34431567             270               361\n",
      "7034             40440916             365                90\n",
      "7123             40769909             720                89\n",
      "7188             41140644             500                 0\n",
      "7728             44060500             360               365\n",
      "8242             48398660             365                 0\n",
      "8534             50817730             350                89\n",
      "10636  745598127751751149             215               258\n"
     ]
    }
   ],
   "source": [
    "print(out)"
   ]
  },
  {
   "cell_type": "markdown",
   "id": "c58b5c21-bdae-4a52-8e20-7a6bf1efd1d9",
   "metadata": {},
   "source": [
    "All the outliers listing with 0 availability in the next 365 days have also no reviews online or very old ones, so most likely are not actually available for any tipe of renting."
   ]
  },
  {
   "cell_type": "code",
   "execution_count": 875,
   "id": "036b6ec1-802f-493e-aaa3-199c640d1b03",
   "metadata": {
    "tags": []
   },
   "outputs": [],
   "source": [
    "# To delete\n",
    "delete = outliers.loc[outliers['availability_365'] == 0]"
   ]
  },
  {
   "cell_type": "code",
   "execution_count": 877,
   "id": "e3b308ea-1ca3-49cb-b7fc-5e925c0bfd9f",
   "metadata": {
    "tags": []
   },
   "outputs": [
    {
     "data": {
      "text/plain": [
       "(11, 20)"
      ]
     },
     "execution_count": 877,
     "metadata": {},
     "output_type": "execute_result"
    }
   ],
   "source": [
    "delete.shape"
   ]
  },
  {
   "cell_type": "code",
   "execution_count": 879,
   "id": "e618a3f1-4253-4671-b7c4-34328096bee0",
   "metadata": {
    "tags": []
   },
   "outputs": [],
   "source": [
    "# Drop the values\n",
    "listing1 = listing1.drop(delete.index)"
   ]
  },
  {
   "cell_type": "code",
   "execution_count": 881,
   "id": "e345c02e-ca86-4da5-a9f4-27cafc7dfba1",
   "metadata": {
    "tags": []
   },
   "outputs": [
    {
     "data": {
      "text/plain": [
       "(13119, 20)"
      ]
     },
     "execution_count": 881,
     "metadata": {},
     "output_type": "execute_result"
    }
   ],
   "source": [
    "listing1.shape"
   ]
  },
  {
   "cell_type": "markdown",
   "id": "7b47c3a5-f12a-46ce-8c6b-b04cce95c5d8",
   "metadata": {},
   "source": [
    "##### listing2"
   ]
  },
  {
   "cell_type": "code",
   "execution_count": 883,
   "id": "a34af66a-00f2-4df8-8edc-1a8cf4e221e4",
   "metadata": {
    "tags": []
   },
   "outputs": [],
   "source": [
    "# Calculate mean and st. deviation\n",
    "mean = listing2['minimum_nights'].mean()\n",
    "std = listing2['minimum_nights'].std()"
   ]
  },
  {
   "cell_type": "code",
   "execution_count": 885,
   "id": "543a05b4-2628-4f20-864c-1c9b86c77408",
   "metadata": {
    "tags": []
   },
   "outputs": [],
   "source": [
    "# Z-score\n",
    "listing2['z_score'] = (listing2['minimum_nights'] - mean) / std"
   ]
  },
  {
   "cell_type": "code",
   "execution_count": 887,
   "id": "38b62109-ac15-455d-8f1b-e893ed5bdec9",
   "metadata": {
    "tags": []
   },
   "outputs": [],
   "source": [
    "# Outliers\n",
    "outliers = listing2[np.abs(listing2['z_score']) > threshold]"
   ]
  },
  {
   "cell_type": "code",
   "execution_count": 889,
   "id": "b9ab5f6a-afaf-4a34-8b43-8eeacbf3fb4b",
   "metadata": {
    "tags": []
   },
   "outputs": [],
   "source": [
    "# To delete\n",
    "delete = outliers.loc[outliers['availability_365'] == 0]"
   ]
  },
  {
   "cell_type": "code",
   "execution_count": 891,
   "id": "af5efa29-8fd3-4cc3-9d7b-417a3f2dc70c",
   "metadata": {
    "tags": []
   },
   "outputs": [
    {
     "data": {
      "text/plain": [
       "(13, 20)"
      ]
     },
     "execution_count": 891,
     "metadata": {},
     "output_type": "execute_result"
    }
   ],
   "source": [
    "delete.shape"
   ]
  },
  {
   "cell_type": "code",
   "execution_count": 893,
   "id": "cfe2ce32-82f5-49df-99a0-ab5809b284e1",
   "metadata": {
    "tags": []
   },
   "outputs": [],
   "source": [
    "# Drop the values\n",
    "listing2 = listing2.drop(delete.index)"
   ]
  },
  {
   "cell_type": "code",
   "execution_count": 895,
   "id": "db8fbb13-718a-4c36-ac2c-377a55765736",
   "metadata": {
    "tags": []
   },
   "outputs": [
    {
     "data": {
      "text/plain": [
       "(13312, 20)"
      ]
     },
     "execution_count": 895,
     "metadata": {},
     "output_type": "execute_result"
    }
   ],
   "source": [
    "listing2.shape"
   ]
  },
  {
   "cell_type": "markdown",
   "id": "1a6df456-5559-4e29-b490-c3998b14c572",
   "metadata": {},
   "source": [
    "##### listing3"
   ]
  },
  {
   "cell_type": "code",
   "execution_count": 897,
   "id": "79185b0e-afcc-4882-a366-307ffdf77d31",
   "metadata": {
    "tags": []
   },
   "outputs": [],
   "source": [
    "# Calculate mean and st. deviation for listing3\n",
    "mean = listing3['minimum_nights'].mean()\n",
    "std = listing3['minimum_nights'].std()"
   ]
  },
  {
   "cell_type": "code",
   "execution_count": 899,
   "id": "55bb84b8-8af1-46cb-8849-31c9163aaddd",
   "metadata": {
    "tags": []
   },
   "outputs": [],
   "source": [
    "# Z-score\n",
    "listing3['z_score'] = (listing3['minimum_nights'] - mean) / std"
   ]
  },
  {
   "cell_type": "code",
   "execution_count": 901,
   "id": "06106bd0-37ee-4851-bac6-b284df1eda0c",
   "metadata": {
    "tags": []
   },
   "outputs": [],
   "source": [
    "# Outliers\n",
    "outliers = listing3[np.abs(listing3['z_score']) > threshold]"
   ]
  },
  {
   "cell_type": "code",
   "execution_count": 903,
   "id": "d127a12a-889a-4158-a4e9-24e4117d859a",
   "metadata": {
    "tags": []
   },
   "outputs": [],
   "source": [
    "# to delete\n",
    "delete = outliers.loc[outliers['availability_365'] == 0]"
   ]
  },
  {
   "cell_type": "code",
   "execution_count": 905,
   "id": "55c2edfe-e651-4a05-8c5f-00abc084e676",
   "metadata": {
    "tags": []
   },
   "outputs": [
    {
     "data": {
      "text/plain": [
       "(12, 20)"
      ]
     },
     "execution_count": 905,
     "metadata": {},
     "output_type": "execute_result"
    }
   ],
   "source": [
    "delete.shape"
   ]
  },
  {
   "cell_type": "code",
   "execution_count": 907,
   "id": "e56adb1e-828e-40c6-aa83-3d35b6df3773",
   "metadata": {
    "tags": []
   },
   "outputs": [],
   "source": [
    "# Drop the values \n",
    "listing3 = listing3.drop(delete.index)"
   ]
  },
  {
   "cell_type": "code",
   "execution_count": 909,
   "id": "a95555a4-2f00-4aa3-9de0-6f620b87ccdb",
   "metadata": {
    "tags": []
   },
   "outputs": [
    {
     "data": {
      "text/plain": [
       "(13350, 20)"
      ]
     },
     "execution_count": 909,
     "metadata": {},
     "output_type": "execute_result"
    }
   ],
   "source": [
    "listing3.shape"
   ]
  },
  {
   "cell_type": "code",
   "execution_count": 315,
   "id": "f1b74d08-73b3-4f32-a925-e677071f8fb0",
   "metadata": {
    "tags": []
   },
   "outputs": [
    {
     "data": {
      "text/plain": [
       "Index(['id', 'last_scraped', 'host_id', 'host_location', 'neighbourhood',\n",
       "       'latitude', 'longitude', 'room_type', 'accommodates', 'bedrooms',\n",
       "       'beds', 'price', 'minimum_nights', 'maximum_nights', 'availability_365',\n",
       "       'license', 'instant_bookable', 'host_listings', 'bathrooms', 'license',\n",
       "       'z_score'],\n",
       "      dtype='object')"
      ]
     },
     "execution_count": 315,
     "metadata": {},
     "output_type": "execute_result"
    }
   ],
   "source": [
    "listing3.columns"
   ]
  },
  {
   "cell_type": "markdown",
   "id": "e7fc7bd4-1203-47eb-b953-e7d3c39327fb",
   "metadata": {},
   "source": [
    "##### listing4"
   ]
  },
  {
   "cell_type": "code",
   "execution_count": 911,
   "id": "ecd4581e-5765-4261-8872-9f95541f81f9",
   "metadata": {
    "tags": []
   },
   "outputs": [],
   "source": [
    "# Calculate mean and st. deviation for listing4\n",
    "mean = listing4['minimum_nights'].mean()\n",
    "std = listing4['minimum_nights'].std()"
   ]
  },
  {
   "cell_type": "code",
   "execution_count": 913,
   "id": "5e5dcedc-b8a9-40ae-b968-d234712bd791",
   "metadata": {
    "tags": []
   },
   "outputs": [],
   "source": [
    "# Z-score\n",
    "listing4['z_score'] = (listing4['minimum_nights'] - mean) /std"
   ]
  },
  {
   "cell_type": "code",
   "execution_count": 915,
   "id": "426ee02f-fef4-4a62-99f7-621da5b683d3",
   "metadata": {
    "tags": []
   },
   "outputs": [],
   "source": [
    "# Outliers\n",
    "outiers = listing4[np.abs(listing4['z_score']) > threshold]"
   ]
  },
  {
   "cell_type": "code",
   "execution_count": 917,
   "id": "7c1424d0-15d0-437f-bcbe-77109eb358c6",
   "metadata": {
    "tags": []
   },
   "outputs": [],
   "source": [
    "# to delete\n",
    "delete = outliers.loc[outliers['availability_365'] == 0]"
   ]
  },
  {
   "cell_type": "code",
   "execution_count": 919,
   "id": "7165d49a-fcd1-4bda-abef-0fa43fdab998",
   "metadata": {
    "tags": []
   },
   "outputs": [
    {
     "data": {
      "text/plain": [
       "(12, 20)"
      ]
     },
     "execution_count": 919,
     "metadata": {},
     "output_type": "execute_result"
    }
   ],
   "source": [
    "delete.shape"
   ]
  },
  {
   "cell_type": "code",
   "execution_count": 921,
   "id": "3f8d1e82-73a1-41de-b15d-8a2c488e10f9",
   "metadata": {
    "tags": []
   },
   "outputs": [],
   "source": [
    "# Drop the values \n",
    "listing4 = listing4.drop(delete.index)"
   ]
  },
  {
   "cell_type": "code",
   "execution_count": 923,
   "id": "e22f7ef2-1cd4-4829-ba93-8750af1f1a1e",
   "metadata": {
    "tags": []
   },
   "outputs": [
    {
     "data": {
      "text/plain": [
       "(13746, 20)"
      ]
     },
     "execution_count": 923,
     "metadata": {},
     "output_type": "execute_result"
    }
   ],
   "source": [
    "listing4.shape"
   ]
  },
  {
   "cell_type": "code",
   "execution_count": 925,
   "id": "49ffa227-894e-46d8-bc2c-1cccb6a697f2",
   "metadata": {
    "tags": []
   },
   "outputs": [],
   "source": [
    "# Drop z_score cols. \n",
    "listing1.drop(columns='z_score', axis=1, inplace=True)\n",
    "listing2.drop(columns='z_score', axis=1, inplace=True)\n",
    "listing3.drop(columns='z_score', axis=1, inplace=True)\n",
    "listing4.drop(columns='z_score', axis=1, inplace=True)"
   ]
  },
  {
   "cell_type": "markdown",
   "id": "a6749c07-ec0e-4462-9f39-949520f8ad00",
   "metadata": {},
   "source": [
    "##### Min 0 bathrooms needs further investigation"
   ]
  },
  {
   "cell_type": "code",
   "execution_count": 927,
   "id": "04a1a57a-497a-4651-a678-49b5ce203fb6",
   "metadata": {
    "tags": []
   },
   "outputs": [],
   "source": [
    "# Look for 0 bathrooms in listing1\n",
    "baths = listing1.loc[listing1['bathrooms'] == 0]"
   ]
  },
  {
   "cell_type": "code",
   "execution_count": 508,
   "id": "a14fb686-c67f-45c7-ba4a-c2ac0049c24c",
   "metadata": {
    "tags": []
   },
   "outputs": [],
   "source": [
    "to_print = ['id', 'bathrooms']"
   ]
  },
  {
   "cell_type": "code",
   "execution_count": 511,
   "id": "2849aeef-9185-4cfd-ab93-9ae64df637e8",
   "metadata": {
    "tags": []
   },
   "outputs": [],
   "source": [
    "bath = baths[to_print]"
   ]
  },
  {
   "cell_type": "code",
   "execution_count": 514,
   "id": "60209c20-7d22-4db9-a3eb-a884dbbb9728",
   "metadata": {
    "tags": []
   },
   "outputs": [
    {
     "name": "stdout",
     "output_type": "stream",
     "text": [
      "                       id  bathrooms\n",
      "137                265389        0.0\n",
      "138                265394        0.0\n",
      "139                265402        0.0\n",
      "140                265408        0.0\n",
      "338                926497        0.0\n",
      "733               3088705        0.0\n",
      "737               3108376        0.0\n",
      "738               3108596        0.0\n",
      "739               3108686        0.0\n",
      "740               3109139        0.0\n",
      "1076              4816644        0.0\n",
      "1267              5875924        0.0\n",
      "1348              6322584        0.0\n",
      "4125             20990489        0.0\n",
      "4674             24057633        0.0\n",
      "5052             26839501        0.0\n",
      "5064             26950491        0.0\n",
      "5638             30759237        0.0\n",
      "5795             31817631        0.0\n",
      "6026             33567229        0.0\n",
      "6718             38502596        0.0\n",
      "7187             41130331        0.0\n",
      "7196             41202289        0.0\n",
      "7575             43055810        0.0\n",
      "7853             44590435        0.0\n",
      "7949             45464162        0.0\n",
      "8000             45784088        0.0\n",
      "8001             45792255        0.0\n",
      "8323             49366419        0.0\n",
      "8461             50421582        0.0\n",
      "8685             51549694        0.0\n",
      "8723             51795737        0.0\n",
      "8724             51799775        0.0\n",
      "9262   553304897120069097        0.0\n",
      "9271   556910697070509128        0.0\n",
      "9274   557326707672186127        0.0\n",
      "9662   625728165062677556        0.0\n",
      "10270  697547438357783379        0.0\n",
      "10502  726647292288554125        0.0\n",
      "10543  731812301050933853        0.0\n",
      "11307  830575419710014519        0.0\n",
      "11880  889665580169241551        0.0\n"
     ]
    }
   ],
   "source": [
    "print(bath)"
   ]
  },
  {
   "cell_type": "markdown",
   "id": "71b30ebf-54d6-4897-98c6-80776c48d2ed",
   "metadata": {},
   "source": [
    "After checking the listings on airbnb, I can confirm that the value 0 means that it's a shared communal bathroom. "
   ]
  },
  {
   "cell_type": "markdown",
   "id": "cded1b5c-6fdb-4a48-bc87-ff178149ca1f",
   "metadata": {},
   "source": [
    "##### Checking Max Value for Host Listings"
   ]
  },
  {
   "cell_type": "markdown",
   "id": "df4a4599-b42b-4a55-8ef3-8516b137c4bb",
   "metadata": {},
   "source": [
    "##### listing1"
   ]
  },
  {
   "cell_type": "code",
   "execution_count": 929,
   "id": "0323970b-cadf-43a0-824c-276fda58be4b",
   "metadata": {
    "tags": []
   },
   "outputs": [],
   "source": [
    "# Calculate mean and st. deviation\n",
    "mean = listing1['host_listings'].mean()\n",
    "std = listing1['host_listings'].std()"
   ]
  },
  {
   "cell_type": "code",
   "execution_count": 931,
   "id": "7b87dc36-64b4-4946-bbb0-be4ef25a2c3d",
   "metadata": {
    "tags": []
   },
   "outputs": [],
   "source": [
    "# Z-score\n",
    "listing1['z_score'] = (listing1['host_listings'] - mean) / std"
   ]
  },
  {
   "cell_type": "code",
   "execution_count": 933,
   "id": "3dc94113-dc50-465f-97e1-365cbe9d16fc",
   "metadata": {
    "tags": []
   },
   "outputs": [],
   "source": [
    "# Outliers\n",
    "outliers = listing1[np.abs(listing1['z_score']) > threshold]"
   ]
  },
  {
   "cell_type": "code",
   "execution_count": 657,
   "id": "1749a21f-91e1-4c1b-903a-745a898a2e57",
   "metadata": {
    "tags": []
   },
   "outputs": [
    {
     "data": {
      "text/plain": [
       "434485440    187\n",
       "367035318    114\n",
       "480052472    113\n",
       "Name: host_id, dtype: int64"
      ]
     },
     "execution_count": 657,
     "metadata": {},
     "output_type": "execute_result"
    }
   ],
   "source": [
    "outliers['host_id'].value_counts()"
   ]
  },
  {
   "cell_type": "markdown",
   "id": "7dac4316-bf79-404e-80a4-d21a5ee3409e",
   "metadata": {},
   "source": [
    "Host_id 434485440 is a short-term apartments rental company. 367035318 and 480052472 are not available online anymore, but they had probably a similar purpose. "
   ]
  },
  {
   "cell_type": "markdown",
   "id": "5c1c47cf-a4c0-461b-ae29-7f014bcc554f",
   "metadata": {},
   "source": [
    "##### listing2"
   ]
  },
  {
   "cell_type": "code",
   "execution_count": 935,
   "id": "07a7aa38-e0a8-4b89-908b-4760db4e0163",
   "metadata": {
    "tags": []
   },
   "outputs": [],
   "source": [
    "# Calculate mean and st. deviation\n",
    "mean = listing2['host_listings'].mean()\n",
    "std = listing2['host_listings'].std()"
   ]
  },
  {
   "cell_type": "code",
   "execution_count": 937,
   "id": "25062556-fca3-4c2c-b69b-a76e5e2d78bf",
   "metadata": {
    "tags": []
   },
   "outputs": [],
   "source": [
    "# Z-score\n",
    "listing2['z_score'] = (listing2['host_listings'] - mean) / std"
   ]
  },
  {
   "cell_type": "code",
   "execution_count": 939,
   "id": "f5a0618f-111d-49bf-ac6c-c8d14299b8d4",
   "metadata": {
    "tags": []
   },
   "outputs": [],
   "source": [
    "# Outliers\n",
    "outliers = listing2[np.abs(listing2['z_score']) > threshold]"
   ]
  },
  {
   "cell_type": "code",
   "execution_count": 665,
   "id": "8de4793e-5373-4a50-ab0a-3511e9b9c889",
   "metadata": {
    "tags": []
   },
   "outputs": [
    {
     "data": {
      "text/plain": [
       "434485440    231\n",
       "Name: host_id, dtype: int64"
      ]
     },
     "execution_count": 665,
     "metadata": {},
     "output_type": "execute_result"
    }
   ],
   "source": [
    "outliers['host_id'].value_counts()"
   ]
  },
  {
   "cell_type": "markdown",
   "id": "5380e1ef-ef0e-44d8-ab9b-cf2bed10b285",
   "metadata": {},
   "source": [
    "##### listing3"
   ]
  },
  {
   "cell_type": "code",
   "execution_count": 941,
   "id": "bcfbe903-8de4-45fb-b637-f0b29c0c29a8",
   "metadata": {
    "tags": []
   },
   "outputs": [],
   "source": [
    "# Calculate mean and st. deviation\n",
    "mean = listing3['host_listings'].mean()\n",
    "std = listing3['host_listings'].std()"
   ]
  },
  {
   "cell_type": "code",
   "execution_count": 943,
   "id": "c36f3966-5c2c-456c-b5d0-bf5cfe8894ac",
   "metadata": {
    "tags": []
   },
   "outputs": [],
   "source": [
    "# Z-score\n",
    "listing3['z_score'] = (listing3['host_listings'] - mean) / std"
   ]
  },
  {
   "cell_type": "code",
   "execution_count": 945,
   "id": "2e850670-8859-46f1-8e73-51ddfe454c4f",
   "metadata": {
    "tags": []
   },
   "outputs": [],
   "source": [
    "# Outliers\n",
    "outliers = listing3[listing3['z_score'] > threshold]"
   ]
  },
  {
   "cell_type": "code",
   "execution_count": 673,
   "id": "286293e6-c128-40d7-8313-29b569cc5aa7",
   "metadata": {
    "tags": []
   },
   "outputs": [
    {
     "data": {
      "text/plain": [
       "434485440    255\n",
       "Name: host_id, dtype: int64"
      ]
     },
     "execution_count": 673,
     "metadata": {},
     "output_type": "execute_result"
    }
   ],
   "source": [
    "outliers['host_id'].value_counts()"
   ]
  },
  {
   "cell_type": "markdown",
   "id": "1a0f654c-d77e-4e0e-bf45-5c1d0588e6d0",
   "metadata": {},
   "source": [
    "##### listing4"
   ]
  },
  {
   "cell_type": "code",
   "execution_count": 947,
   "id": "f8e02e54-eb27-480f-8770-ab1bd1858050",
   "metadata": {
    "tags": []
   },
   "outputs": [],
   "source": [
    "# Calculate mean and st. deviation\n",
    "mean = listing4['host_listings'].mean()\n",
    "std = listing4['host_listings'].std()"
   ]
  },
  {
   "cell_type": "code",
   "execution_count": 949,
   "id": "e8099d3e-54c6-4d91-8388-36bbcb706fc8",
   "metadata": {
    "tags": []
   },
   "outputs": [],
   "source": [
    "# Z-score\n",
    "listing4['z_score'] = (listing4['host_listings'] - mean) / std"
   ]
  },
  {
   "cell_type": "code",
   "execution_count": 951,
   "id": "d63afedb-9334-4bf2-8d5f-a40510c34645",
   "metadata": {
    "tags": []
   },
   "outputs": [],
   "source": [
    "# Outliers\n",
    "outliers = listing4[listing4['z_score'] > threshold]"
   ]
  },
  {
   "cell_type": "code",
   "execution_count": 681,
   "id": "57e28a47-2145-4c51-a254-dd8a38b2f2b3",
   "metadata": {
    "tags": []
   },
   "outputs": [
    {
     "data": {
      "text/plain": [
       "434485440    281\n",
       "Name: host_id, dtype: int64"
      ]
     },
     "execution_count": 681,
     "metadata": {},
     "output_type": "execute_result"
    }
   ],
   "source": [
    "outliers['host_id'].value_counts()"
   ]
  },
  {
   "cell_type": "code",
   "execution_count": 953,
   "id": "68bd9d36-69ff-40aa-8f04-08926d7c2ce7",
   "metadata": {
    "tags": []
   },
   "outputs": [],
   "source": [
    "# Drop z_score cols. \n",
    "listing1.drop(columns='z_score', axis=1, inplace=True)\n",
    "listing2.drop(columns='z_score', axis=1, inplace=True)\n",
    "listing3.drop(columns='z_score', axis=1, inplace=True)\n",
    "listing4.drop(columns='z_score', axis=1, inplace=True)"
   ]
  },
  {
   "cell_type": "markdown",
   "id": "747bee3c-3bc8-4d6a-a3ae-55d9d7e58067",
   "metadata": {},
   "source": [
    "### Merge DFs to fill listing2 bedrooms missing values"
   ]
  },
  {
   "cell_type": "code",
   "execution_count": 955,
   "id": "16bd0871-31e0-4c6e-9785-bb20dbc70512",
   "metadata": {
    "tags": []
   },
   "outputs": [],
   "source": [
    "# Merge listing1 and listing2\n",
    "merged1 = listing2.merge(listing1, on='id', how='left')"
   ]
  },
  {
   "cell_type": "code",
   "execution_count": 957,
   "id": "e6a1272e-31e4-47c2-98d2-075033ec9a9d",
   "metadata": {
    "tags": []
   },
   "outputs": [],
   "source": [
    "merged1['bedrooms_x'] = merged1['bedrooms_x'].fillna(merged1['bedrooms_y'])"
   ]
  },
  {
   "cell_type": "code",
   "execution_count": 959,
   "id": "ffb719a6-1dee-429c-a674-4783a7e088d7",
   "metadata": {
    "tags": []
   },
   "outputs": [
    {
     "data": {
      "text/plain": [
       "1525"
      ]
     },
     "execution_count": 959,
     "metadata": {},
     "output_type": "execute_result"
    }
   ],
   "source": [
    "# Look for null values after merging\n",
    "merged1['bedrooms_x'].isnull().sum()"
   ]
  },
  {
   "cell_type": "code",
   "execution_count": 961,
   "id": "9d7394d2-3854-4d2e-a788-8f5a6ee82ba3",
   "metadata": {
    "tags": []
   },
   "outputs": [
    {
     "data": {
      "text/plain": [
       "Index(['id', 'last_scraped_x', 'host_id_x', 'host_location_x',\n",
       "       'neighbourhood_x', 'latitude_x', 'longitude_x', 'room_type_x',\n",
       "       'accommodates_x', 'bedrooms_x', 'beds_x', 'price_x', 'minimum_nights_x',\n",
       "       'maximum_nights_x', 'availability_365_x', 'instant_bookable_x',\n",
       "       'host_listings_x', 'bathrooms_x', 'license_x', 'last_scraped_y',\n",
       "       'host_id_y', 'host_location_y', 'neighbourhood_y', 'latitude_y',\n",
       "       'longitude_y', 'room_type_y', 'accommodates_y', 'bedrooms_y', 'beds_y',\n",
       "       'price_y', 'minimum_nights_y', 'maximum_nights_y', 'availability_365_y',\n",
       "       'instant_bookable_y', 'host_listings_y', 'bathrooms_y', 'license_y'],\n",
       "      dtype='object')"
      ]
     },
     "execution_count": 961,
     "metadata": {},
     "output_type": "execute_result"
    }
   ],
   "source": [
    "merged1.columns"
   ]
  },
  {
   "cell_type": "code",
   "execution_count": 963,
   "id": "d44c5d4b-d678-47a6-8cfa-7cc5a40561ac",
   "metadata": {
    "tags": []
   },
   "outputs": [],
   "source": [
    "# Drop unnecessary columns\n",
    "merged1.drop(columns=['last_scraped_y','host_id_y', 'host_location_y','neighbourhood_y', 'latitude_y','longitude_y', 'room_type_y', 'accommodates_y', 'bedrooms_y', 'beds_y','price_y', 'minimum_nights_y', 'maximum_nights_y', 'availability_365_y','instant_bookable_y', 'host_listings_y', 'bathrooms_y', 'license_y'], axis=1, inplace=True)"
   ]
  },
  {
   "cell_type": "code",
   "execution_count": 965,
   "id": "a55c84cd-4e80-4a4c-ac3a-641511288aba",
   "metadata": {
    "tags": []
   },
   "outputs": [],
   "source": [
    "# Dictionary\n",
    "dict = {'last_scraped_x':'last_scraped', 'host_id_x':'host_id', 'host_location_x':'host_location','neighbourhood_x':'neighbourhood',\n",
    "       'latitude_x':'latitude', 'longitude_x':'longitude', 'room_type_x':'room_type', 'accommodates_x':'accommodates',\n",
    "       'bedrooms_x':'bedrooms', 'beds_x':'beds', 'price_x':'price', 'minimum_nights_x':'minimum_nights',\n",
    "       'maximum_nights_x':'maximum_nights', 'availability_365_x':'availability_365', 'instant_bookable_x':'instant_bookable',\n",
    "       'host_listings_x':'host_listings', 'bathrooms_x':'bathrooms', 'license_x':'license'}"
   ]
  },
  {
   "cell_type": "code",
   "execution_count": 967,
   "id": "9da44abe-c2cc-42b2-9756-4fd0b9fa82fc",
   "metadata": {
    "tags": []
   },
   "outputs": [],
   "source": [
    "# Rename columns\n",
    "merged1.rename(columns=dict, inplace=True)"
   ]
  },
  {
   "cell_type": "code",
   "execution_count": 969,
   "id": "28e02cae-2afb-4539-8ec7-1d851058f78d",
   "metadata": {
    "tags": []
   },
   "outputs": [
    {
     "data": {
      "text/plain": [
       "1.312378043607364"
      ]
     },
     "execution_count": 969,
     "metadata": {},
     "output_type": "execute_result"
    }
   ],
   "source": [
    "# Calculate mean for bedrooms\n",
    "merged1['bedrooms'].mean()"
   ]
  },
  {
   "cell_type": "code",
   "execution_count": 971,
   "id": "e6de9906-2b83-4d6a-bc27-92641198d62a",
   "metadata": {
    "tags": []
   },
   "outputs": [],
   "source": [
    "# Imput mean for bedrooms missing values\n",
    "merged1['bedrooms'] = merged1['bedrooms'].fillna(value=1)"
   ]
  },
  {
   "cell_type": "markdown",
   "id": "bbbce6d9-8c27-429e-b471-b29ea70098c9",
   "metadata": {},
   "source": [
    "#### GeoJson file"
   ]
  },
  {
   "cell_type": "code",
   "execution_count": 973,
   "id": "97baede9-1b37-42a1-ac9b-790ff1a0794d",
   "metadata": {
    "tags": []
   },
   "outputs": [],
   "source": [
    "# Load GeoJson\n",
    "with open(geo, 'r') as f:\n",
    "    geojson_data = json.load(f)"
   ]
  },
  {
   "cell_type": "code",
   "execution_count": 975,
   "id": "3e68231c-11e7-4a54-80c8-0236ca859aea",
   "metadata": {
    "tags": []
   },
   "outputs": [],
   "source": [
    "# Extract names/identifiers from the 'properties'\n",
    "geojson_names = [feature['properties'].get('Gemeinde_name') for feature in geojson_data['features']]"
   ]
  },
  {
   "cell_type": "code",
   "execution_count": 622,
   "id": "2d8e6e6a-eced-498e-beea-bbc58afb25d2",
   "metadata": {
    "tags": []
   },
   "outputs": [
    {
     "name": "stdout",
     "output_type": "stream",
     "text": [
      "['Reinickendorf', 'Charlottenburg-Wilmersdorf', 'Treptow-Köpenick', 'Pankow', 'Neukölln', 'Lichtenberg', 'Marzahn-Hellersdorf', 'Spandau', 'Steglitz-Zehlendorf', 'Mitte', 'Friedrichshain-Kreuzberg', 'Tempelhof-Schöneberg']\n"
     ]
    }
   ],
   "source": [
    "print(geojson_names)"
   ]
  },
  {
   "cell_type": "code",
   "execution_count": 977,
   "id": "a239001e-69a5-4698-9036-d37cd8e494be",
   "metadata": {
    "tags": []
   },
   "outputs": [
    {
     "data": {
      "text/plain": [
       "array(['Pankow', 'Friedrichshain-Kreuzberg', 'Neukölln', 'Mitte',\n",
       "       'Charlottenburg-Wilm.', 'Tempelhof - Schöneberg',\n",
       "       'Treptow - Köpenick', 'Steglitz - Zehlendorf', 'Lichtenberg',\n",
       "       'Marzahn - Hellersdorf', 'Spandau', 'Reinickendorf'], dtype=object)"
      ]
     },
     "execution_count": 977,
     "metadata": {},
     "output_type": "execute_result"
    }
   ],
   "source": [
    "# Check the neighbourhoods variables in listing1 to match the values\n",
    "listing1['neighbourhood'].unique()"
   ]
  },
  {
   "cell_type": "code",
   "execution_count": 979,
   "id": "59c88bb1-7228-49f0-b4b0-9e2a214156cc",
   "metadata": {
    "tags": []
   },
   "outputs": [],
   "source": [
    "# Dictionary\n",
    "dict = {'Charlottenburg-Wilm.':'Charlottenburg-Wilmersdorf', 'Tempelhof - Schöneberg':'Tempelhof-Schöneberg', 'Treptow - Köpenick':'Treptow-Köpenick', 'Steglitz - Zehlendorf':'Steglitz-Zehlendorf', 'Marzahn - Hellersdorf':'Marzahn-Hellersdorf'}"
   ]
  },
  {
   "cell_type": "code",
   "execution_count": 981,
   "id": "238cbf0b-5a78-4b5b-9c49-ba7dd85c784b",
   "metadata": {
    "tags": []
   },
   "outputs": [],
   "source": [
    "# Apply dictionary\n",
    "listing1['neighbourhood'] = listing1['neighbourhood'].replace(dict)\n",
    "merged1['neighbourhood'] = merged1['neighbourhood'].replace(dict)\n",
    "listing3['neighbourhood'] = listing3['neighbourhood'].replace(dict)\n",
    "listing4['neighbourhood'] = listing4['neighbourhood'].replace(dict)"
   ]
  },
  {
   "cell_type": "markdown",
   "id": "cff92258-a613-42d0-a6c2-9286d63b2fd4",
   "metadata": {},
   "source": [
    "## Export Files"
   ]
  },
  {
   "cell_type": "code",
   "execution_count": 983,
   "id": "fb60be03-e283-4bb1-83d9-23a0b52181fc",
   "metadata": {
    "tags": []
   },
   "outputs": [],
   "source": [
    "listing1.to_pickle(os.path.join(path, 'Prepared', 'listing1_clean.pkl'))"
   ]
  },
  {
   "cell_type": "code",
   "execution_count": 985,
   "id": "cb6cf5c2-c2fc-49af-ae03-b736cc8a501a",
   "metadata": {
    "tags": []
   },
   "outputs": [],
   "source": [
    "merged1.to_pickle(os.path.join(path, 'Prepared', 'listing2_clean.pkl'))"
   ]
  },
  {
   "cell_type": "code",
   "execution_count": 987,
   "id": "40a39f40-f54e-401b-a7f8-a52d02b40a58",
   "metadata": {
    "tags": []
   },
   "outputs": [],
   "source": [
    "listing3.to_pickle(os.path.join(path, 'Prepared', 'listing3_clean.pkl'))"
   ]
  },
  {
   "cell_type": "code",
   "execution_count": 989,
   "id": "cff2434b-314f-475a-aa5e-022a62bfa74d",
   "metadata": {
    "tags": []
   },
   "outputs": [],
   "source": [
    "listing4.to_pickle(os.path.join(path, 'Prepared', 'listing4_clean.pkl'))"
   ]
  },
  {
   "cell_type": "markdown",
   "id": "f87d5740-caf5-4acc-a7c5-d8dc9fab2d2e",
   "metadata": {},
   "source": [
    "## Concatenate Dataframes"
   ]
  },
  {
   "cell_type": "code",
   "execution_count": 991,
   "id": "fa956c24-6e0a-467e-8ee8-f056c65c9106",
   "metadata": {
    "tags": []
   },
   "outputs": [],
   "source": [
    "# Concatenate dataframes\n",
    "listing_concat = pd.concat([listing1, merged1, listing3, listing4], ignore_index=True)"
   ]
  },
  {
   "cell_type": "code",
   "execution_count": 993,
   "id": "8edabf10-d097-4fba-b51f-29294e6fef06",
   "metadata": {
    "tags": []
   },
   "outputs": [
    {
     "data": {
      "text/plain": [
       "(53527, 19)"
      ]
     },
     "execution_count": 993,
     "metadata": {},
     "output_type": "execute_result"
    }
   ],
   "source": [
    "listing_concat.shape"
   ]
  },
  {
   "cell_type": "code",
   "execution_count": 995,
   "id": "22ad5b08-e53d-4b04-bcd8-cb5576a013e4",
   "metadata": {
    "tags": []
   },
   "outputs": [
    {
     "data": {
      "text/plain": [
       "Index(['id', 'last_scraped', 'host_id', 'host_location', 'neighbourhood',\n",
       "       'latitude', 'longitude', 'room_type', 'accommodates', 'bedrooms',\n",
       "       'beds', 'price', 'minimum_nights', 'maximum_nights', 'availability_365',\n",
       "       'instant_bookable', 'host_listings', 'bathrooms', 'license'],\n",
       "      dtype='object')"
      ]
     },
     "execution_count": 995,
     "metadata": {},
     "output_type": "execute_result"
    }
   ],
   "source": [
    "listing_concat.columns"
   ]
  },
  {
   "cell_type": "code",
   "execution_count": 997,
   "id": "4a89a239-a286-42a9-bbbe-ae0a50c33ee1",
   "metadata": {
    "tags": []
   },
   "outputs": [
    {
     "data": {
      "text/html": [
       "<div>\n",
       "<style scoped>\n",
       "    .dataframe tbody tr th:only-of-type {\n",
       "        vertical-align: middle;\n",
       "    }\n",
       "\n",
       "    .dataframe tbody tr th {\n",
       "        vertical-align: top;\n",
       "    }\n",
       "\n",
       "    .dataframe thead th {\n",
       "        text-align: right;\n",
       "    }\n",
       "</style>\n",
       "<table border=\"1\" class=\"dataframe\">\n",
       "  <thead>\n",
       "    <tr style=\"text-align: right;\">\n",
       "      <th></th>\n",
       "      <th>latitude</th>\n",
       "      <th>longitude</th>\n",
       "      <th>accommodates</th>\n",
       "      <th>bedrooms</th>\n",
       "      <th>beds</th>\n",
       "      <th>price</th>\n",
       "      <th>minimum_nights</th>\n",
       "      <th>maximum_nights</th>\n",
       "      <th>availability_365</th>\n",
       "      <th>host_listings</th>\n",
       "      <th>bathrooms</th>\n",
       "    </tr>\n",
       "  </thead>\n",
       "  <tbody>\n",
       "    <tr>\n",
       "      <th>count</th>\n",
       "      <td>53527.000000</td>\n",
       "      <td>53527.000000</td>\n",
       "      <td>53527.000000</td>\n",
       "      <td>53527.000000</td>\n",
       "      <td>53527.000000</td>\n",
       "      <td>53527.000000</td>\n",
       "      <td>53527.000000</td>\n",
       "      <td>53527.000000</td>\n",
       "      <td>53527.000000</td>\n",
       "      <td>53527.000000</td>\n",
       "      <td>53527.000000</td>\n",
       "    </tr>\n",
       "    <tr>\n",
       "      <th>mean</th>\n",
       "      <td>52.509679</td>\n",
       "      <td>13.402454</td>\n",
       "      <td>2.953239</td>\n",
       "      <td>1.291049</td>\n",
       "      <td>1.647393</td>\n",
       "      <td>120.682272</td>\n",
       "      <td>41.983149</td>\n",
       "      <td>610.596577</td>\n",
       "      <td>123.936499</td>\n",
       "      <td>9.936574</td>\n",
       "      <td>1.137725</td>\n",
       "    </tr>\n",
       "    <tr>\n",
       "      <th>std</th>\n",
       "      <td>0.033590</td>\n",
       "      <td>0.067064</td>\n",
       "      <td>1.874246</td>\n",
       "      <td>0.726829</td>\n",
       "      <td>1.198251</td>\n",
       "      <td>111.890354</td>\n",
       "      <td>51.370580</td>\n",
       "      <td>488.008174</td>\n",
       "      <td>132.092173</td>\n",
       "      <td>34.560510</td>\n",
       "      <td>0.410125</td>\n",
       "    </tr>\n",
       "    <tr>\n",
       "      <th>min</th>\n",
       "      <td>52.340190</td>\n",
       "      <td>13.107580</td>\n",
       "      <td>1.000000</td>\n",
       "      <td>0.000000</td>\n",
       "      <td>1.000000</td>\n",
       "      <td>8.000000</td>\n",
       "      <td>1.000000</td>\n",
       "      <td>1.000000</td>\n",
       "      <td>0.000000</td>\n",
       "      <td>1.000000</td>\n",
       "      <td>0.000000</td>\n",
       "    </tr>\n",
       "    <tr>\n",
       "      <th>25%</th>\n",
       "      <td>52.490265</td>\n",
       "      <td>13.363385</td>\n",
       "      <td>2.000000</td>\n",
       "      <td>1.000000</td>\n",
       "      <td>1.000000</td>\n",
       "      <td>72.000000</td>\n",
       "      <td>2.000000</td>\n",
       "      <td>100.000000</td>\n",
       "      <td>0.000000</td>\n",
       "      <td>1.000000</td>\n",
       "      <td>1.000000</td>\n",
       "    </tr>\n",
       "    <tr>\n",
       "      <th>50%</th>\n",
       "      <td>52.509570</td>\n",
       "      <td>13.411290</td>\n",
       "      <td>2.000000</td>\n",
       "      <td>1.000000</td>\n",
       "      <td>1.000000</td>\n",
       "      <td>99.000000</td>\n",
       "      <td>6.000000</td>\n",
       "      <td>365.000000</td>\n",
       "      <td>74.000000</td>\n",
       "      <td>1.000000</td>\n",
       "      <td>1.000000</td>\n",
       "    </tr>\n",
       "    <tr>\n",
       "      <th>75%</th>\n",
       "      <td>52.532370</td>\n",
       "      <td>13.438265</td>\n",
       "      <td>4.000000</td>\n",
       "      <td>1.000000</td>\n",
       "      <td>2.000000</td>\n",
       "      <td>128.000000</td>\n",
       "      <td>92.000000</td>\n",
       "      <td>1125.000000</td>\n",
       "      <td>255.000000</td>\n",
       "      <td>3.000000</td>\n",
       "      <td>1.000000</td>\n",
       "    </tr>\n",
       "    <tr>\n",
       "      <th>max</th>\n",
       "      <td>52.656110</td>\n",
       "      <td>13.721390</td>\n",
       "      <td>16.000000</td>\n",
       "      <td>15.000000</td>\n",
       "      <td>29.000000</td>\n",
       "      <td>3429.000000</td>\n",
       "      <td>1000.000000</td>\n",
       "      <td>9999.000000</td>\n",
       "      <td>365.000000</td>\n",
       "      <td>281.000000</td>\n",
       "      <td>15.000000</td>\n",
       "    </tr>\n",
       "  </tbody>\n",
       "</table>\n",
       "</div>"
      ],
      "text/plain": [
       "           latitude     longitude  accommodates      bedrooms          beds  \\\n",
       "count  53527.000000  53527.000000  53527.000000  53527.000000  53527.000000   \n",
       "mean      52.509679     13.402454      2.953239      1.291049      1.647393   \n",
       "std        0.033590      0.067064      1.874246      0.726829      1.198251   \n",
       "min       52.340190     13.107580      1.000000      0.000000      1.000000   \n",
       "25%       52.490265     13.363385      2.000000      1.000000      1.000000   \n",
       "50%       52.509570     13.411290      2.000000      1.000000      1.000000   \n",
       "75%       52.532370     13.438265      4.000000      1.000000      2.000000   \n",
       "max       52.656110     13.721390     16.000000     15.000000     29.000000   \n",
       "\n",
       "              price  minimum_nights  maximum_nights  availability_365  \\\n",
       "count  53527.000000    53527.000000    53527.000000      53527.000000   \n",
       "mean     120.682272       41.983149      610.596577        123.936499   \n",
       "std      111.890354       51.370580      488.008174        132.092173   \n",
       "min        8.000000        1.000000        1.000000          0.000000   \n",
       "25%       72.000000        2.000000      100.000000          0.000000   \n",
       "50%       99.000000        6.000000      365.000000         74.000000   \n",
       "75%      128.000000       92.000000     1125.000000        255.000000   \n",
       "max     3429.000000     1000.000000     9999.000000        365.000000   \n",
       "\n",
       "       host_listings     bathrooms  \n",
       "count   53527.000000  53527.000000  \n",
       "mean        9.936574      1.137725  \n",
       "std        34.560510      0.410125  \n",
       "min         1.000000      0.000000  \n",
       "25%         1.000000      1.000000  \n",
       "50%         1.000000      1.000000  \n",
       "75%         3.000000      1.000000  \n",
       "max       281.000000     15.000000  "
      ]
     },
     "execution_count": 997,
     "metadata": {},
     "output_type": "execute_result"
    }
   ],
   "source": [
    "# Summary Statistics\n",
    "listing_concat.describe()"
   ]
  },
  {
   "cell_type": "code",
   "execution_count": 999,
   "id": "2d124a1b-1fe6-47ca-bab0-7f5eb34bd47e",
   "metadata": {
    "tags": []
   },
   "outputs": [],
   "source": [
    "# Export concatenated file\n",
    "listing_concat.to_pickle(os.path.join(path, 'Prepared', 'list_concat.pkl'))"
   ]
  }
 ],
 "metadata": {
  "kernelspec": {
   "display_name": "Python 3 (ipykernel)",
   "language": "python",
   "name": "python3"
  },
  "language_info": {
   "codemirror_mode": {
    "name": "ipython",
    "version": 3
   },
   "file_extension": ".py",
   "mimetype": "text/x-python",
   "name": "python",
   "nbconvert_exporter": "python",
   "pygments_lexer": "ipython3",
   "version": "3.11.8"
  }
 },
 "nbformat": 4,
 "nbformat_minor": 5
}
